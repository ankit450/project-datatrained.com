{
 "cells": [
  {
   "cell_type": "code",
   "execution_count": 1,
   "metadata": {},
   "outputs": [],
   "source": [
    "import pandas as pd\n",
    "import numpy as np\n",
    "import matplotlib.pyplot as plt\n",
    "import seaborn as sns\n",
    "from sklearn.model_selection import train_test_split\n",
    "from sklearn.preprocessing import LabelEncoder # formating data categorical to numerical\n",
    "# import all classification algorithm to choose best performing model\n",
    "from sklearn.naive_bayes import GaussianNB\n",
    "from sklearn.tree import DecisionTreeClassifier\n",
    "from sklearn.neighbors import KNeighborsClassifier\n",
    "from sklearn.svm import  SVC\n",
    "from sklearn.decomposition import PCA\n",
    "from sklearn.metrics import confusion_matrix,accuracy_score,classification_report\n",
    "from sklearn.preprocessing import StandardScaler\n",
    "from sklearn.ensemble import RandomForestClassifier\n",
    "from sklearn.linear_model import LogisticRegression\n",
    "import warnings\n",
    "warnings.filterwarnings('ignore')"
   ]
  },
  {
   "cell_type": "markdown",
   "metadata": {},
   "source": [
    "# Project Name :- Car Evaluation model\n",
    "- The Car Evaluation Database contains examples with the structural information removed, i.e., directly relates CAR to the six     input attributes: buying, maint, doors, persons, lug_boot, safety.\n",
    "\n",
    "## The model evaluates cars according to the following concept structure:-\n",
    "\n",
    "- CAR car acceptability\n",
    "- PRICE overall price\n",
    "- buying buying price\n",
    "- maint price of the maintenance\n",
    "- TECH technical characteristics\n",
    "- COMFORT comfort\n",
    "- doors number of doors\n",
    "- persons capacity in terms of persons to carry\n",
    "- lug_boot the size of luggage boot\n",
    "- safety estimated safety of the car\n",
    "\n",
    "## Input Attribute Information:-\n",
    "\n",
    "- buying: vhigh, high, med, low.\n",
    "- maint: vhigh, high, med, low.\n",
    "- doors: 2, 3, 4, 5more.\n",
    "- persons: 2, 4, more.\n",
    "- lug_boot: small, med, big.\n",
    "- safety: low, med, high.\n",
    "\n",
    "## Target Attributes Information:-\n",
    "- Class Values: car class\n",
    "- unacc, acc, good, vgood"
   ]
  },
  {
   "cell_type": "markdown",
   "metadata": {},
   "source": [
    "## Step 1: Exploratory data analysis (EDA)\n",
    "- read & preview the dataset\n",
    "- variable identification # looking the input data # what will be the output variable\n",
    "- univariate analysis - tacking small small variable and plot bar chart and finding histogram\n",
    "- Bivariate analysis - tacking two column or two variable and looking the relationship between the,and also find correlation       and covariance within two variable\n",
    "- handling and removing null values- missing data\n",
    "- Handling Categorical Variabl\n",
    "- finding and removing outliers"
   ]
  },
  {
   "cell_type": "code",
   "execution_count": 2,
   "metadata": {},
   "outputs": [],
   "source": [
    "# Loading the dataset.\n",
    "car = pd.read_csv('car_Evaluation.csv')"
   ]
  },
  {
   "cell_type": "code",
   "execution_count": 3,
   "metadata": {},
   "outputs": [
    {
     "data": {
      "text/html": [
       "<div>\n",
       "<style scoped>\n",
       "    .dataframe tbody tr th:only-of-type {\n",
       "        vertical-align: middle;\n",
       "    }\n",
       "\n",
       "    .dataframe tbody tr th {\n",
       "        vertical-align: top;\n",
       "    }\n",
       "\n",
       "    .dataframe thead th {\n",
       "        text-align: right;\n",
       "    }\n",
       "</style>\n",
       "<table border=\"1\" class=\"dataframe\">\n",
       "  <thead>\n",
       "    <tr style=\"text-align: right;\">\n",
       "      <th></th>\n",
       "      <th>Unnamed: 0</th>\n",
       "      <th>buying</th>\n",
       "      <th>maint</th>\n",
       "      <th>doors</th>\n",
       "      <th>persons</th>\n",
       "      <th>lug_boot</th>\n",
       "      <th>safety</th>\n",
       "      <th>class</th>\n",
       "    </tr>\n",
       "  </thead>\n",
       "  <tbody>\n",
       "    <tr>\n",
       "      <th>0</th>\n",
       "      <td>0</td>\n",
       "      <td>vhigh</td>\n",
       "      <td>vhigh</td>\n",
       "      <td>2</td>\n",
       "      <td>2</td>\n",
       "      <td>small</td>\n",
       "      <td>low</td>\n",
       "      <td>unacc</td>\n",
       "    </tr>\n",
       "    <tr>\n",
       "      <th>1</th>\n",
       "      <td>1</td>\n",
       "      <td>vhigh</td>\n",
       "      <td>vhigh</td>\n",
       "      <td>2</td>\n",
       "      <td>2</td>\n",
       "      <td>small</td>\n",
       "      <td>med</td>\n",
       "      <td>unacc</td>\n",
       "    </tr>\n",
       "    <tr>\n",
       "      <th>2</th>\n",
       "      <td>2</td>\n",
       "      <td>vhigh</td>\n",
       "      <td>vhigh</td>\n",
       "      <td>2</td>\n",
       "      <td>2</td>\n",
       "      <td>small</td>\n",
       "      <td>high</td>\n",
       "      <td>unacc</td>\n",
       "    </tr>\n",
       "    <tr>\n",
       "      <th>3</th>\n",
       "      <td>3</td>\n",
       "      <td>vhigh</td>\n",
       "      <td>vhigh</td>\n",
       "      <td>2</td>\n",
       "      <td>2</td>\n",
       "      <td>med</td>\n",
       "      <td>low</td>\n",
       "      <td>unacc</td>\n",
       "    </tr>\n",
       "    <tr>\n",
       "      <th>4</th>\n",
       "      <td>4</td>\n",
       "      <td>vhigh</td>\n",
       "      <td>vhigh</td>\n",
       "      <td>2</td>\n",
       "      <td>2</td>\n",
       "      <td>med</td>\n",
       "      <td>med</td>\n",
       "      <td>unacc</td>\n",
       "    </tr>\n",
       "  </tbody>\n",
       "</table>\n",
       "</div>"
      ],
      "text/plain": [
       "   Unnamed: 0 buying  maint doors persons lug_boot safety  class\n",
       "0           0  vhigh  vhigh     2       2    small    low  unacc\n",
       "1           1  vhigh  vhigh     2       2    small    med  unacc\n",
       "2           2  vhigh  vhigh     2       2    small   high  unacc\n",
       "3           3  vhigh  vhigh     2       2      med    low  unacc\n",
       "4           4  vhigh  vhigh     2       2      med    med  unacc"
      ]
     },
     "execution_count": 3,
     "metadata": {},
     "output_type": "execute_result"
    }
   ],
   "source": [
    "# preview the dataset\n",
    "car.head()"
   ]
  },
  {
   "cell_type": "code",
   "execution_count": 4,
   "metadata": {},
   "outputs": [
    {
     "data": {
      "text/plain": [
       "Unnamed: 0     int64\n",
       "buying        object\n",
       "maint         object\n",
       "doors         object\n",
       "persons       object\n",
       "lug_boot      object\n",
       "safety        object\n",
       "class         object\n",
       "dtype: object"
      ]
     },
     "execution_count": 4,
     "metadata": {},
     "output_type": "execute_result"
    }
   ],
   "source": [
    "# let's check the datatypes of all feature which present in dataset\n",
    "\n",
    "car.dtypes\n",
    "\n",
    "# as we see below all feature in categorical form "
   ]
  },
  {
   "cell_type": "code",
   "execution_count": 5,
   "metadata": {},
   "outputs": [
    {
     "name": "stdout",
     "output_type": "stream",
     "text": [
      "<class 'pandas.core.frame.DataFrame'>\n",
      "RangeIndex: 1728 entries, 0 to 1727\n",
      "Data columns (total 8 columns):\n",
      " #   Column      Non-Null Count  Dtype \n",
      "---  ------      --------------  ----- \n",
      " 0   Unnamed: 0  1728 non-null   int64 \n",
      " 1   buying      1728 non-null   object\n",
      " 2   maint       1728 non-null   object\n",
      " 3   doors       1728 non-null   object\n",
      " 4   persons     1728 non-null   object\n",
      " 5   lug_boot    1728 non-null   object\n",
      " 6   safety      1728 non-null   object\n",
      " 7   class       1728 non-null   object\n",
      "dtypes: int64(1), object(7)\n",
      "memory usage: 108.1+ KB\n"
     ]
    }
   ],
   "source": [
    "# Information about the data columns\n",
    "car.info()"
   ]
  },
  {
   "cell_type": "code",
   "execution_count": 6,
   "metadata": {},
   "outputs": [],
   "source": [
    "# let's drop unnamed column ecause it's not useful for prediction\n",
    "car.drop(columns='Unnamed: 0',axis=1,inplace=True)"
   ]
  },
  {
   "cell_type": "code",
   "execution_count": 7,
   "metadata": {},
   "outputs": [
    {
     "data": {
      "text/html": [
       "<div>\n",
       "<style scoped>\n",
       "    .dataframe tbody tr th:only-of-type {\n",
       "        vertical-align: middle;\n",
       "    }\n",
       "\n",
       "    .dataframe tbody tr th {\n",
       "        vertical-align: top;\n",
       "    }\n",
       "\n",
       "    .dataframe thead th {\n",
       "        text-align: right;\n",
       "    }\n",
       "</style>\n",
       "<table border=\"1\" class=\"dataframe\">\n",
       "  <thead>\n",
       "    <tr style=\"text-align: right;\">\n",
       "      <th></th>\n",
       "      <th>buying</th>\n",
       "      <th>maint</th>\n",
       "      <th>doors</th>\n",
       "      <th>persons</th>\n",
       "      <th>lug_boot</th>\n",
       "      <th>safety</th>\n",
       "      <th>class</th>\n",
       "    </tr>\n",
       "  </thead>\n",
       "  <tbody>\n",
       "    <tr>\n",
       "      <th>0</th>\n",
       "      <td>vhigh</td>\n",
       "      <td>vhigh</td>\n",
       "      <td>2</td>\n",
       "      <td>2</td>\n",
       "      <td>small</td>\n",
       "      <td>low</td>\n",
       "      <td>unacc</td>\n",
       "    </tr>\n",
       "    <tr>\n",
       "      <th>1</th>\n",
       "      <td>vhigh</td>\n",
       "      <td>vhigh</td>\n",
       "      <td>2</td>\n",
       "      <td>2</td>\n",
       "      <td>small</td>\n",
       "      <td>med</td>\n",
       "      <td>unacc</td>\n",
       "    </tr>\n",
       "    <tr>\n",
       "      <th>2</th>\n",
       "      <td>vhigh</td>\n",
       "      <td>vhigh</td>\n",
       "      <td>2</td>\n",
       "      <td>2</td>\n",
       "      <td>small</td>\n",
       "      <td>high</td>\n",
       "      <td>unacc</td>\n",
       "    </tr>\n",
       "    <tr>\n",
       "      <th>3</th>\n",
       "      <td>vhigh</td>\n",
       "      <td>vhigh</td>\n",
       "      <td>2</td>\n",
       "      <td>2</td>\n",
       "      <td>med</td>\n",
       "      <td>low</td>\n",
       "      <td>unacc</td>\n",
       "    </tr>\n",
       "    <tr>\n",
       "      <th>4</th>\n",
       "      <td>vhigh</td>\n",
       "      <td>vhigh</td>\n",
       "      <td>2</td>\n",
       "      <td>2</td>\n",
       "      <td>med</td>\n",
       "      <td>med</td>\n",
       "      <td>unacc</td>\n",
       "    </tr>\n",
       "  </tbody>\n",
       "</table>\n",
       "</div>"
      ],
      "text/plain": [
       "  buying  maint doors persons lug_boot safety  class\n",
       "0  vhigh  vhigh     2       2    small    low  unacc\n",
       "1  vhigh  vhigh     2       2    small    med  unacc\n",
       "2  vhigh  vhigh     2       2    small   high  unacc\n",
       "3  vhigh  vhigh     2       2      med    low  unacc\n",
       "4  vhigh  vhigh     2       2      med    med  unacc"
      ]
     },
     "execution_count": 7,
     "metadata": {},
     "output_type": "execute_result"
    }
   ],
   "source": [
    "car.head()"
   ]
  },
  {
   "cell_type": "code",
   "execution_count": 8,
   "metadata": {},
   "outputs": [
    {
     "name": "stdout",
     "output_type": "stream",
     "text": [
      "total number of null values:\n",
      " buying      0\n",
      "maint       0\n",
      "doors       0\n",
      "persons     0\n",
      "lug_boot    0\n",
      "safety      0\n",
      "class       0\n",
      "dtype: int64\n",
      "\n",
      "\n",
      "total number of Nan values:\n",
      " buying      0\n",
      "maint       0\n",
      "doors       0\n",
      "persons     0\n",
      "lug_boot    0\n",
      "safety      0\n",
      "class       0\n",
      "dtype: int64\n"
     ]
    }
   ],
   "source": [
    "# let's finding null and nan values whether it is available in Loan dataset or not.\n",
    "\n",
    "print('total number of null values:\\n',car.isnull().sum())\n",
    "print('\\n')\n",
    "print('total number of Nan values:\\n',car.isna().sum())\n"
   ]
  },
  {
   "cell_type": "code",
   "execution_count": 9,
   "metadata": {},
   "outputs": [
    {
     "data": {
      "text/plain": [
       "<matplotlib.axes._subplots.AxesSubplot at 0x25e493a2e48>"
      ]
     },
     "execution_count": 9,
     "metadata": {},
     "output_type": "execute_result"
    },
    {
     "data": {
      "image/png": "[encoded data removed]",
      "text/plain": [
       "<Figure size 432x288 with 2 Axes>"
      ]
     },
     "metadata": {
      "needs_background": "light"
     },
     "output_type": "display_data"
    }
   ],
   "source": [
    "# let's visualize null values using heatmap\n",
    "\n",
    "sns.heatmap(car.isnull(),cmap='Greens')\n",
    "\n",
    "# from the below heatmap we can say that missing values not present in the dataset"
   ]
  },
  {
   "cell_type": "code",
   "execution_count": 10,
   "metadata": {},
   "outputs": [
    {
     "name": "stdout",
     "output_type": "stream",
     "text": [
      "['vhigh' 'high' 'med' 'low'] \t 4\n",
      "['vhigh' 'high' 'med' 'low'] \t 4\n",
      "['2' '3' '4' '5more'] \t 4\n",
      "['2' '4' 'more'] \t 3\n",
      "['small' 'med' 'big'] \t 3\n",
      "['low' 'med' 'high'] \t 3\n",
      "['unacc' 'acc' 'vgood' 'good'] \t 4\n"
     ]
    }
   ],
   "source": [
    "# let's check As all the columns are categorical, check for unique values of each column\n",
    "\n",
    "for i in car.columns:\n",
    "    print(car[i].unique(),\"\\t\",car[i].nunique())"
   ]
  },
  {
   "cell_type": "code",
   "execution_count": 11,
   "metadata": {},
   "outputs": [
    {
     "name": "stdout",
     "output_type": "stream",
     "text": [
      "low      432\n",
      "high     432\n",
      "vhigh    432\n",
      "med      432\n",
      "Name: buying, dtype: int64\n",
      "\n",
      "\n",
      "low      432\n",
      "high     432\n",
      "vhigh    432\n",
      "med      432\n",
      "Name: maint, dtype: int64\n",
      "\n",
      "\n",
      "5more    432\n",
      "2        432\n",
      "4        432\n",
      "3        432\n",
      "Name: doors, dtype: int64\n",
      "\n",
      "\n",
      "more    576\n",
      "2       576\n",
      "4       576\n",
      "Name: persons, dtype: int64\n",
      "\n",
      "\n",
      "big      576\n",
      "small    576\n",
      "med      576\n",
      "Name: lug_boot, dtype: int64\n",
      "\n",
      "\n",
      "low     576\n",
      "high    576\n",
      "med     576\n",
      "Name: safety, dtype: int64\n",
      "\n",
      "\n",
      "unacc    1210\n",
      "acc       384\n",
      "good       69\n",
      "vgood      65\n",
      "Name: class, dtype: int64\n",
      "\n",
      "\n"
     ]
    }
   ],
   "source": [
    "# Check how these unique categories are distributed among the columns\n",
    "for i in car.columns:\n",
    "    print(car[i].value_counts())\n",
    "    print('\\n')\n",
    "    \n",
    "# as per the below data we can say that all the columns except class distributed equally."
   ]
  },
  {
   "cell_type": "markdown",
   "metadata": {},
   "source": [
    "# Key Observation :-\n",
    "- The car dataset has 1728 rows with 7  features.\n",
    "- in which class feature name is our dependent variable.\n",
    "- the heatmap and data information confirms , their is no missing values in the dataset \n",
    "- we seen above at class Feature, we notice that only 384 acc car out of 1728.\n",
    "- all columns categorical in nature"
   ]
  },
  {
   "cell_type": "code",
   "execution_count": 12,
   "metadata": {},
   "outputs": [
    {
     "data": {
      "text/plain": [
       "<matplotlib.axes._subplots.AxesSubplot at 0x25e491647c8>"
      ]
     },
     "execution_count": 12,
     "metadata": {},
     "output_type": "execute_result"
    },
    {
     "data": {
      "image/png": "[encoded data removed]",
      "text/plain": [
       "<Figure size 432x288 with 1 Axes>"
      ]
     },
     "metadata": {
      "needs_background": "light"
     },
     "output_type": "display_data"
    }
   ],
   "source": [
    "# Let's see  at the Class variable to know whether the dataset balance or not \n",
    "\n",
    "sns.countplot(x='class',data=car)\n",
    "\n",
    "# from the below graph we can say that the target varible 'class' is unbalanced because no. of unacc value is high. \n",
    "# So, this is an unbalanced multiclass classification problem"
   ]
  },
  {
   "cell_type": "markdown",
   "metadata": {},
   "source": [
    "# Bivariate analysis - tacking two column or two variable and looking the relationship between them,and also find correlation and covariance within two variable"
   ]
  },
  {
   "cell_type": "code",
   "execution_count": 13,
   "metadata": {},
   "outputs": [
    {
     "data": {
      "text/plain": [
       "Text(0.5, 1.0, 'Class/buying')"
      ]
     },
     "execution_count": 13,
     "metadata": {},
     "output_type": "execute_result"
    },
    {
     "data": {
      "image/png": "[encoded data removed]",
      "text/plain": [
       "<Figure size 720x432 with 1 Axes>"
      ]
     },
     "metadata": {
      "needs_background": "light"
     },
     "output_type": "display_data"
    }
   ],
   "source": [
    "# lets check how the class feature distributed with other features in the dataset\n",
    "\n",
    "plt.figure(figsize=(10,6))\n",
    "sns.countplot(x='buying',hue='class',data=car)\n",
    "plt.title(\"Class/buying\")\n",
    "\n",
    "# as per the below graph we say that acc class acceptability is high where buying price is medium as compare very high buying price\n",
    "# and also vgood and good class acceptability high where buying price is low"
   ]
  },
  {
   "cell_type": "code",
   "execution_count": 14,
   "metadata": {},
   "outputs": [
    {
     "data": {
      "text/plain": [
       "Text(0.5, 1.0, 'Class with maintenance Price')"
      ]
     },
     "execution_count": 14,
     "metadata": {},
     "output_type": "execute_result"
    },
    {
     "data": {
      "image/png": "[encoded data removed]",
      "text/plain": [
       "<Figure size 720x432 with 1 Axes>"
      ]
     },
     "metadata": {
      "needs_background": "light"
     },
     "output_type": "display_data"
    }
   ],
   "source": [
    "# lets check how the class feature distributed with other features in the dataset\n",
    "\n",
    "plt.figure(figsize=(10,6))\n",
    "sns.countplot(x='maint',hue='class',data=car)\n",
    "plt.title(\"Class with maintenance Price\")\n",
    "\n",
    "# as per the below graph we say that acc class acceptability is high whether maintenance price is medium as compare very high buying price\n",
    "# and also good class acceptability high where maintenance price is low"
   ]
  },
  {
   "cell_type": "code",
   "execution_count": 15,
   "metadata": {},
   "outputs": [
    {
     "data": {
      "text/plain": [
       "Text(0.5, 1.0, 'no. of doors')"
      ]
     },
     "execution_count": 15,
     "metadata": {},
     "output_type": "execute_result"
    },
    {
     "data": {
      "image/png": "[encoded data removed]",
      "text/plain": [
       "<Figure size 720x432 with 1 Axes>"
      ]
     },
     "metadata": {
      "needs_background": "light"
     },
     "output_type": "display_data"
    }
   ],
   "source": [
    "# lets check how the class feature distributed with other features in the dataset\n",
    "\n",
    "plt.figure(figsize=(10,6))\n",
    "sns.countplot(x='doors',hue='class',data=car)\n",
    "plt.title(\"no. of doors\")\n",
    "\n",
    "# as per the below graph we say that acc class acceptability is low where car has 2  doors. "
   ]
  },
  {
   "cell_type": "code",
   "execution_count": 16,
   "metadata": {},
   "outputs": [
    {
     "data": {
      "text/plain": [
       "Text(0.5, 1.0, 'No. of persons')"
      ]
     },
     "execution_count": 16,
     "metadata": {},
     "output_type": "execute_result"
    },
    {
     "data": {
      "image/png": "[encoded data removed]",
      "text/plain": [
       "<Figure size 720x432 with 1 Axes>"
      ]
     },
     "metadata": {
      "needs_background": "light"
     },
     "output_type": "display_data"
    }
   ],
   "source": [
    "# lets check how the class feature distributed with other features in the dataset\n",
    "\n",
    "plt.figure(figsize=(10,6))\n",
    "sns.countplot(x='persons',hue='class',data=car)\n",
    "plt.title(\"No. of persons\")\n",
    "\n",
    "# as per the below graph we say that unacc class is high whether  persons capacity is 2 as compare 4 persons.\n",
    "# and acc car class is high whether persons carring capacity is 4 or more."
   ]
  },
  {
   "cell_type": "code",
   "execution_count": 17,
   "metadata": {},
   "outputs": [
    {
     "data": {
      "text/plain": [
       "Text(0.5, 1.0, 'luggage boot')"
      ]
     },
     "execution_count": 17,
     "metadata": {},
     "output_type": "execute_result"
    },
    {
     "data": {
      "image/png": "[encoded data removed]",
      "text/plain": [
       "<Figure size 720x432 with 1 Axes>"
      ]
     },
     "metadata": {
      "needs_background": "light"
     },
     "output_type": "display_data"
    }
   ],
   "source": [
    "# lets check how the class feature distributed with other features in the dataset\n",
    "\n",
    "plt.figure(figsize=(10,6))\n",
    "sns.countplot(x='lug_boot',hue='class',data=car)\n",
    "plt.title(\"luggage boot\")\n",
    "\n",
    "# as per the below graph we say that the luggage boot size is big in the class acc and vgood.\n",
    "# as compare small luggage boot counts"
   ]
  },
  {
   "cell_type": "code",
   "execution_count": 18,
   "metadata": {},
   "outputs": [
    {
     "data": {
      "text/plain": [
       "Text(0.5, 1.0, 'Class vs Safety')"
      ]
     },
     "execution_count": 18,
     "metadata": {},
     "output_type": "execute_result"
    },
    {
     "data": {
      "image/png": "[encoded data removed]",
      "text/plain": [
       "<Figure size 720x432 with 1 Axes>"
      ]
     },
     "metadata": {
      "needs_background": "light"
     },
     "output_type": "display_data"
    }
   ],
   "source": [
    "# lets check how the class feature distributed with other features in the dataset\n",
    "\n",
    "plt.figure(figsize=(10,6))\n",
    "sns.countplot(x='safety',hue='class',data=car)\n",
    "plt.title(\"Class vs Safety\")\n",
    "\n",
    "# as per the below graph we say that the safety of the car is high in acc and vgood class as compare unacc class"
   ]
  },
  {
   "cell_type": "code",
   "execution_count": 19,
   "metadata": {},
   "outputs": [],
   "source": [
    "# let's convert categotrical values into numeric\n",
    "le=LabelEncoder()\n",
    "\n",
    "for col in car.columns:\n",
    "    car[col]=le.fit_transform(car[col])"
   ]
  },
  {
   "cell_type": "code",
   "execution_count": 20,
   "metadata": {},
   "outputs": [
    {
     "data": {
      "text/html": [
       "<div>\n",
       "<style scoped>\n",
       "    .dataframe tbody tr th:only-of-type {\n",
       "        vertical-align: middle;\n",
       "    }\n",
       "\n",
       "    .dataframe tbody tr th {\n",
       "        vertical-align: top;\n",
       "    }\n",
       "\n",
       "    .dataframe thead th {\n",
       "        text-align: right;\n",
       "    }\n",
       "</style>\n",
       "<table border=\"1\" class=\"dataframe\">\n",
       "  <thead>\n",
       "    <tr style=\"text-align: right;\">\n",
       "      <th></th>\n",
       "      <th>buying</th>\n",
       "      <th>maint</th>\n",
       "      <th>doors</th>\n",
       "      <th>persons</th>\n",
       "      <th>lug_boot</th>\n",
       "      <th>safety</th>\n",
       "      <th>class</th>\n",
       "    </tr>\n",
       "  </thead>\n",
       "  <tbody>\n",
       "    <tr>\n",
       "      <th>0</th>\n",
       "      <td>3</td>\n",
       "      <td>3</td>\n",
       "      <td>0</td>\n",
       "      <td>0</td>\n",
       "      <td>2</td>\n",
       "      <td>1</td>\n",
       "      <td>2</td>\n",
       "    </tr>\n",
       "    <tr>\n",
       "      <th>1</th>\n",
       "      <td>3</td>\n",
       "      <td>3</td>\n",
       "      <td>0</td>\n",
       "      <td>0</td>\n",
       "      <td>2</td>\n",
       "      <td>2</td>\n",
       "      <td>2</td>\n",
       "    </tr>\n",
       "    <tr>\n",
       "      <th>2</th>\n",
       "      <td>3</td>\n",
       "      <td>3</td>\n",
       "      <td>0</td>\n",
       "      <td>0</td>\n",
       "      <td>2</td>\n",
       "      <td>0</td>\n",
       "      <td>2</td>\n",
       "    </tr>\n",
       "    <tr>\n",
       "      <th>3</th>\n",
       "      <td>3</td>\n",
       "      <td>3</td>\n",
       "      <td>0</td>\n",
       "      <td>0</td>\n",
       "      <td>1</td>\n",
       "      <td>1</td>\n",
       "      <td>2</td>\n",
       "    </tr>\n",
       "    <tr>\n",
       "      <th>4</th>\n",
       "      <td>3</td>\n",
       "      <td>3</td>\n",
       "      <td>0</td>\n",
       "      <td>0</td>\n",
       "      <td>1</td>\n",
       "      <td>2</td>\n",
       "      <td>2</td>\n",
       "    </tr>\n",
       "  </tbody>\n",
       "</table>\n",
       "</div>"
      ],
      "text/plain": [
       "   buying  maint  doors  persons  lug_boot  safety  class\n",
       "0       3      3      0        0         2       1      2\n",
       "1       3      3      0        0         2       2      2\n",
       "2       3      3      0        0         2       0      2\n",
       "3       3      3      0        0         1       1      2\n",
       "4       3      3      0        0         1       2      2"
      ]
     },
     "execution_count": 20,
     "metadata": {},
     "output_type": "execute_result"
    }
   ],
   "source": [
    "# let's check whether it is converted or not\n",
    "car.head()"
   ]
  },
  {
   "cell_type": "code",
   "execution_count": 21,
   "metadata": {},
   "outputs": [
    {
     "data": {
      "text/html": [
       "<div>\n",
       "<style scoped>\n",
       "    .dataframe tbody tr th:only-of-type {\n",
       "        vertical-align: middle;\n",
       "    }\n",
       "\n",
       "    .dataframe tbody tr th {\n",
       "        vertical-align: top;\n",
       "    }\n",
       "\n",
       "    .dataframe thead th {\n",
       "        text-align: right;\n",
       "    }\n",
       "</style>\n",
       "<table border=\"1\" class=\"dataframe\">\n",
       "  <thead>\n",
       "    <tr style=\"text-align: right;\">\n",
       "      <th></th>\n",
       "      <th>buying</th>\n",
       "      <th>maint</th>\n",
       "      <th>doors</th>\n",
       "      <th>persons</th>\n",
       "      <th>lug_boot</th>\n",
       "      <th>safety</th>\n",
       "      <th>class</th>\n",
       "    </tr>\n",
       "  </thead>\n",
       "  <tbody>\n",
       "    <tr>\n",
       "      <th>buying</th>\n",
       "      <td>1.000000</td>\n",
       "      <td>0.000000</td>\n",
       "      <td>0.000000</td>\n",
       "      <td>0.000000</td>\n",
       "      <td>0.000000</td>\n",
       "      <td>0.000000</td>\n",
       "      <td>0.051424</td>\n",
       "    </tr>\n",
       "    <tr>\n",
       "      <th>maint</th>\n",
       "      <td>0.000000</td>\n",
       "      <td>1.000000</td>\n",
       "      <td>0.000000</td>\n",
       "      <td>0.000000</td>\n",
       "      <td>0.000000</td>\n",
       "      <td>0.000000</td>\n",
       "      <td>0.040194</td>\n",
       "    </tr>\n",
       "    <tr>\n",
       "      <th>doors</th>\n",
       "      <td>0.000000</td>\n",
       "      <td>0.000000</td>\n",
       "      <td>1.000000</td>\n",
       "      <td>0.000000</td>\n",
       "      <td>0.000000</td>\n",
       "      <td>0.000000</td>\n",
       "      <td>-0.031327</td>\n",
       "    </tr>\n",
       "    <tr>\n",
       "      <th>persons</th>\n",
       "      <td>0.000000</td>\n",
       "      <td>0.000000</td>\n",
       "      <td>0.000000</td>\n",
       "      <td>1.000000</td>\n",
       "      <td>0.000000</td>\n",
       "      <td>0.000000</td>\n",
       "      <td>-0.299468</td>\n",
       "    </tr>\n",
       "    <tr>\n",
       "      <th>lug_boot</th>\n",
       "      <td>0.000000</td>\n",
       "      <td>0.000000</td>\n",
       "      <td>0.000000</td>\n",
       "      <td>0.000000</td>\n",
       "      <td>1.000000</td>\n",
       "      <td>0.000000</td>\n",
       "      <td>0.033184</td>\n",
       "    </tr>\n",
       "    <tr>\n",
       "      <th>safety</th>\n",
       "      <td>0.000000</td>\n",
       "      <td>0.000000</td>\n",
       "      <td>0.000000</td>\n",
       "      <td>0.000000</td>\n",
       "      <td>0.000000</td>\n",
       "      <td>1.000000</td>\n",
       "      <td>-0.021044</td>\n",
       "    </tr>\n",
       "    <tr>\n",
       "      <th>class</th>\n",
       "      <td>0.051424</td>\n",
       "      <td>0.040194</td>\n",
       "      <td>-0.031327</td>\n",
       "      <td>-0.299468</td>\n",
       "      <td>0.033184</td>\n",
       "      <td>-0.021044</td>\n",
       "      <td>1.000000</td>\n",
       "    </tr>\n",
       "  </tbody>\n",
       "</table>\n",
       "</div>"
      ],
      "text/plain": [
       "            buying     maint     doors   persons  lug_boot    safety     class\n",
       "buying    1.000000  0.000000  0.000000  0.000000  0.000000  0.000000  0.051424\n",
       "maint     0.000000  1.000000  0.000000  0.000000  0.000000  0.000000  0.040194\n",
       "doors     0.000000  0.000000  1.000000  0.000000  0.000000  0.000000 -0.031327\n",
       "persons   0.000000  0.000000  0.000000  1.000000  0.000000  0.000000 -0.299468\n",
       "lug_boot  0.000000  0.000000  0.000000  0.000000  1.000000  0.000000  0.033184\n",
       "safety    0.000000  0.000000  0.000000  0.000000  0.000000  1.000000 -0.021044\n",
       "class     0.051424  0.040194 -0.031327 -0.299468  0.033184 -0.021044  1.000000"
      ]
     },
     "execution_count": 21,
     "metadata": {},
     "output_type": "execute_result"
    }
   ],
   "source": [
    "# let's get correlation of dataset with each other\n",
    "data= car.corr()\n",
    "data"
   ]
  },
  {
   "cell_type": "code",
   "execution_count": 22,
   "metadata": {},
   "outputs": [
    {
     "data": {
      "text/plain": [
       "<matplotlib.axes._subplots.AxesSubplot at 0x25e49934948>"
      ]
     },
     "execution_count": 22,
     "metadata": {},
     "output_type": "execute_result"
    },
    {
     "data": {
      "image/png": "[encoded data removed]",
      "text/plain": [
       "<Figure size 720x432 with 2 Axes>"
      ]
     },
     "metadata": {
      "needs_background": "light"
     },
     "output_type": "display_data"
    }
   ],
   "source": [
    "# heatmap of all features on dataset with each other\n",
    "\n",
    "plt.figure(figsize=(10,6))\n",
    "sns.heatmap(data,cmap='Oranges',annot=True) "
   ]
  },
  {
   "cell_type": "markdown",
   "metadata": {},
   "source": [
    "# key observation \n",
    "\n",
    "- dark shades are highly correlated with each other\n",
    "- class is highly positive correlated with buying.\n",
    "- class is negative correlated with persons\n",
    "- Other columns except 'class' shows no correlation with each other."
   ]
  },
  {
   "cell_type": "code",
   "execution_count": 23,
   "metadata": {},
   "outputs": [
    {
     "data": {
      "text/plain": [
       "<seaborn.axisgrid.PairGrid at 0x25e499212c8>"
      ]
     },
     "execution_count": 23,
     "metadata": {},
     "output_type": "execute_result"
    },
    {
     "data": {
      "text/plain": [
       "<Figure size 1440x1152 with 0 Axes>"
      ]
     },
     "metadata": {},
     "output_type": "display_data"
    },
    {
     "data": {
      "image/png": "[encoded data removed]",
      "text/plain": [
       "<Figure size 1122.38x1080 with 42 Axes>"
      ]
     },
     "metadata": {
      "needs_background": "light"
     },
     "output_type": "display_data"
    }
   ],
   "source": [
    "# let's plot pair plot to get more understanding\n",
    "\n",
    "plt.figure(figsize=(20,16))\n",
    "sns.pairplot(hue='class',data=car, diag_kind='hist')"
   ]
  },
  {
   "cell_type": "code",
   "execution_count": 24,
   "metadata": {},
   "outputs": [],
   "source": [
    "#Now seperate the dataset as input variable and output variabes\n",
    "\n",
    "x = car.drop('class', axis = 1)\n",
    "y = car['class']"
   ]
  },
  {
   "cell_type": "code",
   "execution_count": 25,
   "metadata": {},
   "outputs": [
    {
     "name": "stdout",
     "output_type": "stream",
     "text": [
      "(1728, 6)\n",
      "(1728,)\n"
     ]
    }
   ],
   "source": [
    "# let's check shape x and y\n",
    "print(x.shape)\n",
    "print(y.shape)"
   ]
  },
  {
   "cell_type": "code",
   "execution_count": 26,
   "metadata": {},
   "outputs": [],
   "source": [
    "#Applying Standard scaling to get optimized result\n",
    "#Lets bring features to common scale \n",
    "\n",
    "from sklearn.preprocessing import StandardScaler\n",
    "\n",
    "sc = StandardScaler()\n",
    "df_x = sc.fit_transform(x)\n",
    "df_x =pd.DataFrame(df_x,columns=x.columns)"
   ]
  },
  {
   "cell_type": "code",
   "execution_count": 27,
   "metadata": {},
   "outputs": [
    {
     "data": {
      "text/html": [
       "<div>\n",
       "<style scoped>\n",
       "    .dataframe tbody tr th:only-of-type {\n",
       "        vertical-align: middle;\n",
       "    }\n",
       "\n",
       "    .dataframe tbody tr th {\n",
       "        vertical-align: top;\n",
       "    }\n",
       "\n",
       "    .dataframe thead th {\n",
       "        text-align: right;\n",
       "    }\n",
       "</style>\n",
       "<table border=\"1\" class=\"dataframe\">\n",
       "  <thead>\n",
       "    <tr style=\"text-align: right;\">\n",
       "      <th></th>\n",
       "      <th>buying</th>\n",
       "      <th>maint</th>\n",
       "      <th>doors</th>\n",
       "      <th>persons</th>\n",
       "      <th>lug_boot</th>\n",
       "      <th>safety</th>\n",
       "    </tr>\n",
       "  </thead>\n",
       "  <tbody>\n",
       "    <tr>\n",
       "      <th>0</th>\n",
       "      <td>1.341641</td>\n",
       "      <td>1.341641</td>\n",
       "      <td>-1.341641</td>\n",
       "      <td>-1.224745</td>\n",
       "      <td>1.224745</td>\n",
       "      <td>0.000000</td>\n",
       "    </tr>\n",
       "    <tr>\n",
       "      <th>1</th>\n",
       "      <td>1.341641</td>\n",
       "      <td>1.341641</td>\n",
       "      <td>-1.341641</td>\n",
       "      <td>-1.224745</td>\n",
       "      <td>1.224745</td>\n",
       "      <td>1.224745</td>\n",
       "    </tr>\n",
       "    <tr>\n",
       "      <th>2</th>\n",
       "      <td>1.341641</td>\n",
       "      <td>1.341641</td>\n",
       "      <td>-1.341641</td>\n",
       "      <td>-1.224745</td>\n",
       "      <td>1.224745</td>\n",
       "      <td>-1.224745</td>\n",
       "    </tr>\n",
       "    <tr>\n",
       "      <th>3</th>\n",
       "      <td>1.341641</td>\n",
       "      <td>1.341641</td>\n",
       "      <td>-1.341641</td>\n",
       "      <td>-1.224745</td>\n",
       "      <td>0.000000</td>\n",
       "      <td>0.000000</td>\n",
       "    </tr>\n",
       "    <tr>\n",
       "      <th>4</th>\n",
       "      <td>1.341641</td>\n",
       "      <td>1.341641</td>\n",
       "      <td>-1.341641</td>\n",
       "      <td>-1.224745</td>\n",
       "      <td>0.000000</td>\n",
       "      <td>1.224745</td>\n",
       "    </tr>\n",
       "    <tr>\n",
       "      <th>...</th>\n",
       "      <td>...</td>\n",
       "      <td>...</td>\n",
       "      <td>...</td>\n",
       "      <td>...</td>\n",
       "      <td>...</td>\n",
       "      <td>...</td>\n",
       "    </tr>\n",
       "    <tr>\n",
       "      <th>1723</th>\n",
       "      <td>-0.447214</td>\n",
       "      <td>-0.447214</td>\n",
       "      <td>1.341641</td>\n",
       "      <td>1.224745</td>\n",
       "      <td>0.000000</td>\n",
       "      <td>1.224745</td>\n",
       "    </tr>\n",
       "    <tr>\n",
       "      <th>1724</th>\n",
       "      <td>-0.447214</td>\n",
       "      <td>-0.447214</td>\n",
       "      <td>1.341641</td>\n",
       "      <td>1.224745</td>\n",
       "      <td>0.000000</td>\n",
       "      <td>-1.224745</td>\n",
       "    </tr>\n",
       "    <tr>\n",
       "      <th>1725</th>\n",
       "      <td>-0.447214</td>\n",
       "      <td>-0.447214</td>\n",
       "      <td>1.341641</td>\n",
       "      <td>1.224745</td>\n",
       "      <td>-1.224745</td>\n",
       "      <td>0.000000</td>\n",
       "    </tr>\n",
       "    <tr>\n",
       "      <th>1726</th>\n",
       "      <td>-0.447214</td>\n",
       "      <td>-0.447214</td>\n",
       "      <td>1.341641</td>\n",
       "      <td>1.224745</td>\n",
       "      <td>-1.224745</td>\n",
       "      <td>1.224745</td>\n",
       "    </tr>\n",
       "    <tr>\n",
       "      <th>1727</th>\n",
       "      <td>-0.447214</td>\n",
       "      <td>-0.447214</td>\n",
       "      <td>1.341641</td>\n",
       "      <td>1.224745</td>\n",
       "      <td>-1.224745</td>\n",
       "      <td>-1.224745</td>\n",
       "    </tr>\n",
       "  </tbody>\n",
       "</table>\n",
       "<p>1728 rows × 6 columns</p>\n",
       "</div>"
      ],
      "text/plain": [
       "        buying     maint     doors   persons  lug_boot    safety\n",
       "0     1.341641  1.341641 -1.341641 -1.224745  1.224745  0.000000\n",
       "1     1.341641  1.341641 -1.341641 -1.224745  1.224745  1.224745\n",
       "2     1.341641  1.341641 -1.341641 -1.224745  1.224745 -1.224745\n",
       "3     1.341641  1.341641 -1.341641 -1.224745  0.000000  0.000000\n",
       "4     1.341641  1.341641 -1.341641 -1.224745  0.000000  1.224745\n",
       "...        ...       ...       ...       ...       ...       ...\n",
       "1723 -0.447214 -0.447214  1.341641  1.224745  0.000000  1.224745\n",
       "1724 -0.447214 -0.447214  1.341641  1.224745  0.000000 -1.224745\n",
       "1725 -0.447214 -0.447214  1.341641  1.224745 -1.224745  0.000000\n",
       "1726 -0.447214 -0.447214  1.341641  1.224745 -1.224745  1.224745\n",
       "1727 -0.447214 -0.447214  1.341641  1.224745 -1.224745 -1.224745\n",
       "\n",
       "[1728 rows x 6 columns]"
      ]
     },
     "execution_count": 27,
     "metadata": {},
     "output_type": "execute_result"
    }
   ],
   "source": [
    "df_x"
   ]
  },
  {
   "cell_type": "markdown",
   "metadata": {},
   "source": [
    "# Our training and testing data is ready now to perform machine learning algorithm¶\n",
    "\n",
    "## the car class prediction is a multiclass classification problem , so we can use Multiple classification algorithm with hyperparameter tune gridsearch and random search.\n",
    "\n",
    "\n",
    "##  We will use the following algorithms\n",
    "\n",
    "- Logistic Regression\n",
    "- knn\n",
    "- DecisionTrees\n",
    "- Random Forests\n",
    "- SVM\n",
    "- naviebyes"
   ]
  },
  {
   "cell_type": "code",
   "execution_count": 28,
   "metadata": {},
   "outputs": [],
   "source": [
    "# Since we have target imbalance so we focus roc_auc_score and cross validation score\n",
    "# Train and Test splitting of data \n",
    "\n",
    "df_x_train, df_x_test, y_train, y_test = train_test_split(df_x, y, test_size = 0.22, random_state = 42)  "
   ]
  },
  {
   "cell_type": "code",
   "execution_count": 29,
   "metadata": {},
   "outputs": [
    {
     "name": "stdout",
     "output_type": "stream",
     "text": [
      "(1347, 6)\n",
      "(1347,)\n"
     ]
    }
   ],
   "source": [
    "print(df_x_train.shape)\n",
    "print(y_train.shape)"
   ]
  },
  {
   "cell_type": "code",
   "execution_count": 30,
   "metadata": {},
   "outputs": [
    {
     "name": "stdout",
     "output_type": "stream",
     "text": [
      "(381, 6)\n",
      "(381,)\n"
     ]
    }
   ],
   "source": [
    "print(df_x_test.shape)\n",
    "print(y_test.shape)"
   ]
  },
  {
   "cell_type": "code",
   "execution_count": 31,
   "metadata": {},
   "outputs": [],
   "source": [
    "# let's make function to run multiple algorithm\n",
    "from sklearn.metrics import confusion_matrix,accuracy_score,classification_report\n",
    "\n",
    "def max_accuracyscore(modal,df_x,y):\n",
    "    max_accuracy_score=0\n",
    "    for r_state in range(42,100):\n",
    "        df_x_train, df_x_test, y_train, y_test = train_test_split(df_x, y, test_size = 0.22, random_state = r_state)  \n",
    "        modal.fit(df_x_train,y_train)\n",
    "        y_pred = modal.predict(df_x_test)\n",
    "        a_score=accuracy_score(y_test,y_pred)\n",
    "        if a_score>max_accuracy_score:\n",
    "            max_accuracy_score=a_score\n",
    "            final_r_state=r_state\n",
    "    print(\"max Accuracy_Score corresponding to \",final_r_state,\" is \",max_accuracy_score)\n",
    "    return final_r_state"
   ]
  },
  {
   "cell_type": "code",
   "execution_count": 32,
   "metadata": {},
   "outputs": [
    {
     "name": "stdout",
     "output_type": "stream",
     "text": [
      "max Accuracy_Score corresponding to  73  is  0.7349081364829396\n"
     ]
    },
    {
     "data": {
      "text/plain": [
       "73"
      ]
     },
     "execution_count": 32,
     "metadata": {},
     "output_type": "execute_result"
    }
   ],
   "source": [
    "#Lets use logistic regression and check \n",
    "from sklearn.linear_model import LogisticRegression\n",
    "\n",
    "lg=LogisticRegression()\n",
    "max_accuracyscore(lg,df_x,y)"
   ]
  },
  {
   "cell_type": "code",
   "execution_count": 33,
   "metadata": {},
   "outputs": [
    {
     "name": "stdout",
     "output_type": "stream",
     "text": [
      "Mean accuracy score for Logistic Regression:  0.6493407053698584\n",
      "standard deviation in accuracy score for Logistic Regression:  0.02950858841948846\n",
      "\n",
      "\n",
      "cross val accuracy score: [0.63583815 0.65028902 0.60115607 0.67826087 0.68115942]\n"
     ]
    }
   ],
   "source": [
    "# Lets use cross validation metod to get cross val score because target varible is imbalanced\n",
    "from sklearn.model_selection import cross_val_score\n",
    "\n",
    "print(\"Mean accuracy score for Logistic Regression: \",cross_val_score(lg,df_x,y,cv=5,scoring=\"accuracy\").mean())\n",
    "print(\"standard deviation in accuracy score for Logistic Regression: \",cross_val_score(lg,df_x,y,cv=5,scoring=\"accuracy\").std())\n",
    "print('\\n')\n",
    "print('cross val accuracy score:',cross_val_score(lg,df_x,y,cv=5,scoring=\"accuracy\"))\n"
   ]
  },
  {
   "cell_type": "code",
   "execution_count": 34,
   "metadata": {},
   "outputs": [
    {
     "data": {
      "text/plain": [
       "{'n_neighbors': 1}"
      ]
     },
     "execution_count": 34,
     "metadata": {},
     "output_type": "execute_result"
    }
   ],
   "source": [
    "#Lets use KNN\n",
    "#For KNN we need to know the best value of n_neighbors using grid search\n",
    "\n",
    "from sklearn.model_selection import GridSearchCV\n",
    "from sklearn.neighbors import KNeighborsClassifier\n",
    "\n",
    "knn =KNeighborsClassifier()\n",
    "neighbors={\"n_neighbors\":range(1,30)}\n",
    "Gv = GridSearchCV(knn, neighbors, cv=5,scoring=\"accuracy\",n_jobs=-1)\n",
    "Gv.fit(df_x,y)\n",
    "Gv.best_params_"
   ]
  },
  {
   "cell_type": "code",
   "execution_count": 35,
   "metadata": {},
   "outputs": [
    {
     "name": "stdout",
     "output_type": "stream",
     "text": [
      "max Accuracy_Score corresponding to  42  is  0.9422572178477691\n"
     ]
    },
    {
     "data": {
      "text/plain": [
       "42"
      ]
     },
     "execution_count": 35,
     "metadata": {},
     "output_type": "execute_result"
    }
   ],
   "source": [
    "knn =KNeighborsClassifier(n_neighbors=1)\n",
    "max_accuracyscore(knn,df_x,y)"
   ]
  },
  {
   "cell_type": "code",
   "execution_count": 36,
   "metadata": {},
   "outputs": [
    {
     "name": "stdout",
     "output_type": "stream",
     "text": [
      "Mean accuracy score for KNeighbors:  0.8444232219150539\n",
      "standard deviation in accuracy score for Kneighbors:  0.11230011042062851\n",
      "\n",
      "\n",
      "cross val accuracy score: [0.6416185  0.81791908 0.91040462 0.88405797 0.96811594]\n"
     ]
    }
   ],
   "source": [
    "#  lets check cross val score and mean accuracy of cross val score\n",
    "print(\"Mean accuracy score for KNeighbors: \",cross_val_score(knn,df_x,y,cv=5,scoring=\"accuracy\").mean())\n",
    "print(\"standard deviation in accuracy score for Kneighbors: \",cross_val_score(knn,df_x,y,cv=5,scoring=\"accuracy\").std())\n",
    "print('\\n')\n",
    "print('cross val accuracy score:',cross_val_score(knn,df_x,y,cv=5,scoring=\"accuracy\"))\n"
   ]
  },
  {
   "cell_type": "code",
   "execution_count": 37,
   "metadata": {},
   "outputs": [
    {
     "data": {
      "text/plain": [
       "{'n_estimators': 100}"
      ]
     },
     "execution_count": 37,
     "metadata": {},
     "output_type": "execute_result"
    }
   ],
   "source": [
    "# lets use randomForest classifiers \n",
    "#Grid search can be used to improve any specific evaluation metric.\n",
    "\n",
    "parameters={\"n_estimators\":[10,100,500]}\n",
    "rf=RandomForestClassifier()\n",
    "Gcv = GridSearchCV(rf, parameters, cv=5,scoring=\"accuracy\",n_jobs=-1)\n",
    "Gcv.fit(df_x,y)\n",
    "Gcv.best_params_"
   ]
  },
  {
   "cell_type": "code",
   "execution_count": 38,
   "metadata": {},
   "outputs": [
    {
     "name": "stdout",
     "output_type": "stream",
     "text": [
      "max Accuracy_Score corresponding to  61  is  0.9973753280839895\n"
     ]
    },
    {
     "data": {
      "text/plain": [
       "61"
      ]
     },
     "execution_count": 38,
     "metadata": {},
     "output_type": "execute_result"
    }
   ],
   "source": [
    "rf=RandomForestClassifier(n_estimators=100)\n",
    "max_accuracyscore(rf,df_x,y)"
   ]
  },
  {
   "cell_type": "code",
   "execution_count": 39,
   "metadata": {},
   "outputs": [
    {
     "name": "stdout",
     "output_type": "stream",
     "text": [
      "Mean accuracy score for RandomForest:  0.8334204574013573\n",
      "standard deviation in accuracy score for RandomForest:  0.09417818322237187\n",
      "\n",
      "\n",
      "cross val score RandomForest: [0.6416185  0.80346821 0.84393064 0.86086957 0.94202899]\n"
     ]
    }
   ],
   "source": [
    "# lets check cross val score and mean accuracy of cross val score\n",
    "print(\"Mean accuracy score for RandomForest: \",cross_val_score(rf,df_x,y,cv=5,scoring=\"accuracy\").mean())\n",
    "print(\"standard deviation in accuracy score for RandomForest: \",cross_val_score(rf,df_x,y,cv=5,scoring=\"accuracy\").std())\n",
    "print('\\n')\n",
    "print('cross val score RandomForest:',cross_val_score(rf,df_x,y,cv=5,scoring=\"accuracy\"))\n"
   ]
  },
  {
   "cell_type": "code",
   "execution_count": 40,
   "metadata": {},
   "outputs": [
    {
     "data": {
      "text/plain": [
       "{'C': 10, 'kernel': 'rbf'}"
      ]
     },
     "execution_count": 40,
     "metadata": {},
     "output_type": "execute_result"
    }
   ],
   "source": [
    "# Lets use SVM with gridsearch cv to select best parameter\n",
    "from sklearn.svm import SVC\n",
    "svc=SVC()\n",
    "parameters={\"kernel\":[\"linear\", \"poly\", \"rbf\"],\"C\":[0.001,0.01,0.1,1,10]}\n",
    "gv = GridSearchCV(svc, parameters, cv=5,scoring=\"accuracy\",n_jobs=-1)\n",
    "gv.fit(df_x,y)\n",
    "gv.best_params_"
   ]
  },
  {
   "cell_type": "code",
   "execution_count": 41,
   "metadata": {},
   "outputs": [
    {
     "name": "stdout",
     "output_type": "stream",
     "text": [
      "max Accuracy_Score corresponding to  51  is  1.0\n"
     ]
    },
    {
     "data": {
      "text/plain": [
       "51"
      ]
     },
     "execution_count": 41,
     "metadata": {},
     "output_type": "execute_result"
    }
   ],
   "source": [
    "svc=SVC(kernel=\"rbf\",C=10)\n",
    "max_accuracyscore(svc,df_x,y)"
   ]
  },
  {
   "cell_type": "code",
   "execution_count": 42,
   "metadata": {},
   "outputs": [
    {
     "name": "stdout",
     "output_type": "stream",
     "text": [
      "Mean accuracy score for SVC:  0.8831364664488565\n",
      "standard deviation in accuracy score for SVC:  0.042664166670955427\n",
      "\n",
      "\n",
      "cross val accuracy score: [0.81791908 0.87572254 0.89595376 0.87536232 0.95072464]\n"
     ]
    }
   ],
   "source": [
    "# lets check cross val score and mean accuracy of cross val score because svc model satrt overfitting\n",
    "\n",
    "print(\"Mean accuracy score for SVC: \",cross_val_score(svc,df_x,y,cv=5,scoring=\"accuracy\").mean())\n",
    "print(\"standard deviation in accuracy score for SVC: \",cross_val_score(svc,df_x,y,cv=5,scoring=\"accuracy\").std())\n",
    "print('\\n')\n",
    "print('cross val accuracy score:',cross_val_score(svc,df_x,y,cv=5,scoring=\"accuracy\"))"
   ]
  },
  {
   "cell_type": "markdown",
   "metadata": {},
   "source": [
    "# I used multiple algorithms to  get highest accuracy score corresponding to random state\n",
    "\n",
    "- we seen till now svc(kernal=rbf) is best model as comparision to other model which are apply in this  because we got max mean accuracy score is 88%.\n",
    "\n",
    "- So we save model SVC for production.\n"
   ]
  },
  {
   "cell_type": "code",
   "execution_count": 43,
   "metadata": {},
   "outputs": [
    {
     "name": "stdout",
     "output_type": "stream",
     "text": [
      "Confusion matrix \n",
      " [[ 87   0   0   1]\n",
      " [  0  19   0   0]\n",
      " [  2   0 262   0]\n",
      " [  1   0   0   9]]\n",
      "classification report \n",
      "               precision    recall  f1-score   support\n",
      "\n",
      "           0       0.97      0.99      0.98        88\n",
      "           1       1.00      1.00      1.00        19\n",
      "           2       1.00      0.99      1.00       264\n",
      "           3       0.90      0.90      0.90        10\n",
      "\n",
      "    accuracy                           0.99       381\n",
      "   macro avg       0.97      0.97      0.97       381\n",
      "weighted avg       0.99      0.99      0.99       381\n",
      "\n"
     ]
    }
   ],
   "source": [
    "# let's create final model\n",
    "x_train, x_test, y_train, y_test = train_test_split(x, y,random_state =51,test_size=0.22)\n",
    "svc=SVC(kernel=\"rbf\",C=10,probability=True)\n",
    "svc.fit(x_train,y_train)\n",
    "y_pred=svc.predict(x_test)\n",
    "a_score=accuracy_score(y_test,y_pred)\n",
    "print(\"Confusion matrix \\n\",confusion_matrix(y_test,y_pred))\n",
    "print(\"classification report \\n\",classification_report(y_test,y_pred))"
   ]
  },
  {
   "cell_type": "code",
   "execution_count": 44,
   "metadata": {},
   "outputs": [
    {
     "name": "stdout",
     "output_type": "stream",
     "text": [
      "Mean accuracy score for KNeighbors:  0.8831364664488565\n",
      "standard deviation in accuracy score for Kneighbors:  0.042664166670955427\n",
      "\n",
      "\n",
      "cross val accuracy score: [0.81791908 0.87572254 0.89595376 0.87536232 0.95072464]\n"
     ]
    }
   ],
   "source": [
    "print(\"Mean accuracy score for KNeighbors: \",cross_val_score(svc,df_x,y,cv=5,scoring=\"accuracy\").mean())\n",
    "print(\"standard deviation in accuracy score for Kneighbors: \",cross_val_score(svc,df_x,y,cv=5,scoring=\"accuracy\").std())\n",
    "print('\\n')\n",
    "print('cross val accuracy score:',cross_val_score(svc,df_x,y,cv=5,scoring=\"accuracy\"))\n"
   ]
  },
  {
   "cell_type": "code",
   "execution_count": 45,
   "metadata": {},
   "outputs": [
    {
     "data": {
      "text/plain": [
       "['Car_Evaluation.pkl']"
      ]
     },
     "execution_count": 45,
     "metadata": {},
     "output_type": "execute_result"
    }
   ],
   "source": [
    "from sklearn.externals import joblib\n",
    "\n",
    "# save the model as a pickle in a file\n",
    "\n",
    "joblib.dump(svc,'Car_Evaluation.pkl')"
   ]
  },
  {
   "cell_type": "code",
   "execution_count": null,
   "metadata": {},
   "outputs": [],
   "source": []
  }
 ],
 "metadata": {
  "kernelspec": {
   "display_name": "Python 3",
   "language": "python",
   "name": "python3"
  },
  "language_info": {
   "codemirror_mode": {
    "name": "ipython",
    "version": 3
   },
   "file_extension": ".py",
   "mimetype": "text/x-python",
   "name": "python",
   "nbconvert_exporter": "python",
   "pygments_lexer": "ipython3",
   "version": "3.7.6"
  }
 },
 "nbformat": 4,
 "nbformat_minor": 4
}
