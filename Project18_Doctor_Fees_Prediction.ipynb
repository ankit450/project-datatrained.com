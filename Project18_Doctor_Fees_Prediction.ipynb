{
 "cells": [
  {
   "cell_type": "code",
   "execution_count": 1,
   "metadata": {},
   "outputs": [],
   "source": [
    "# import necessary packages\n",
    "\n",
    "import pandas as pd\n",
    "import numpy as np\n",
    "import matplotlib.pyplot as plt\n",
    "import seaborn as sns\n",
    "import sklearn.datasets\n",
    "from sklearn.model_selection import train_test_split\n",
    "from sklearn.preprocessing import LabelEncoder\n",
    "import warnings\n",
    "warnings.filterwarnings('ignore')"
   ]
  },
  {
   "cell_type": "markdown",
   "metadata": {},
   "source": [
    "# Project Name :- Predict A Doctor's Consultation Fees\n",
    "\n",
    "- We have all been in situation where we go to a doctor in emergency and find that the consultation fees are too high.\n",
    "\n",
    "- the main objective of this project is to predict  a doctor's consultation Fees.\n",
    "\n",
    "- the consultation Fees prediction is a regression problem."
   ]
  },
  {
   "cell_type": "markdown",
   "metadata": {},
   "source": [
    "# Step 1: Exploratory data analysis (EDA)\n",
    "- read & preview the dataset\n",
    "- variable identification # looking the input data # what will be the output variable\n",
    "- univariate analysis - tacking small small variable and plot bar chart and finding histogram\n",
    "- Bivariate analysis - tacking two column or two variable and looking the relationship between the,and also find correlation     and covariance within two variable\n",
    "- handling and removing null values- missing data\n",
    "- Handling Categorical Variabl\n",
    "- finding and removing outliers"
   ]
  },
  {
   "cell_type": "code",
   "execution_count": 2,
   "metadata": {},
   "outputs": [],
   "source": [
    "# let's read the train and test the dataset\n",
    "\n",
    "train_data = pd.read_excel('Final_Train.xlsx')\n",
    "test_data = pd.read_excel('Final_Test.xlsx')\n",
    "\n",
    "# let's Merge train and test data for doing EDA analysis.\n",
    "\n",
    "D_fees = pd.concat([train_data,test_data])"
   ]
  },
  {
   "cell_type": "code",
   "execution_count": 3,
   "metadata": {},
   "outputs": [
    {
     "data": {
      "text/html": [
       "<div>\n",
       "<style scoped>\n",
       "    .dataframe tbody tr th:only-of-type {\n",
       "        vertical-align: middle;\n",
       "    }\n",
       "\n",
       "    .dataframe tbody tr th {\n",
       "        vertical-align: top;\n",
       "    }\n",
       "\n",
       "    .dataframe thead th {\n",
       "        text-align: right;\n",
       "    }\n",
       "</style>\n",
       "<table border=\"1\" class=\"dataframe\">\n",
       "  <thead>\n",
       "    <tr style=\"text-align: right;\">\n",
       "      <th></th>\n",
       "      <th>Qualification</th>\n",
       "      <th>Experience</th>\n",
       "      <th>Rating</th>\n",
       "      <th>Place</th>\n",
       "      <th>Profile</th>\n",
       "      <th>Miscellaneous_Info</th>\n",
       "      <th>Fees</th>\n",
       "    </tr>\n",
       "  </thead>\n",
       "  <tbody>\n",
       "    <tr>\n",
       "      <th>0</th>\n",
       "      <td>BHMS, MD - Homeopathy</td>\n",
       "      <td>24 years experience</td>\n",
       "      <td>100%</td>\n",
       "      <td>Kakkanad, Ernakulam</td>\n",
       "      <td>Homeopath</td>\n",
       "      <td>100% 16 Feedback Kakkanad, Ernakulam</td>\n",
       "      <td>100.0</td>\n",
       "    </tr>\n",
       "    <tr>\n",
       "      <th>1</th>\n",
       "      <td>BAMS, MD - Ayurveda Medicine</td>\n",
       "      <td>12 years experience</td>\n",
       "      <td>98%</td>\n",
       "      <td>Whitefield, Bangalore</td>\n",
       "      <td>Ayurveda</td>\n",
       "      <td>98% 76 Feedback Whitefield, Bangalore</td>\n",
       "      <td>350.0</td>\n",
       "    </tr>\n",
       "    <tr>\n",
       "      <th>2</th>\n",
       "      <td>MBBS, MS - Otorhinolaryngology</td>\n",
       "      <td>9 years experience</td>\n",
       "      <td>NaN</td>\n",
       "      <td>Mathikere - BEL, Bangalore</td>\n",
       "      <td>ENT Specialist</td>\n",
       "      <td>NaN</td>\n",
       "      <td>300.0</td>\n",
       "    </tr>\n",
       "    <tr>\n",
       "      <th>3</th>\n",
       "      <td>BSc - Zoology, BAMS</td>\n",
       "      <td>12 years experience</td>\n",
       "      <td>NaN</td>\n",
       "      <td>Bannerghatta Road, Bangalore</td>\n",
       "      <td>Ayurveda</td>\n",
       "      <td>Bannerghatta Road, Bangalore ₹250 Available on...</td>\n",
       "      <td>250.0</td>\n",
       "    </tr>\n",
       "    <tr>\n",
       "      <th>4</th>\n",
       "      <td>BAMS</td>\n",
       "      <td>20 years experience</td>\n",
       "      <td>100%</td>\n",
       "      <td>Keelkattalai, Chennai</td>\n",
       "      <td>Ayurveda</td>\n",
       "      <td>100% 4 Feedback Keelkattalai, Chennai</td>\n",
       "      <td>250.0</td>\n",
       "    </tr>\n",
       "    <tr>\n",
       "      <th>5</th>\n",
       "      <td>BAMS</td>\n",
       "      <td>8 years experience</td>\n",
       "      <td>NaN</td>\n",
       "      <td>Porur, Chennai</td>\n",
       "      <td>Ayurveda</td>\n",
       "      <td>NaN</td>\n",
       "      <td>100.0</td>\n",
       "    </tr>\n",
       "    <tr>\n",
       "      <th>6</th>\n",
       "      <td>BHMS</td>\n",
       "      <td>42 years experience</td>\n",
       "      <td>NaN</td>\n",
       "      <td>Karol Bagh, Delhi</td>\n",
       "      <td>Homeopath</td>\n",
       "      <td>NaN</td>\n",
       "      <td>200.0</td>\n",
       "    </tr>\n",
       "    <tr>\n",
       "      <th>7</th>\n",
       "      <td>BDS</td>\n",
       "      <td>10 years experience</td>\n",
       "      <td>99%</td>\n",
       "      <td>Arekere, Bangalore</td>\n",
       "      <td>Dentist</td>\n",
       "      <td>Dental Fillings Crowns and Bridges Fixing Impa...</td>\n",
       "      <td>200.0</td>\n",
       "    </tr>\n",
       "    <tr>\n",
       "      <th>8</th>\n",
       "      <td>MBBS, MD - General Medicine</td>\n",
       "      <td>14 years experience</td>\n",
       "      <td>NaN</td>\n",
       "      <td>Old City, Hyderabad</td>\n",
       "      <td>General Medicine</td>\n",
       "      <td>NaN</td>\n",
       "      <td>100.0</td>\n",
       "    </tr>\n",
       "    <tr>\n",
       "      <th>9</th>\n",
       "      <td>BSc, BDS</td>\n",
       "      <td>23 years experience</td>\n",
       "      <td>NaN</td>\n",
       "      <td>Athani, Ernakulam</td>\n",
       "      <td>Dentist</td>\n",
       "      <td>NaN</td>\n",
       "      <td>100.0</td>\n",
       "    </tr>\n",
       "  </tbody>\n",
       "</table>\n",
       "</div>"
      ],
      "text/plain": [
       "                    Qualification           Experience Rating  \\\n",
       "0           BHMS, MD - Homeopathy  24 years experience   100%   \n",
       "1    BAMS, MD - Ayurveda Medicine  12 years experience    98%   \n",
       "2  MBBS, MS - Otorhinolaryngology   9 years experience    NaN   \n",
       "3             BSc - Zoology, BAMS  12 years experience    NaN   \n",
       "4                            BAMS  20 years experience   100%   \n",
       "5                            BAMS   8 years experience    NaN   \n",
       "6                            BHMS  42 years experience    NaN   \n",
       "7                             BDS  10 years experience    99%   \n",
       "8     MBBS, MD - General Medicine  14 years experience    NaN   \n",
       "9                        BSc, BDS  23 years experience    NaN   \n",
       "\n",
       "                          Place           Profile  \\\n",
       "0           Kakkanad, Ernakulam         Homeopath   \n",
       "1         Whitefield, Bangalore          Ayurveda   \n",
       "2    Mathikere - BEL, Bangalore    ENT Specialist   \n",
       "3  Bannerghatta Road, Bangalore          Ayurveda   \n",
       "4         Keelkattalai, Chennai          Ayurveda   \n",
       "5                Porur, Chennai          Ayurveda   \n",
       "6             Karol Bagh, Delhi         Homeopath   \n",
       "7            Arekere, Bangalore           Dentist   \n",
       "8           Old City, Hyderabad  General Medicine   \n",
       "9             Athani, Ernakulam           Dentist   \n",
       "\n",
       "                                  Miscellaneous_Info   Fees  \n",
       "0               100% 16 Feedback Kakkanad, Ernakulam  100.0  \n",
       "1              98% 76 Feedback Whitefield, Bangalore  350.0  \n",
       "2                                                NaN  300.0  \n",
       "3  Bannerghatta Road, Bangalore ₹250 Available on...  250.0  \n",
       "4              100% 4 Feedback Keelkattalai, Chennai  250.0  \n",
       "5                                                NaN  100.0  \n",
       "6                                                NaN  200.0  \n",
       "7  Dental Fillings Crowns and Bridges Fixing Impa...  200.0  \n",
       "8                                                NaN  100.0  \n",
       "9                                                NaN  100.0  "
      ]
     },
     "execution_count": 3,
     "metadata": {},
     "output_type": "execute_result"
    }
   ],
   "source": [
    "# let's preview the dataset\n",
    "D_fees.head(10)"
   ]
  },
  {
   "cell_type": "code",
   "execution_count": 4,
   "metadata": {},
   "outputs": [
    {
     "data": {
      "text/plain": [
       "Qualification          object\n",
       "Experience             object\n",
       "Rating                 object\n",
       "Place                  object\n",
       "Profile                object\n",
       "Miscellaneous_Info     object\n",
       "Fees                  float64\n",
       "dtype: object"
      ]
     },
     "execution_count": 4,
     "metadata": {},
     "output_type": "execute_result"
    }
   ],
   "source": [
    "# let's check the datatypes of all feature which present in dataset\n",
    "\n",
    "D_fees.dtypes\n",
    "\n",
    "# in the dataset have float and object datatype "
   ]
  },
  {
   "cell_type": "code",
   "execution_count": 5,
   "metadata": {},
   "outputs": [
    {
     "name": "stdout",
     "output_type": "stream",
     "text": [
      "<class 'pandas.core.frame.DataFrame'>\n",
      "Int64Index: 7948 entries, 0 to 1986\n",
      "Data columns (total 7 columns):\n",
      " #   Column              Non-Null Count  Dtype  \n",
      "---  ------              --------------  -----  \n",
      " 0   Qualification       7948 non-null   object \n",
      " 1   Experience          7948 non-null   object \n",
      " 2   Rating              3556 non-null   object \n",
      " 3   Place               7917 non-null   object \n",
      " 4   Profile             7948 non-null   object \n",
      " 5   Miscellaneous_Info  4494 non-null   object \n",
      " 6   Fees                5961 non-null   float64\n",
      "dtypes: float64(1), object(6)\n",
      "memory usage: 496.8+ KB\n"
     ]
    }
   ],
   "source": [
    "# Information about the features in the dataset\n",
    "\n",
    "D_fees.info()"
   ]
  },
  {
   "cell_type": "code",
   "execution_count": 6,
   "metadata": {},
   "outputs": [
    {
     "data": {
      "text/plain": [
       "Index(['Qualification', 'Experience', 'Rating', 'Place', 'Profile',\n",
       "       'Miscellaneous_Info', 'Fees'],\n",
       "      dtype='object')"
      ]
     },
     "execution_count": 6,
     "metadata": {},
     "output_type": "execute_result"
    }
   ],
   "source": [
    "# now check feature name presence in the dataset\n",
    "\n",
    "D_fees.columns"
   ]
  },
  {
   "cell_type": "code",
   "execution_count": 7,
   "metadata": {},
   "outputs": [
    {
     "data": {
      "text/plain": [
       "(7948, 7)"
      ]
     },
     "execution_count": 7,
     "metadata": {},
     "output_type": "execute_result"
    }
   ],
   "source": [
    "# let's check shpae of the dataset\n",
    "\n",
    "D_fees.shape"
   ]
  },
  {
   "cell_type": "code",
   "execution_count": 8,
   "metadata": {},
   "outputs": [
    {
     "name": "stdout",
     "output_type": "stream",
     "text": [
      "total number of null values:\n",
      " Qualification            0\n",
      "Experience               0\n",
      "Rating                4392\n",
      "Place                   31\n",
      "Profile                  0\n",
      "Miscellaneous_Info    3454\n",
      "Fees                  1987\n",
      "dtype: int64\n",
      "\n",
      "\n",
      "total number of Nan values:\n",
      " Qualification            0\n",
      "Experience               0\n",
      "Rating                4392\n",
      "Place                   31\n",
      "Profile                  0\n",
      "Miscellaneous_Info    3454\n",
      "Fees                  1987\n",
      "dtype: int64\n"
     ]
    }
   ],
   "source": [
    "# let's check missing value in the dataset\n",
    "# test_data['Fees'] = nan\n",
    "\n",
    "# let's finding null values whether it is available in the dataset or not.\n",
    "\n",
    "print('total number of null values:\\n',D_fees.isnull().sum())\n",
    "print('\\n')\n",
    "print('total number of Nan values:\\n',D_fees.isna().sum())\n"
   ]
  },
  {
   "cell_type": "code",
   "execution_count": 9,
   "metadata": {},
   "outputs": [],
   "source": [
    "# let's convert Experience columns object to int datatype\n",
    "\n",
    "D_fees['years_exp'] = D_fees['Experience'].str.slice(stop=2).astype(int)"
   ]
  },
  {
   "cell_type": "code",
   "execution_count": 10,
   "metadata": {},
   "outputs": [
    {
     "data": {
      "text/html": [
       "<div>\n",
       "<style scoped>\n",
       "    .dataframe tbody tr th:only-of-type {\n",
       "        vertical-align: middle;\n",
       "    }\n",
       "\n",
       "    .dataframe tbody tr th {\n",
       "        vertical-align: top;\n",
       "    }\n",
       "\n",
       "    .dataframe thead th {\n",
       "        text-align: right;\n",
       "    }\n",
       "</style>\n",
       "<table border=\"1\" class=\"dataframe\">\n",
       "  <thead>\n",
       "    <tr style=\"text-align: right;\">\n",
       "      <th></th>\n",
       "      <th>Fees</th>\n",
       "      <th>years_exp</th>\n",
       "    </tr>\n",
       "  </thead>\n",
       "  <tbody>\n",
       "    <tr>\n",
       "      <th>count</th>\n",
       "      <td>5961.000000</td>\n",
       "      <td>7948.000000</td>\n",
       "    </tr>\n",
       "    <tr>\n",
       "      <th>mean</th>\n",
       "      <td>307.944640</td>\n",
       "      <td>17.446653</td>\n",
       "    </tr>\n",
       "    <tr>\n",
       "      <th>std</th>\n",
       "      <td>190.920373</td>\n",
       "      <td>11.201217</td>\n",
       "    </tr>\n",
       "    <tr>\n",
       "      <th>min</th>\n",
       "      <td>5.000000</td>\n",
       "      <td>0.000000</td>\n",
       "    </tr>\n",
       "    <tr>\n",
       "      <th>25%</th>\n",
       "      <td>150.000000</td>\n",
       "      <td>9.000000</td>\n",
       "    </tr>\n",
       "    <tr>\n",
       "      <th>50%</th>\n",
       "      <td>300.000000</td>\n",
       "      <td>15.000000</td>\n",
       "    </tr>\n",
       "    <tr>\n",
       "      <th>75%</th>\n",
       "      <td>500.000000</td>\n",
       "      <td>23.000000</td>\n",
       "    </tr>\n",
       "    <tr>\n",
       "      <th>max</th>\n",
       "      <td>950.000000</td>\n",
       "      <td>66.000000</td>\n",
       "    </tr>\n",
       "  </tbody>\n",
       "</table>\n",
       "</div>"
      ],
      "text/plain": [
       "              Fees    years_exp\n",
       "count  5961.000000  7948.000000\n",
       "mean    307.944640    17.446653\n",
       "std     190.920373    11.201217\n",
       "min       5.000000     0.000000\n",
       "25%     150.000000     9.000000\n",
       "50%     300.000000    15.000000\n",
       "75%     500.000000    23.000000\n",
       "max     950.000000    66.000000"
      ]
     },
     "execution_count": 10,
     "metadata": {},
     "output_type": "execute_result"
    }
   ],
   "source": [
    "# univariate analysis of the  dataset\n",
    "# describe function provide  statistics summary of continuous variable.\n",
    "\n",
    "D_fees.describe()\n",
    "\n",
    "# we have only fees columns in continuous in nature \n",
    "# we can seen difference between 75% and max in the fees columns, it is show presence of outliers."
   ]
  },
  {
   "cell_type": "code",
   "execution_count": 11,
   "metadata": {},
   "outputs": [
    {
     "data": {
      "text/html": [
       "<div>\n",
       "<style scoped>\n",
       "    .dataframe tbody tr th:only-of-type {\n",
       "        vertical-align: middle;\n",
       "    }\n",
       "\n",
       "    .dataframe tbody tr th {\n",
       "        vertical-align: top;\n",
       "    }\n",
       "\n",
       "    .dataframe thead th {\n",
       "        text-align: right;\n",
       "    }\n",
       "</style>\n",
       "<table border=\"1\" class=\"dataframe\">\n",
       "  <thead>\n",
       "    <tr style=\"text-align: right;\">\n",
       "      <th></th>\n",
       "      <th>Qualification</th>\n",
       "      <th>Experience</th>\n",
       "      <th>Rating</th>\n",
       "      <th>Place</th>\n",
       "      <th>Profile</th>\n",
       "      <th>Miscellaneous_Info</th>\n",
       "    </tr>\n",
       "  </thead>\n",
       "  <tbody>\n",
       "    <tr>\n",
       "      <th>count</th>\n",
       "      <td>7948</td>\n",
       "      <td>7948</td>\n",
       "      <td>3556</td>\n",
       "      <td>7917</td>\n",
       "      <td>7948</td>\n",
       "      <td>4494</td>\n",
       "    </tr>\n",
       "    <tr>\n",
       "      <th>unique</th>\n",
       "      <td>1801</td>\n",
       "      <td>64</td>\n",
       "      <td>52</td>\n",
       "      <td>948</td>\n",
       "      <td>6</td>\n",
       "      <td>3980</td>\n",
       "    </tr>\n",
       "    <tr>\n",
       "      <th>top</th>\n",
       "      <td>BDS</td>\n",
       "      <td>9 years experience</td>\n",
       "      <td>100%</td>\n",
       "      <td>HSR Layout, Bangalore</td>\n",
       "      <td>Dentist</td>\n",
       "      <td>Acrylic Partial Denture Crowns and Bridges Fix...</td>\n",
       "    </tr>\n",
       "    <tr>\n",
       "      <th>freq</th>\n",
       "      <td>632</td>\n",
       "      <td>419</td>\n",
       "      <td>907</td>\n",
       "      <td>97</td>\n",
       "      <td>1838</td>\n",
       "      <td>50</td>\n",
       "    </tr>\n",
       "  </tbody>\n",
       "</table>\n",
       "</div>"
      ],
      "text/plain": [
       "       Qualification          Experience Rating                  Place  \\\n",
       "count           7948                7948   3556                   7917   \n",
       "unique          1801                  64     52                    948   \n",
       "top              BDS  9 years experience   100%  HSR Layout, Bangalore   \n",
       "freq             632                 419    907                     97   \n",
       "\n",
       "        Profile                                 Miscellaneous_Info  \n",
       "count      7948                                               4494  \n",
       "unique        6                                               3980  \n",
       "top     Dentist  Acrylic Partial Denture Crowns and Bridges Fix...  \n",
       "freq       1838                                                 50  "
      ]
     },
     "execution_count": 11,
     "metadata": {},
     "output_type": "execute_result"
    }
   ],
   "source": [
    "# let's check detail information of categorical and boolean varible\n",
    "    \n",
    "D_fees.describe(include=['object', 'bool'])\n",
    "\n",
    "# below data show all the categorical variables have lot of unique values except for 'Profile'"
   ]
  },
  {
   "cell_type": "code",
   "execution_count": 12,
   "metadata": {},
   "outputs": [
    {
     "data": {
      "text/plain": [
       "BDS                                                                   632\n",
       "BHMS                                                                  627\n",
       "BAMS                                                                  624\n",
       "MBBS                                                                  441\n",
       "MBBS, MS - ENT                                                        280\n",
       "                                                                     ... \n",
       "MBBS, MS - General Surgery, DNB - Urology/Genito - Urinary Surgery      1\n",
       "BAMS, Diploma in Cosmetology, Diploma in Health Administration          1\n",
       "FPFA, BDS, FPFA, MDS - Conservative Dentistry & Endodontics             1\n",
       "BHMS, MD - Homeopathy, Weight Management Consultant Certificate         1\n",
       "MD - Dermatology , Venereology & Leprosy, MBBS, DVL                     1\n",
       "Name: Qualification, Length: 1801, dtype: int64"
      ]
     },
     "execution_count": 12,
     "metadata": {},
     "output_type": "execute_result"
    }
   ],
   "source": [
    "# let's check how check count of each qualification of doctors.\n",
    "\n",
    "D_fees.Qualification.value_counts()\n",
    "\n",
    "# from below data we say that highest doctor's qualification is BDS\n",
    "# we have to split qualification data in degree and specialization."
   ]
  },
  {
   "cell_type": "code",
   "execution_count": 13,
   "metadata": {},
   "outputs": [
    {
     "data": {
      "text/plain": [
       "<matplotlib.axes._subplots.AxesSubplot at 0x1b195b6ea88>"
      ]
     },
     "execution_count": 13,
     "metadata": {},
     "output_type": "execute_result"
    },
    {
     "data": {
      "image/png": "[encoded data removed]",
      "text/plain": [
       "<Figure size 432x288 with 1 Axes>"
      ]
     },
     "metadata": {
      "needs_background": "light"
     },
     "output_type": "display_data"
    }
   ],
   "source": [
    "# let's plot histogram to see distribution of fees varible\n",
    "\n",
    "D_fees['Fees'].hist(bins=5)"
   ]
  },
  {
   "cell_type": "code",
   "execution_count": 14,
   "metadata": {},
   "outputs": [
    {
     "data": {
      "text/plain": [
       "100.0    1306\n",
       "500.0     938\n",
       "200.0     904\n",
       "300.0     864\n",
       "400.0     424\n",
       "250.0     307\n",
       "150.0     253\n",
       "600.0     215\n",
       "700.0     153\n",
       "350.0     143\n",
       "800.0     143\n",
       "50.0       81\n",
       "450.0      65\n",
       "750.0      34\n",
       "550.0      22\n",
       "650.0      21\n",
       "900.0      18\n",
       "70.0       18\n",
       "80.0       12\n",
       "60.0       11\n",
       "30.0        4\n",
       "40.0        2\n",
       "130.0       2\n",
       "180.0       2\n",
       "10.0        2\n",
       "260.0       2\n",
       "380.0       2\n",
       "220.0       1\n",
       "430.0       1\n",
       "630.0       1\n",
       "299.0       1\n",
       "20.0        1\n",
       "280.0       1\n",
       "230.0       1\n",
       "5.0         1\n",
       "850.0       1\n",
       "950.0       1\n",
       "125.0       1\n",
       "920.0       1\n",
       "499.0       1\n",
       "Name: Fees, dtype: int64"
      ]
     },
     "execution_count": 14,
     "metadata": {},
     "output_type": "execute_result"
    }
   ],
   "source": [
    "# let's check fees count\n",
    "D_fees['Fees'].value_counts()"
   ]
  },
  {
   "cell_type": "code",
   "execution_count": 15,
   "metadata": {},
   "outputs": [
    {
     "data": {
      "text/plain": [
       "<matplotlib.axes._subplots.AxesSubplot at 0x1b195c927c8>"
      ]
     },
     "execution_count": 15,
     "metadata": {},
     "output_type": "execute_result"
    },
    {
     "data": {
      "image/png": "[encoded data removed]",
      "text/plain": [
       "<Figure size 432x288 with 1 Axes>"
      ]
     },
     "metadata": {
      "needs_background": "light"
     },
     "output_type": "display_data"
    }
   ],
   "source": [
    "# let's plot Boxplot for Fees feature to check outliers\n",
    "\n",
    "sns.boxplot(x='Fees',data=D_fees)\n",
    "\n",
    "# from the below graph we say that most of doctore_fees between 100 to 500"
   ]
  },
  {
   "cell_type": "code",
   "execution_count": 16,
   "metadata": {},
   "outputs": [
    {
     "data": {
      "text/plain": [
       "<matplotlib.axes._subplots.AxesSubplot at 0x1b195d2c588>"
      ]
     },
     "execution_count": 16,
     "metadata": {},
     "output_type": "execute_result"
    },
    {
     "data": {
      "image/png": "[encoded data removed]",
      "text/plain": [
       "<Figure size 432x288 with 2 Axes>"
      ]
     },
     "metadata": {
      "needs_background": "light"
     },
     "output_type": "display_data"
    }
   ],
   "source": [
    "# lets' plot heatmapto see missing value\n",
    "\n",
    "sns.heatmap(D_fees.isnull())"
   ]
  },
  {
   "cell_type": "code",
   "execution_count": 17,
   "metadata": {},
   "outputs": [
    {
     "data": {
      "text/html": [
       "<div>\n",
       "<style scoped>\n",
       "    .dataframe tbody tr th:only-of-type {\n",
       "        vertical-align: middle;\n",
       "    }\n",
       "\n",
       "    .dataframe tbody tr th {\n",
       "        vertical-align: top;\n",
       "    }\n",
       "\n",
       "    .dataframe thead th {\n",
       "        text-align: right;\n",
       "    }\n",
       "</style>\n",
       "<table border=\"1\" class=\"dataframe\">\n",
       "  <thead>\n",
       "    <tr style=\"text-align: right;\">\n",
       "      <th></th>\n",
       "      <th>Rating</th>\n",
       "      <th>Miscellaneous_Info</th>\n",
       "    </tr>\n",
       "  </thead>\n",
       "  <tbody>\n",
       "    <tr>\n",
       "      <th>0</th>\n",
       "      <td>100%</td>\n",
       "      <td>100% 16 Feedback Kakkanad, Ernakulam</td>\n",
       "    </tr>\n",
       "    <tr>\n",
       "      <th>1</th>\n",
       "      <td>98%</td>\n",
       "      <td>98% 76 Feedback Whitefield, Bangalore</td>\n",
       "    </tr>\n",
       "    <tr>\n",
       "      <th>2</th>\n",
       "      <td>NaN</td>\n",
       "      <td>NaN</td>\n",
       "    </tr>\n",
       "    <tr>\n",
       "      <th>3</th>\n",
       "      <td>NaN</td>\n",
       "      <td>Bannerghatta Road, Bangalore ₹250 Available on...</td>\n",
       "    </tr>\n",
       "    <tr>\n",
       "      <th>4</th>\n",
       "      <td>100%</td>\n",
       "      <td>100% 4 Feedback Keelkattalai, Chennai</td>\n",
       "    </tr>\n",
       "    <tr>\n",
       "      <th>5</th>\n",
       "      <td>NaN</td>\n",
       "      <td>NaN</td>\n",
       "    </tr>\n",
       "    <tr>\n",
       "      <th>6</th>\n",
       "      <td>NaN</td>\n",
       "      <td>NaN</td>\n",
       "    </tr>\n",
       "    <tr>\n",
       "      <th>7</th>\n",
       "      <td>99%</td>\n",
       "      <td>Dental Fillings Crowns and Bridges Fixing Impa...</td>\n",
       "    </tr>\n",
       "    <tr>\n",
       "      <th>8</th>\n",
       "      <td>NaN</td>\n",
       "      <td>NaN</td>\n",
       "    </tr>\n",
       "    <tr>\n",
       "      <th>9</th>\n",
       "      <td>NaN</td>\n",
       "      <td>NaN</td>\n",
       "    </tr>\n",
       "    <tr>\n",
       "      <th>10</th>\n",
       "      <td>NaN</td>\n",
       "      <td>NaN</td>\n",
       "    </tr>\n",
       "    <tr>\n",
       "      <th>11</th>\n",
       "      <td>NaN</td>\n",
       "      <td>NaN</td>\n",
       "    </tr>\n",
       "    <tr>\n",
       "      <th>12</th>\n",
       "      <td>98%</td>\n",
       "      <td>98% 14 Feedback Coimbatore Racecourse, Coimbatore</td>\n",
       "    </tr>\n",
       "    <tr>\n",
       "      <th>13</th>\n",
       "      <td>NaN</td>\n",
       "      <td>Dental Crowns Facet Dental Dental prophylaxis</td>\n",
       "    </tr>\n",
       "    <tr>\n",
       "      <th>14</th>\n",
       "      <td>NaN</td>\n",
       "      <td>NaN</td>\n",
       "    </tr>\n",
       "    <tr>\n",
       "      <th>15</th>\n",
       "      <td>NaN</td>\n",
       "      <td>NaN</td>\n",
       "    </tr>\n",
       "    <tr>\n",
       "      <th>16</th>\n",
       "      <td>NaN</td>\n",
       "      <td>NaN</td>\n",
       "    </tr>\n",
       "    <tr>\n",
       "      <th>17</th>\n",
       "      <td>NaN</td>\n",
       "      <td>NaN</td>\n",
       "    </tr>\n",
       "    <tr>\n",
       "      <th>18</th>\n",
       "      <td>79%</td>\n",
       "      <td>79% 8 Feedback KPHB, Hyderabad</td>\n",
       "    </tr>\n",
       "    <tr>\n",
       "      <th>19</th>\n",
       "      <td>100%</td>\n",
       "      <td>100% 4 Feedback HSR Layout, Bangalore</td>\n",
       "    </tr>\n",
       "    <tr>\n",
       "      <th>20</th>\n",
       "      <td>100%</td>\n",
       "      <td>100% 7 Feedback Pollachi, Coimbatore</td>\n",
       "    </tr>\n",
       "    <tr>\n",
       "      <th>21</th>\n",
       "      <td>NaN</td>\n",
       "      <td>Adenoid / Tonsil Surgery Rhinoplasty Laryngoscopy</td>\n",
       "    </tr>\n",
       "    <tr>\n",
       "      <th>22</th>\n",
       "      <td>NaN</td>\n",
       "      <td>NaN</td>\n",
       "    </tr>\n",
       "    <tr>\n",
       "      <th>23</th>\n",
       "      <td>NaN</td>\n",
       "      <td>NaN</td>\n",
       "    </tr>\n",
       "    <tr>\n",
       "      <th>24</th>\n",
       "      <td>NaN</td>\n",
       "      <td>NaN</td>\n",
       "    </tr>\n",
       "    <tr>\n",
       "      <th>25</th>\n",
       "      <td>NaN</td>\n",
       "      <td>NaN</td>\n",
       "    </tr>\n",
       "    <tr>\n",
       "      <th>26</th>\n",
       "      <td>100%</td>\n",
       "      <td>100% 46 Feedback HSR Layout, Bangalore</td>\n",
       "    </tr>\n",
       "    <tr>\n",
       "      <th>27</th>\n",
       "      <td>95%</td>\n",
       "      <td>95% 6 Feedback Kukatpally, Hyderabad</td>\n",
       "    </tr>\n",
       "    <tr>\n",
       "      <th>28</th>\n",
       "      <td>NaN</td>\n",
       "      <td>NaN</td>\n",
       "    </tr>\n",
       "    <tr>\n",
       "      <th>29</th>\n",
       "      <td>97%</td>\n",
       "      <td>97% 60 Feedback Defence Colony, Delhi</td>\n",
       "    </tr>\n",
       "    <tr>\n",
       "      <th>30</th>\n",
       "      <td>97%</td>\n",
       "      <td>97% 18 Feedback Banjara Hills, Hyderabad</td>\n",
       "    </tr>\n",
       "    <tr>\n",
       "      <th>31</th>\n",
       "      <td>NaN</td>\n",
       "      <td>Dentistry Sion West, Mumbai ₹500</td>\n",
       "    </tr>\n",
       "    <tr>\n",
       "      <th>32</th>\n",
       "      <td>94%</td>\n",
       "      <td>Functional Endoscopic Sinus Surgery - FESS Sku...</td>\n",
       "    </tr>\n",
       "    <tr>\n",
       "      <th>33</th>\n",
       "      <td>88%</td>\n",
       "      <td>88% 2 Feedback Mogappair East, Chennai</td>\n",
       "    </tr>\n",
       "    <tr>\n",
       "      <th>34</th>\n",
       "      <td>NaN</td>\n",
       "      <td>NaN</td>\n",
       "    </tr>\n",
       "    <tr>\n",
       "      <th>35</th>\n",
       "      <td>100%</td>\n",
       "      <td>Tooth Extraction Impaction / Impacted Tooth Ex...</td>\n",
       "    </tr>\n",
       "    <tr>\n",
       "      <th>36</th>\n",
       "      <td>NaN</td>\n",
       "      <td>Dental Fillings RCT - Root Canal Treatment Gen...</td>\n",
       "    </tr>\n",
       "    <tr>\n",
       "      <th>37</th>\n",
       "      <td>90%</td>\n",
       "      <td>90% 2 Feedback Borivali West, Mumbai</td>\n",
       "    </tr>\n",
       "    <tr>\n",
       "      <th>38</th>\n",
       "      <td>80%</td>\n",
       "      <td>80% 3 Feedback Saket, Delhi</td>\n",
       "    </tr>\n",
       "    <tr>\n",
       "      <th>39</th>\n",
       "      <td>NaN</td>\n",
       "      <td>Dermabrasion Wrinkle Treatment Microdermabrasion</td>\n",
       "    </tr>\n",
       "    <tr>\n",
       "      <th>40</th>\n",
       "      <td>100%</td>\n",
       "      <td>Complete/Partial Dentures Fixing Acrylic Parti...</td>\n",
       "    </tr>\n",
       "    <tr>\n",
       "      <th>41</th>\n",
       "      <td>100%</td>\n",
       "      <td>100% 21 Feedback Dahisar West, Mumbai</td>\n",
       "    </tr>\n",
       "    <tr>\n",
       "      <th>42</th>\n",
       "      <td>100%</td>\n",
       "      <td>100% 7 Feedback RT Nagar, Bangalore</td>\n",
       "    </tr>\n",
       "    <tr>\n",
       "      <th>43</th>\n",
       "      <td>NaN</td>\n",
       "      <td>NaN</td>\n",
       "    </tr>\n",
       "    <tr>\n",
       "      <th>44</th>\n",
       "      <td>99%</td>\n",
       "      <td>Skin Disease Treatment Endocrine and metabolic...</td>\n",
       "    </tr>\n",
       "    <tr>\n",
       "      <th>45</th>\n",
       "      <td>NaN</td>\n",
       "      <td>NaN</td>\n",
       "    </tr>\n",
       "    <tr>\n",
       "      <th>46</th>\n",
       "      <td>100%</td>\n",
       "      <td>Dental Fillings Tooth Extraction Periodontal F...</td>\n",
       "    </tr>\n",
       "    <tr>\n",
       "      <th>47</th>\n",
       "      <td>NaN</td>\n",
       "      <td>NaN</td>\n",
       "    </tr>\n",
       "    <tr>\n",
       "      <th>48</th>\n",
       "      <td>93%</td>\n",
       "      <td>93% 42 Feedback Madhapur, Hyderabad</td>\n",
       "    </tr>\n",
       "    <tr>\n",
       "      <th>49</th>\n",
       "      <td>NaN</td>\n",
       "      <td>NaN</td>\n",
       "    </tr>\n",
       "  </tbody>\n",
       "</table>\n",
       "</div>"
      ],
      "text/plain": [
       "   Rating                                 Miscellaneous_Info\n",
       "0    100%               100% 16 Feedback Kakkanad, Ernakulam\n",
       "1     98%              98% 76 Feedback Whitefield, Bangalore\n",
       "2     NaN                                                NaN\n",
       "3     NaN  Bannerghatta Road, Bangalore ₹250 Available on...\n",
       "4    100%              100% 4 Feedback Keelkattalai, Chennai\n",
       "5     NaN                                                NaN\n",
       "6     NaN                                                NaN\n",
       "7     99%  Dental Fillings Crowns and Bridges Fixing Impa...\n",
       "8     NaN                                                NaN\n",
       "9     NaN                                                NaN\n",
       "10    NaN                                                NaN\n",
       "11    NaN                                                NaN\n",
       "12    98%  98% 14 Feedback Coimbatore Racecourse, Coimbatore\n",
       "13    NaN      Dental Crowns Facet Dental Dental prophylaxis\n",
       "14    NaN                                                NaN\n",
       "15    NaN                                                NaN\n",
       "16    NaN                                                NaN\n",
       "17    NaN                                                NaN\n",
       "18    79%                     79% 8 Feedback KPHB, Hyderabad\n",
       "19   100%              100% 4 Feedback HSR Layout, Bangalore\n",
       "20   100%               100% 7 Feedback Pollachi, Coimbatore\n",
       "21    NaN  Adenoid / Tonsil Surgery Rhinoplasty Laryngoscopy\n",
       "22    NaN                                                NaN\n",
       "23    NaN                                                NaN\n",
       "24    NaN                                                NaN\n",
       "25    NaN                                                NaN\n",
       "26   100%             100% 46 Feedback HSR Layout, Bangalore\n",
       "27    95%               95% 6 Feedback Kukatpally, Hyderabad\n",
       "28    NaN                                                NaN\n",
       "29    97%              97% 60 Feedback Defence Colony, Delhi\n",
       "30    97%           97% 18 Feedback Banjara Hills, Hyderabad\n",
       "31    NaN                   Dentistry Sion West, Mumbai ₹500\n",
       "32    94%  Functional Endoscopic Sinus Surgery - FESS Sku...\n",
       "33    88%             88% 2 Feedback Mogappair East, Chennai\n",
       "34    NaN                                                NaN\n",
       "35   100%  Tooth Extraction Impaction / Impacted Tooth Ex...\n",
       "36    NaN  Dental Fillings RCT - Root Canal Treatment Gen...\n",
       "37    90%               90% 2 Feedback Borivali West, Mumbai\n",
       "38    80%                        80% 3 Feedback Saket, Delhi\n",
       "39    NaN   Dermabrasion Wrinkle Treatment Microdermabrasion\n",
       "40   100%  Complete/Partial Dentures Fixing Acrylic Parti...\n",
       "41   100%              100% 21 Feedback Dahisar West, Mumbai\n",
       "42   100%                100% 7 Feedback RT Nagar, Bangalore\n",
       "43    NaN                                                NaN\n",
       "44    99%  Skin Disease Treatment Endocrine and metabolic...\n",
       "45    NaN                                                NaN\n",
       "46   100%  Dental Fillings Tooth Extraction Periodontal F...\n",
       "47    NaN                                                NaN\n",
       "48    93%                93% 42 Feedback Madhapur, Hyderabad\n",
       "49    NaN                                                NaN"
      ]
     },
     "execution_count": 17,
     "metadata": {},
     "output_type": "execute_result"
    }
   ],
   "source": [
    "# let's print 1 to 50 rows of Rating and Miscellaneous_Info columns because in both columns have high number of missing values\n",
    "\n",
    "D_fees[['Rating','Miscellaneous_Info']].head(50)\n",
    "\n",
    "# as we can observe from below data, Rating is more missing than Misc_info \n",
    "# because some of Misc_info doesn't contain rating of the doctors\n",
    "#Also, it looks like Misc_info is a combination of Rating"
   ]
  },
  {
   "cell_type": "markdown",
   "metadata": {},
   "source": [
    "# Attribute information\n",
    "\n",
    "- Size of training set: 5961 records\n",
    "\n",
    "- Size of test set: 1987 records\n",
    "\n",
    "## FEATURES:\n",
    "\n",
    "- Qualification: Qualification and degrees held by the doctor\n",
    "\n",
    "- Experience: Experience of the doctor in number of years\n",
    "\n",
    "- Rating: Rating given by patients\n",
    "\n",
    "- Profile: Type of the doctor\n",
    "\n",
    "- Miscellaeous_Info: Extra information about the doctor\n",
    "\n",
    "- Fees: Fees charged by the doctor\n",
    "\n",
    "- Place: Area and the city where the doctor is located."
   ]
  },
  {
   "cell_type": "code",
   "execution_count": 18,
   "metadata": {},
   "outputs": [
    {
     "data": {
      "text/html": [
       "<div>\n",
       "<style scoped>\n",
       "    .dataframe tbody tr th:only-of-type {\n",
       "        vertical-align: middle;\n",
       "    }\n",
       "\n",
       "    .dataframe tbody tr th {\n",
       "        vertical-align: top;\n",
       "    }\n",
       "\n",
       "    .dataframe thead th {\n",
       "        text-align: right;\n",
       "    }\n",
       "</style>\n",
       "<table border=\"1\" class=\"dataframe\">\n",
       "  <thead>\n",
       "    <tr style=\"text-align: right;\">\n",
       "      <th>Fees</th>\n",
       "      <th>5.0</th>\n",
       "      <th>10.0</th>\n",
       "      <th>20.0</th>\n",
       "      <th>30.0</th>\n",
       "      <th>40.0</th>\n",
       "      <th>50.0</th>\n",
       "      <th>60.0</th>\n",
       "      <th>70.0</th>\n",
       "      <th>80.0</th>\n",
       "      <th>100.0</th>\n",
       "      <th>...</th>\n",
       "      <th>600.0</th>\n",
       "      <th>630.0</th>\n",
       "      <th>650.0</th>\n",
       "      <th>700.0</th>\n",
       "      <th>750.0</th>\n",
       "      <th>800.0</th>\n",
       "      <th>850.0</th>\n",
       "      <th>900.0</th>\n",
       "      <th>920.0</th>\n",
       "      <th>950.0</th>\n",
       "    </tr>\n",
       "    <tr>\n",
       "      <th>Profile</th>\n",
       "      <th></th>\n",
       "      <th></th>\n",
       "      <th></th>\n",
       "      <th></th>\n",
       "      <th></th>\n",
       "      <th></th>\n",
       "      <th></th>\n",
       "      <th></th>\n",
       "      <th></th>\n",
       "      <th></th>\n",
       "      <th></th>\n",
       "      <th></th>\n",
       "      <th></th>\n",
       "      <th></th>\n",
       "      <th></th>\n",
       "      <th></th>\n",
       "      <th></th>\n",
       "      <th></th>\n",
       "      <th></th>\n",
       "      <th></th>\n",
       "      <th></th>\n",
       "    </tr>\n",
       "  </thead>\n",
       "  <tbody>\n",
       "    <tr>\n",
       "      <th>Ayurveda</th>\n",
       "      <td>0</td>\n",
       "      <td>1</td>\n",
       "      <td>0</td>\n",
       "      <td>4</td>\n",
       "      <td>1</td>\n",
       "      <td>39</td>\n",
       "      <td>7</td>\n",
       "      <td>8</td>\n",
       "      <td>6</td>\n",
       "      <td>203</td>\n",
       "      <td>...</td>\n",
       "      <td>8</td>\n",
       "      <td>0</td>\n",
       "      <td>0</td>\n",
       "      <td>2</td>\n",
       "      <td>1</td>\n",
       "      <td>3</td>\n",
       "      <td>0</td>\n",
       "      <td>1</td>\n",
       "      <td>0</td>\n",
       "      <td>0</td>\n",
       "    </tr>\n",
       "    <tr>\n",
       "      <th>Dentist</th>\n",
       "      <td>1</td>\n",
       "      <td>1</td>\n",
       "      <td>0</td>\n",
       "      <td>0</td>\n",
       "      <td>0</td>\n",
       "      <td>5</td>\n",
       "      <td>0</td>\n",
       "      <td>1</td>\n",
       "      <td>1</td>\n",
       "      <td>377</td>\n",
       "      <td>...</td>\n",
       "      <td>11</td>\n",
       "      <td>0</td>\n",
       "      <td>0</td>\n",
       "      <td>3</td>\n",
       "      <td>0</td>\n",
       "      <td>12</td>\n",
       "      <td>0</td>\n",
       "      <td>1</td>\n",
       "      <td>0</td>\n",
       "      <td>0</td>\n",
       "    </tr>\n",
       "    <tr>\n",
       "      <th>Dermatologists</th>\n",
       "      <td>0</td>\n",
       "      <td>0</td>\n",
       "      <td>0</td>\n",
       "      <td>0</td>\n",
       "      <td>0</td>\n",
       "      <td>1</td>\n",
       "      <td>0</td>\n",
       "      <td>0</td>\n",
       "      <td>0</td>\n",
       "      <td>184</td>\n",
       "      <td>...</td>\n",
       "      <td>63</td>\n",
       "      <td>0</td>\n",
       "      <td>7</td>\n",
       "      <td>59</td>\n",
       "      <td>11</td>\n",
       "      <td>43</td>\n",
       "      <td>0</td>\n",
       "      <td>5</td>\n",
       "      <td>0</td>\n",
       "      <td>0</td>\n",
       "    </tr>\n",
       "    <tr>\n",
       "      <th>ENT Specialist</th>\n",
       "      <td>0</td>\n",
       "      <td>0</td>\n",
       "      <td>0</td>\n",
       "      <td>0</td>\n",
       "      <td>0</td>\n",
       "      <td>3</td>\n",
       "      <td>0</td>\n",
       "      <td>1</td>\n",
       "      <td>0</td>\n",
       "      <td>107</td>\n",
       "      <td>...</td>\n",
       "      <td>50</td>\n",
       "      <td>1</td>\n",
       "      <td>7</td>\n",
       "      <td>45</td>\n",
       "      <td>2</td>\n",
       "      <td>38</td>\n",
       "      <td>0</td>\n",
       "      <td>3</td>\n",
       "      <td>0</td>\n",
       "      <td>0</td>\n",
       "    </tr>\n",
       "    <tr>\n",
       "      <th>General Medicine</th>\n",
       "      <td>0</td>\n",
       "      <td>0</td>\n",
       "      <td>1</td>\n",
       "      <td>0</td>\n",
       "      <td>0</td>\n",
       "      <td>15</td>\n",
       "      <td>1</td>\n",
       "      <td>5</td>\n",
       "      <td>5</td>\n",
       "      <td>271</td>\n",
       "      <td>...</td>\n",
       "      <td>68</td>\n",
       "      <td>0</td>\n",
       "      <td>7</td>\n",
       "      <td>28</td>\n",
       "      <td>11</td>\n",
       "      <td>28</td>\n",
       "      <td>1</td>\n",
       "      <td>5</td>\n",
       "      <td>0</td>\n",
       "      <td>1</td>\n",
       "    </tr>\n",
       "    <tr>\n",
       "      <th>Homeopath</th>\n",
       "      <td>0</td>\n",
       "      <td>0</td>\n",
       "      <td>0</td>\n",
       "      <td>0</td>\n",
       "      <td>1</td>\n",
       "      <td>18</td>\n",
       "      <td>3</td>\n",
       "      <td>3</td>\n",
       "      <td>0</td>\n",
       "      <td>164</td>\n",
       "      <td>...</td>\n",
       "      <td>15</td>\n",
       "      <td>0</td>\n",
       "      <td>0</td>\n",
       "      <td>16</td>\n",
       "      <td>9</td>\n",
       "      <td>19</td>\n",
       "      <td>0</td>\n",
       "      <td>3</td>\n",
       "      <td>1</td>\n",
       "      <td>0</td>\n",
       "    </tr>\n",
       "  </tbody>\n",
       "</table>\n",
       "<p>6 rows × 40 columns</p>\n",
       "</div>"
      ],
      "text/plain": [
       "Fees              5.0    10.0   20.0   30.0   40.0   50.0   60.0   70.0   \\\n",
       "Profile                                                                    \n",
       "Ayurveda              0      1      0      4      1     39      7      8   \n",
       "Dentist               1      1      0      0      0      5      0      1   \n",
       "Dermatologists        0      0      0      0      0      1      0      0   \n",
       "ENT Specialist        0      0      0      0      0      3      0      1   \n",
       "General Medicine      0      0      1      0      0     15      1      5   \n",
       "Homeopath             0      0      0      0      1     18      3      3   \n",
       "\n",
       "Fees              80.0   100.0  ...  600.0  630.0  650.0  700.0  750.0  800.0  \\\n",
       "Profile                         ...                                             \n",
       "Ayurveda              6    203  ...      8      0      0      2      1      3   \n",
       "Dentist               1    377  ...     11      0      0      3      0     12   \n",
       "Dermatologists        0    184  ...     63      0      7     59     11     43   \n",
       "ENT Specialist        0    107  ...     50      1      7     45      2     38   \n",
       "General Medicine      5    271  ...     68      0      7     28     11     28   \n",
       "Homeopath             0    164  ...     15      0      0     16      9     19   \n",
       "\n",
       "Fees              850.0  900.0  920.0  950.0  \n",
       "Profile                                       \n",
       "Ayurveda              0      1      0      0  \n",
       "Dentist               0      1      0      0  \n",
       "Dermatologists        0      5      0      0  \n",
       "ENT Specialist        0      3      0      0  \n",
       "General Medicine      1      5      0      1  \n",
       "Homeopath             0      3      1      0  \n",
       "\n",
       "[6 rows x 40 columns]"
      ]
     },
     "execution_count": 18,
     "metadata": {},
     "output_type": "execute_result"
    }
   ],
   "source": [
    "pd.crosstab(D_fees['Profile'],D_fees['Fees'])\n",
    "\n",
    "# as per data high fees charged by dermatologists profile"
   ]
  },
  {
   "cell_type": "code",
   "execution_count": 19,
   "metadata": {},
   "outputs": [
    {
     "data": {
      "text/plain": [
       "Dentist             1838\n",
       "General Medicine    1617\n",
       "Dermatologists      1373\n",
       "Homeopath           1120\n",
       "Ayurveda            1037\n",
       "ENT Specialist       963\n",
       "Name: Profile, dtype: int64"
      ]
     },
     "execution_count": 19,
     "metadata": {},
     "output_type": "execute_result"
    }
   ],
   "source": [
    "# let's check which profile doctore is hight in the dataset\n",
    "D_fees['Profile'].value_counts()\n",
    "\n",
    "# as we seen below the dentist doctor count are high followed by General medicine."
   ]
  },
  {
   "cell_type": "code",
   "execution_count": 20,
   "metadata": {},
   "outputs": [],
   "source": [
    "# let's split city and Locality from place columns\n",
    "\n",
    "D_fees['City'] = D_fees['Place'].str.split(',').str[1]\n",
    "D_fees['Area'] =D_fees['Place'].str.split(',').str[0]"
   ]
  },
  {
   "cell_type": "code",
   "execution_count": 21,
   "metadata": {},
   "outputs": [
    {
     "data": {
      "text/html": [
       "<div>\n",
       "<style scoped>\n",
       "    .dataframe tbody tr th:only-of-type {\n",
       "        vertical-align: middle;\n",
       "    }\n",
       "\n",
       "    .dataframe tbody tr th {\n",
       "        vertical-align: top;\n",
       "    }\n",
       "\n",
       "    .dataframe thead th {\n",
       "        text-align: right;\n",
       "    }\n",
       "</style>\n",
       "<table border=\"1\" class=\"dataframe\">\n",
       "  <thead>\n",
       "    <tr style=\"text-align: right;\">\n",
       "      <th></th>\n",
       "      <th>Qualification</th>\n",
       "      <th>Experience</th>\n",
       "      <th>Rating</th>\n",
       "      <th>Place</th>\n",
       "      <th>Profile</th>\n",
       "      <th>Miscellaneous_Info</th>\n",
       "      <th>Fees</th>\n",
       "      <th>years_exp</th>\n",
       "      <th>City</th>\n",
       "      <th>Area</th>\n",
       "    </tr>\n",
       "  </thead>\n",
       "  <tbody>\n",
       "    <tr>\n",
       "      <th>0</th>\n",
       "      <td>BHMS, MD - Homeopathy</td>\n",
       "      <td>24 years experience</td>\n",
       "      <td>100%</td>\n",
       "      <td>Kakkanad, Ernakulam</td>\n",
       "      <td>Homeopath</td>\n",
       "      <td>100% 16 Feedback Kakkanad, Ernakulam</td>\n",
       "      <td>100.0</td>\n",
       "      <td>24</td>\n",
       "      <td>Ernakulam</td>\n",
       "      <td>Kakkanad</td>\n",
       "    </tr>\n",
       "    <tr>\n",
       "      <th>1</th>\n",
       "      <td>BAMS, MD - Ayurveda Medicine</td>\n",
       "      <td>12 years experience</td>\n",
       "      <td>98%</td>\n",
       "      <td>Whitefield, Bangalore</td>\n",
       "      <td>Ayurveda</td>\n",
       "      <td>98% 76 Feedback Whitefield, Bangalore</td>\n",
       "      <td>350.0</td>\n",
       "      <td>12</td>\n",
       "      <td>Bangalore</td>\n",
       "      <td>Whitefield</td>\n",
       "    </tr>\n",
       "    <tr>\n",
       "      <th>2</th>\n",
       "      <td>MBBS, MS - Otorhinolaryngology</td>\n",
       "      <td>9 years experience</td>\n",
       "      <td>NaN</td>\n",
       "      <td>Mathikere - BEL, Bangalore</td>\n",
       "      <td>ENT Specialist</td>\n",
       "      <td>NaN</td>\n",
       "      <td>300.0</td>\n",
       "      <td>9</td>\n",
       "      <td>Bangalore</td>\n",
       "      <td>Mathikere - BEL</td>\n",
       "    </tr>\n",
       "    <tr>\n",
       "      <th>3</th>\n",
       "      <td>BSc - Zoology, BAMS</td>\n",
       "      <td>12 years experience</td>\n",
       "      <td>NaN</td>\n",
       "      <td>Bannerghatta Road, Bangalore</td>\n",
       "      <td>Ayurveda</td>\n",
       "      <td>Bannerghatta Road, Bangalore ₹250 Available on...</td>\n",
       "      <td>250.0</td>\n",
       "      <td>12</td>\n",
       "      <td>Bangalore</td>\n",
       "      <td>Bannerghatta Road</td>\n",
       "    </tr>\n",
       "    <tr>\n",
       "      <th>4</th>\n",
       "      <td>BAMS</td>\n",
       "      <td>20 years experience</td>\n",
       "      <td>100%</td>\n",
       "      <td>Keelkattalai, Chennai</td>\n",
       "      <td>Ayurveda</td>\n",
       "      <td>100% 4 Feedback Keelkattalai, Chennai</td>\n",
       "      <td>250.0</td>\n",
       "      <td>20</td>\n",
       "      <td>Chennai</td>\n",
       "      <td>Keelkattalai</td>\n",
       "    </tr>\n",
       "    <tr>\n",
       "      <th>5</th>\n",
       "      <td>BAMS</td>\n",
       "      <td>8 years experience</td>\n",
       "      <td>NaN</td>\n",
       "      <td>Porur, Chennai</td>\n",
       "      <td>Ayurveda</td>\n",
       "      <td>NaN</td>\n",
       "      <td>100.0</td>\n",
       "      <td>8</td>\n",
       "      <td>Chennai</td>\n",
       "      <td>Porur</td>\n",
       "    </tr>\n",
       "    <tr>\n",
       "      <th>6</th>\n",
       "      <td>BHMS</td>\n",
       "      <td>42 years experience</td>\n",
       "      <td>NaN</td>\n",
       "      <td>Karol Bagh, Delhi</td>\n",
       "      <td>Homeopath</td>\n",
       "      <td>NaN</td>\n",
       "      <td>200.0</td>\n",
       "      <td>42</td>\n",
       "      <td>Delhi</td>\n",
       "      <td>Karol Bagh</td>\n",
       "    </tr>\n",
       "    <tr>\n",
       "      <th>7</th>\n",
       "      <td>BDS</td>\n",
       "      <td>10 years experience</td>\n",
       "      <td>99%</td>\n",
       "      <td>Arekere, Bangalore</td>\n",
       "      <td>Dentist</td>\n",
       "      <td>Dental Fillings Crowns and Bridges Fixing Impa...</td>\n",
       "      <td>200.0</td>\n",
       "      <td>10</td>\n",
       "      <td>Bangalore</td>\n",
       "      <td>Arekere</td>\n",
       "    </tr>\n",
       "    <tr>\n",
       "      <th>8</th>\n",
       "      <td>MBBS, MD - General Medicine</td>\n",
       "      <td>14 years experience</td>\n",
       "      <td>NaN</td>\n",
       "      <td>Old City, Hyderabad</td>\n",
       "      <td>General Medicine</td>\n",
       "      <td>NaN</td>\n",
       "      <td>100.0</td>\n",
       "      <td>14</td>\n",
       "      <td>Hyderabad</td>\n",
       "      <td>Old City</td>\n",
       "    </tr>\n",
       "    <tr>\n",
       "      <th>9</th>\n",
       "      <td>BSc, BDS</td>\n",
       "      <td>23 years experience</td>\n",
       "      <td>NaN</td>\n",
       "      <td>Athani, Ernakulam</td>\n",
       "      <td>Dentist</td>\n",
       "      <td>NaN</td>\n",
       "      <td>100.0</td>\n",
       "      <td>23</td>\n",
       "      <td>Ernakulam</td>\n",
       "      <td>Athani</td>\n",
       "    </tr>\n",
       "  </tbody>\n",
       "</table>\n",
       "</div>"
      ],
      "text/plain": [
       "                    Qualification           Experience Rating  \\\n",
       "0           BHMS, MD - Homeopathy  24 years experience   100%   \n",
       "1    BAMS, MD - Ayurveda Medicine  12 years experience    98%   \n",
       "2  MBBS, MS - Otorhinolaryngology   9 years experience    NaN   \n",
       "3             BSc - Zoology, BAMS  12 years experience    NaN   \n",
       "4                            BAMS  20 years experience   100%   \n",
       "5                            BAMS   8 years experience    NaN   \n",
       "6                            BHMS  42 years experience    NaN   \n",
       "7                             BDS  10 years experience    99%   \n",
       "8     MBBS, MD - General Medicine  14 years experience    NaN   \n",
       "9                        BSc, BDS  23 years experience    NaN   \n",
       "\n",
       "                          Place           Profile  \\\n",
       "0           Kakkanad, Ernakulam         Homeopath   \n",
       "1         Whitefield, Bangalore          Ayurveda   \n",
       "2    Mathikere - BEL, Bangalore    ENT Specialist   \n",
       "3  Bannerghatta Road, Bangalore          Ayurveda   \n",
       "4         Keelkattalai, Chennai          Ayurveda   \n",
       "5                Porur, Chennai          Ayurveda   \n",
       "6             Karol Bagh, Delhi         Homeopath   \n",
       "7            Arekere, Bangalore           Dentist   \n",
       "8           Old City, Hyderabad  General Medicine   \n",
       "9             Athani, Ernakulam           Dentist   \n",
       "\n",
       "                                  Miscellaneous_Info   Fees  years_exp  \\\n",
       "0               100% 16 Feedback Kakkanad, Ernakulam  100.0         24   \n",
       "1              98% 76 Feedback Whitefield, Bangalore  350.0         12   \n",
       "2                                                NaN  300.0          9   \n",
       "3  Bannerghatta Road, Bangalore ₹250 Available on...  250.0         12   \n",
       "4              100% 4 Feedback Keelkattalai, Chennai  250.0         20   \n",
       "5                                                NaN  100.0          8   \n",
       "6                                                NaN  200.0         42   \n",
       "7  Dental Fillings Crowns and Bridges Fixing Impa...  200.0         10   \n",
       "8                                                NaN  100.0         14   \n",
       "9                                                NaN  100.0         23   \n",
       "\n",
       "         City               Area  \n",
       "0   Ernakulam           Kakkanad  \n",
       "1   Bangalore         Whitefield  \n",
       "2   Bangalore    Mathikere - BEL  \n",
       "3   Bangalore  Bannerghatta Road  \n",
       "4     Chennai       Keelkattalai  \n",
       "5     Chennai              Porur  \n",
       "6       Delhi         Karol Bagh  \n",
       "7   Bangalore            Arekere  \n",
       "8   Hyderabad           Old City  \n",
       "9   Ernakulam             Athani  "
      ]
     },
     "execution_count": 21,
     "metadata": {},
     "output_type": "execute_result"
    }
   ],
   "source": [
    "D_fees.head(10)"
   ]
  },
  {
   "cell_type": "code",
   "execution_count": 22,
   "metadata": {},
   "outputs": [
    {
     "data": {
      "text/plain": [
       "array([' Ernakulam', ' Bangalore', ' Chennai', ' Delhi', ' Hyderabad',\n",
       "       ' Coimbatore', ' Mumbai', ' Thiruvananthapuram', nan, ' Sector 5'],\n",
       "      dtype=object)"
      ]
     },
     "execution_count": 22,
     "metadata": {},
     "output_type": "execute_result"
    }
   ],
   "source": [
    "# let's check how many unique values presence in the city and Area\n",
    "\n",
    "D_fees['City'].unique()"
   ]
  },
  {
   "cell_type": "code",
   "execution_count": 23,
   "metadata": {},
   "outputs": [
    {
     "name": "stdout",
     "output_type": "stream",
     "text": [
      "is null : 32\n",
      "total no of unique value: 9\n"
     ]
    }
   ],
   "source": [
    "# let's check how many null value present in city columns and no of unique value\n",
    "\n",
    "print('is null :',D_fees['City'].isnull().sum())\n",
    "\n",
    "print('total no of unique value:',D_fees['City'].nunique())\n",
    "\n",
    "# total null values present in the column is 32 and total unique values is 9"
   ]
  },
  {
   "cell_type": "code",
   "execution_count": 24,
   "metadata": {},
   "outputs": [
    {
     "name": "stdout",
     "output_type": "stream",
     "text": [
      "is null : 31\n",
      "total no of unique value: 937\n"
     ]
    }
   ],
   "source": [
    "# let's check how many null value present in Area columns\n",
    "\n",
    "print('is null :',D_fees['Area'].isnull().sum())\n",
    "\n",
    "print('total no of unique value:',D_fees['Area'].nunique())\n",
    "\n",
    "# total null values present in the column is 31 and total unique value is 937, so it is too high we need to drop this columns"
   ]
  },
  {
   "cell_type": "code",
   "execution_count": 25,
   "metadata": {},
   "outputs": [],
   "source": [
    "# let's split Qualification data into 2 columns, Degree and specialzation wise\n",
    "\n",
    "D_fees['Qualification'] = D_fees['Qualification'].str.replace('-','').astype('str')\n",
    "\n",
    "D_fees['Qual_1'] = D_fees['Qualification'].str.split(',').str[0]\n",
    "D_fees['Qual_2'] = D_fees['Qualification'].str.split(',').str[1]\n"
   ]
  },
  {
   "cell_type": "code",
   "execution_count": 26,
   "metadata": {},
   "outputs": [
    {
     "data": {
      "text/html": [
       "<div>\n",
       "<style scoped>\n",
       "    .dataframe tbody tr th:only-of-type {\n",
       "        vertical-align: middle;\n",
       "    }\n",
       "\n",
       "    .dataframe tbody tr th {\n",
       "        vertical-align: top;\n",
       "    }\n",
       "\n",
       "    .dataframe thead th {\n",
       "        text-align: right;\n",
       "    }\n",
       "</style>\n",
       "<table border=\"1\" class=\"dataframe\">\n",
       "  <thead>\n",
       "    <tr style=\"text-align: right;\">\n",
       "      <th></th>\n",
       "      <th>Qualification</th>\n",
       "      <th>Experience</th>\n",
       "      <th>Rating</th>\n",
       "      <th>Place</th>\n",
       "      <th>Profile</th>\n",
       "      <th>Miscellaneous_Info</th>\n",
       "      <th>Fees</th>\n",
       "      <th>years_exp</th>\n",
       "      <th>City</th>\n",
       "      <th>Area</th>\n",
       "      <th>Qual_1</th>\n",
       "      <th>Qual_2</th>\n",
       "    </tr>\n",
       "  </thead>\n",
       "  <tbody>\n",
       "    <tr>\n",
       "      <th>0</th>\n",
       "      <td>BHMS, MD  Homeopathy</td>\n",
       "      <td>24 years experience</td>\n",
       "      <td>100%</td>\n",
       "      <td>Kakkanad, Ernakulam</td>\n",
       "      <td>Homeopath</td>\n",
       "      <td>100% 16 Feedback Kakkanad, Ernakulam</td>\n",
       "      <td>100.0</td>\n",
       "      <td>24</td>\n",
       "      <td>Ernakulam</td>\n",
       "      <td>Kakkanad</td>\n",
       "      <td>BHMS</td>\n",
       "      <td>MD  Homeopathy</td>\n",
       "    </tr>\n",
       "    <tr>\n",
       "      <th>1</th>\n",
       "      <td>BAMS, MD  Ayurveda Medicine</td>\n",
       "      <td>12 years experience</td>\n",
       "      <td>98%</td>\n",
       "      <td>Whitefield, Bangalore</td>\n",
       "      <td>Ayurveda</td>\n",
       "      <td>98% 76 Feedback Whitefield, Bangalore</td>\n",
       "      <td>350.0</td>\n",
       "      <td>12</td>\n",
       "      <td>Bangalore</td>\n",
       "      <td>Whitefield</td>\n",
       "      <td>BAMS</td>\n",
       "      <td>MD  Ayurveda Medicine</td>\n",
       "    </tr>\n",
       "    <tr>\n",
       "      <th>2</th>\n",
       "      <td>MBBS, MS  Otorhinolaryngology</td>\n",
       "      <td>9 years experience</td>\n",
       "      <td>NaN</td>\n",
       "      <td>Mathikere - BEL, Bangalore</td>\n",
       "      <td>ENT Specialist</td>\n",
       "      <td>NaN</td>\n",
       "      <td>300.0</td>\n",
       "      <td>9</td>\n",
       "      <td>Bangalore</td>\n",
       "      <td>Mathikere - BEL</td>\n",
       "      <td>MBBS</td>\n",
       "      <td>MS  Otorhinolaryngology</td>\n",
       "    </tr>\n",
       "    <tr>\n",
       "      <th>3</th>\n",
       "      <td>BSc  Zoology, BAMS</td>\n",
       "      <td>12 years experience</td>\n",
       "      <td>NaN</td>\n",
       "      <td>Bannerghatta Road, Bangalore</td>\n",
       "      <td>Ayurveda</td>\n",
       "      <td>Bannerghatta Road, Bangalore ₹250 Available on...</td>\n",
       "      <td>250.0</td>\n",
       "      <td>12</td>\n",
       "      <td>Bangalore</td>\n",
       "      <td>Bannerghatta Road</td>\n",
       "      <td>BSc  Zoology</td>\n",
       "      <td>BAMS</td>\n",
       "    </tr>\n",
       "    <tr>\n",
       "      <th>4</th>\n",
       "      <td>BAMS</td>\n",
       "      <td>20 years experience</td>\n",
       "      <td>100%</td>\n",
       "      <td>Keelkattalai, Chennai</td>\n",
       "      <td>Ayurveda</td>\n",
       "      <td>100% 4 Feedback Keelkattalai, Chennai</td>\n",
       "      <td>250.0</td>\n",
       "      <td>20</td>\n",
       "      <td>Chennai</td>\n",
       "      <td>Keelkattalai</td>\n",
       "      <td>BAMS</td>\n",
       "      <td>NaN</td>\n",
       "    </tr>\n",
       "    <tr>\n",
       "      <th>5</th>\n",
       "      <td>BAMS</td>\n",
       "      <td>8 years experience</td>\n",
       "      <td>NaN</td>\n",
       "      <td>Porur, Chennai</td>\n",
       "      <td>Ayurveda</td>\n",
       "      <td>NaN</td>\n",
       "      <td>100.0</td>\n",
       "      <td>8</td>\n",
       "      <td>Chennai</td>\n",
       "      <td>Porur</td>\n",
       "      <td>BAMS</td>\n",
       "      <td>NaN</td>\n",
       "    </tr>\n",
       "    <tr>\n",
       "      <th>6</th>\n",
       "      <td>BHMS</td>\n",
       "      <td>42 years experience</td>\n",
       "      <td>NaN</td>\n",
       "      <td>Karol Bagh, Delhi</td>\n",
       "      <td>Homeopath</td>\n",
       "      <td>NaN</td>\n",
       "      <td>200.0</td>\n",
       "      <td>42</td>\n",
       "      <td>Delhi</td>\n",
       "      <td>Karol Bagh</td>\n",
       "      <td>BHMS</td>\n",
       "      <td>NaN</td>\n",
       "    </tr>\n",
       "    <tr>\n",
       "      <th>7</th>\n",
       "      <td>BDS</td>\n",
       "      <td>10 years experience</td>\n",
       "      <td>99%</td>\n",
       "      <td>Arekere, Bangalore</td>\n",
       "      <td>Dentist</td>\n",
       "      <td>Dental Fillings Crowns and Bridges Fixing Impa...</td>\n",
       "      <td>200.0</td>\n",
       "      <td>10</td>\n",
       "      <td>Bangalore</td>\n",
       "      <td>Arekere</td>\n",
       "      <td>BDS</td>\n",
       "      <td>NaN</td>\n",
       "    </tr>\n",
       "    <tr>\n",
       "      <th>8</th>\n",
       "      <td>MBBS, MD  General Medicine</td>\n",
       "      <td>14 years experience</td>\n",
       "      <td>NaN</td>\n",
       "      <td>Old City, Hyderabad</td>\n",
       "      <td>General Medicine</td>\n",
       "      <td>NaN</td>\n",
       "      <td>100.0</td>\n",
       "      <td>14</td>\n",
       "      <td>Hyderabad</td>\n",
       "      <td>Old City</td>\n",
       "      <td>MBBS</td>\n",
       "      <td>MD  General Medicine</td>\n",
       "    </tr>\n",
       "    <tr>\n",
       "      <th>9</th>\n",
       "      <td>BSc, BDS</td>\n",
       "      <td>23 years experience</td>\n",
       "      <td>NaN</td>\n",
       "      <td>Athani, Ernakulam</td>\n",
       "      <td>Dentist</td>\n",
       "      <td>NaN</td>\n",
       "      <td>100.0</td>\n",
       "      <td>23</td>\n",
       "      <td>Ernakulam</td>\n",
       "      <td>Athani</td>\n",
       "      <td>BSc</td>\n",
       "      <td>BDS</td>\n",
       "    </tr>\n",
       "  </tbody>\n",
       "</table>\n",
       "</div>"
      ],
      "text/plain": [
       "                   Qualification           Experience Rating  \\\n",
       "0           BHMS, MD  Homeopathy  24 years experience   100%   \n",
       "1    BAMS, MD  Ayurveda Medicine  12 years experience    98%   \n",
       "2  MBBS, MS  Otorhinolaryngology   9 years experience    NaN   \n",
       "3             BSc  Zoology, BAMS  12 years experience    NaN   \n",
       "4                           BAMS  20 years experience   100%   \n",
       "5                           BAMS   8 years experience    NaN   \n",
       "6                           BHMS  42 years experience    NaN   \n",
       "7                            BDS  10 years experience    99%   \n",
       "8     MBBS, MD  General Medicine  14 years experience    NaN   \n",
       "9                       BSc, BDS  23 years experience    NaN   \n",
       "\n",
       "                          Place           Profile  \\\n",
       "0           Kakkanad, Ernakulam         Homeopath   \n",
       "1         Whitefield, Bangalore          Ayurveda   \n",
       "2    Mathikere - BEL, Bangalore    ENT Specialist   \n",
       "3  Bannerghatta Road, Bangalore          Ayurveda   \n",
       "4         Keelkattalai, Chennai          Ayurveda   \n",
       "5                Porur, Chennai          Ayurveda   \n",
       "6             Karol Bagh, Delhi         Homeopath   \n",
       "7            Arekere, Bangalore           Dentist   \n",
       "8           Old City, Hyderabad  General Medicine   \n",
       "9             Athani, Ernakulam           Dentist   \n",
       "\n",
       "                                  Miscellaneous_Info   Fees  years_exp  \\\n",
       "0               100% 16 Feedback Kakkanad, Ernakulam  100.0         24   \n",
       "1              98% 76 Feedback Whitefield, Bangalore  350.0         12   \n",
       "2                                                NaN  300.0          9   \n",
       "3  Bannerghatta Road, Bangalore ₹250 Available on...  250.0         12   \n",
       "4              100% 4 Feedback Keelkattalai, Chennai  250.0         20   \n",
       "5                                                NaN  100.0          8   \n",
       "6                                                NaN  200.0         42   \n",
       "7  Dental Fillings Crowns and Bridges Fixing Impa...  200.0         10   \n",
       "8                                                NaN  100.0         14   \n",
       "9                                                NaN  100.0         23   \n",
       "\n",
       "         City               Area        Qual_1                    Qual_2  \n",
       "0   Ernakulam           Kakkanad          BHMS            MD  Homeopathy  \n",
       "1   Bangalore         Whitefield          BAMS     MD  Ayurveda Medicine  \n",
       "2   Bangalore    Mathikere - BEL          MBBS   MS  Otorhinolaryngology  \n",
       "3   Bangalore  Bannerghatta Road  BSc  Zoology                      BAMS  \n",
       "4     Chennai       Keelkattalai          BAMS                       NaN  \n",
       "5     Chennai              Porur          BAMS                       NaN  \n",
       "6       Delhi         Karol Bagh          BHMS                       NaN  \n",
       "7   Bangalore            Arekere           BDS                       NaN  \n",
       "8   Hyderabad           Old City          MBBS      MD  General Medicine  \n",
       "9   Ernakulam             Athani           BSc                       BDS  "
      ]
     },
     "execution_count": 26,
     "metadata": {},
     "output_type": "execute_result"
    }
   ],
   "source": [
    "D_fees.head(10)"
   ]
  },
  {
   "cell_type": "code",
   "execution_count": 27,
   "metadata": {},
   "outputs": [
    {
     "name": "stdout",
     "output_type": "stream",
     "text": [
      "is null : 0\n",
      "is null : 2571\n",
      "\n",
      "\n",
      "total no of unique value: 181\n",
      "total no of unique value: 495\n"
     ]
    }
   ],
   "source": [
    "# let's check how many rows null and no .of unique values present in qua_1 and Qual_2 columns\n",
    "\n",
    "print('is null :',D_fees['Qual_1'].isnull().sum())\n",
    "print('is null :',D_fees['Qual_2'].isnull().sum())\n",
    "print('\\n')\n",
    "print('total no of unique value:',D_fees['Qual_1'].nunique())\n",
    "print('total no of unique value:',D_fees['Qual_2'].nunique())\n"
   ]
  },
  {
   "cell_type": "code",
   "execution_count": 28,
   "metadata": {},
   "outputs": [],
   "source": [
    "# let's chane Experience data type and replace 'years experience' to \"\".\n",
    "D_fees['Exp_Years'] = D_fees['Experience'].str.replace(' years experience','').astype('int64')\n"
   ]
  },
  {
   "cell_type": "code",
   "execution_count": 29,
   "metadata": {},
   "outputs": [],
   "source": [
    "# let's also change rating into float datatype by replace % symbol with space\n",
    "D_fees['Rating'].fillna('0%', inplace=True)\n",
    "D_fees['Rating_Number'] = D_fees['Rating'].str.replace('%','').astype('int64')"
   ]
  },
  {
   "cell_type": "code",
   "execution_count": 30,
   "metadata": {},
   "outputs": [
    {
     "data": {
      "text/html": [
       "<div>\n",
       "<style scoped>\n",
       "    .dataframe tbody tr th:only-of-type {\n",
       "        vertical-align: middle;\n",
       "    }\n",
       "\n",
       "    .dataframe tbody tr th {\n",
       "        vertical-align: top;\n",
       "    }\n",
       "\n",
       "    .dataframe thead th {\n",
       "        text-align: right;\n",
       "    }\n",
       "</style>\n",
       "<table border=\"1\" class=\"dataframe\">\n",
       "  <thead>\n",
       "    <tr style=\"text-align: right;\">\n",
       "      <th></th>\n",
       "      <th>Qualification</th>\n",
       "      <th>Experience</th>\n",
       "      <th>Rating</th>\n",
       "      <th>Place</th>\n",
       "      <th>Profile</th>\n",
       "      <th>Miscellaneous_Info</th>\n",
       "      <th>Fees</th>\n",
       "      <th>years_exp</th>\n",
       "      <th>City</th>\n",
       "      <th>Area</th>\n",
       "      <th>Qual_1</th>\n",
       "      <th>Qual_2</th>\n",
       "      <th>Exp_Years</th>\n",
       "      <th>Rating_Number</th>\n",
       "    </tr>\n",
       "  </thead>\n",
       "  <tbody>\n",
       "    <tr>\n",
       "      <th>0</th>\n",
       "      <td>BHMS, MD  Homeopathy</td>\n",
       "      <td>24 years experience</td>\n",
       "      <td>100%</td>\n",
       "      <td>Kakkanad, Ernakulam</td>\n",
       "      <td>Homeopath</td>\n",
       "      <td>100% 16 Feedback Kakkanad, Ernakulam</td>\n",
       "      <td>100.0</td>\n",
       "      <td>24</td>\n",
       "      <td>Ernakulam</td>\n",
       "      <td>Kakkanad</td>\n",
       "      <td>BHMS</td>\n",
       "      <td>MD  Homeopathy</td>\n",
       "      <td>24</td>\n",
       "      <td>100</td>\n",
       "    </tr>\n",
       "    <tr>\n",
       "      <th>1</th>\n",
       "      <td>BAMS, MD  Ayurveda Medicine</td>\n",
       "      <td>12 years experience</td>\n",
       "      <td>98%</td>\n",
       "      <td>Whitefield, Bangalore</td>\n",
       "      <td>Ayurveda</td>\n",
       "      <td>98% 76 Feedback Whitefield, Bangalore</td>\n",
       "      <td>350.0</td>\n",
       "      <td>12</td>\n",
       "      <td>Bangalore</td>\n",
       "      <td>Whitefield</td>\n",
       "      <td>BAMS</td>\n",
       "      <td>MD  Ayurveda Medicine</td>\n",
       "      <td>12</td>\n",
       "      <td>98</td>\n",
       "    </tr>\n",
       "    <tr>\n",
       "      <th>2</th>\n",
       "      <td>MBBS, MS  Otorhinolaryngology</td>\n",
       "      <td>9 years experience</td>\n",
       "      <td>0%</td>\n",
       "      <td>Mathikere - BEL, Bangalore</td>\n",
       "      <td>ENT Specialist</td>\n",
       "      <td>NaN</td>\n",
       "      <td>300.0</td>\n",
       "      <td>9</td>\n",
       "      <td>Bangalore</td>\n",
       "      <td>Mathikere - BEL</td>\n",
       "      <td>MBBS</td>\n",
       "      <td>MS  Otorhinolaryngology</td>\n",
       "      <td>9</td>\n",
       "      <td>0</td>\n",
       "    </tr>\n",
       "    <tr>\n",
       "      <th>3</th>\n",
       "      <td>BSc  Zoology, BAMS</td>\n",
       "      <td>12 years experience</td>\n",
       "      <td>0%</td>\n",
       "      <td>Bannerghatta Road, Bangalore</td>\n",
       "      <td>Ayurveda</td>\n",
       "      <td>Bannerghatta Road, Bangalore ₹250 Available on...</td>\n",
       "      <td>250.0</td>\n",
       "      <td>12</td>\n",
       "      <td>Bangalore</td>\n",
       "      <td>Bannerghatta Road</td>\n",
       "      <td>BSc  Zoology</td>\n",
       "      <td>BAMS</td>\n",
       "      <td>12</td>\n",
       "      <td>0</td>\n",
       "    </tr>\n",
       "    <tr>\n",
       "      <th>4</th>\n",
       "      <td>BAMS</td>\n",
       "      <td>20 years experience</td>\n",
       "      <td>100%</td>\n",
       "      <td>Keelkattalai, Chennai</td>\n",
       "      <td>Ayurveda</td>\n",
       "      <td>100% 4 Feedback Keelkattalai, Chennai</td>\n",
       "      <td>250.0</td>\n",
       "      <td>20</td>\n",
       "      <td>Chennai</td>\n",
       "      <td>Keelkattalai</td>\n",
       "      <td>BAMS</td>\n",
       "      <td>NaN</td>\n",
       "      <td>20</td>\n",
       "      <td>100</td>\n",
       "    </tr>\n",
       "  </tbody>\n",
       "</table>\n",
       "</div>"
      ],
      "text/plain": [
       "                   Qualification           Experience Rating  \\\n",
       "0           BHMS, MD  Homeopathy  24 years experience   100%   \n",
       "1    BAMS, MD  Ayurveda Medicine  12 years experience    98%   \n",
       "2  MBBS, MS  Otorhinolaryngology   9 years experience     0%   \n",
       "3             BSc  Zoology, BAMS  12 years experience     0%   \n",
       "4                           BAMS  20 years experience   100%   \n",
       "\n",
       "                          Place         Profile  \\\n",
       "0           Kakkanad, Ernakulam       Homeopath   \n",
       "1         Whitefield, Bangalore        Ayurveda   \n",
       "2    Mathikere - BEL, Bangalore  ENT Specialist   \n",
       "3  Bannerghatta Road, Bangalore        Ayurveda   \n",
       "4         Keelkattalai, Chennai        Ayurveda   \n",
       "\n",
       "                                  Miscellaneous_Info   Fees  years_exp  \\\n",
       "0               100% 16 Feedback Kakkanad, Ernakulam  100.0         24   \n",
       "1              98% 76 Feedback Whitefield, Bangalore  350.0         12   \n",
       "2                                                NaN  300.0          9   \n",
       "3  Bannerghatta Road, Bangalore ₹250 Available on...  250.0         12   \n",
       "4              100% 4 Feedback Keelkattalai, Chennai  250.0         20   \n",
       "\n",
       "         City               Area        Qual_1                    Qual_2  \\\n",
       "0   Ernakulam           Kakkanad          BHMS            MD  Homeopathy   \n",
       "1   Bangalore         Whitefield          BAMS     MD  Ayurveda Medicine   \n",
       "2   Bangalore    Mathikere - BEL          MBBS   MS  Otorhinolaryngology   \n",
       "3   Bangalore  Bannerghatta Road  BSc  Zoology                      BAMS   \n",
       "4     Chennai       Keelkattalai          BAMS                       NaN   \n",
       "\n",
       "   Exp_Years  Rating_Number  \n",
       "0         24            100  \n",
       "1         12             98  \n",
       "2          9              0  \n",
       "3         12              0  \n",
       "4         20            100  "
      ]
     },
     "execution_count": 30,
     "metadata": {},
     "output_type": "execute_result"
    }
   ],
   "source": [
    "D_fees.head()"
   ]
  },
  {
   "cell_type": "code",
   "execution_count": 31,
   "metadata": {},
   "outputs": [],
   "source": [
    "# let's fill all null values with use of fillna method at Qual_1 and Qual_2 columns\n",
    "\n",
    "D_fees['Qual_1'].fillna(\"Other\",inplace = True)\n",
    "D_fees['Qual_2'].fillna(\"Other\",inplace = True)"
   ]
  },
  {
   "cell_type": "code",
   "execution_count": 32,
   "metadata": {},
   "outputs": [],
   "source": [
    "# let's fill null values in city and Rating_Number column using fill_na function\n",
    "D_fees['City'].fillna(\"Other\",inplace = True)"
   ]
  },
  {
   "cell_type": "code",
   "execution_count": 33,
   "metadata": {},
   "outputs": [],
   "source": [
    "# let's delete original columns because we create other columns related to original column data\n",
    "#Miscellaneous_Info is a special information and it is contain almost similar information related to Rating_Number,city and Area\n",
    "#So we will drop \n",
    "D_fees.drop(columns=['Qualification','Experience','Place','Rating','Miscellaneous_Info',],inplace=True)"
   ]
  },
  {
   "cell_type": "code",
   "execution_count": 34,
   "metadata": {},
   "outputs": [
    {
     "data": {
      "text/html": [
       "<div>\n",
       "<style scoped>\n",
       "    .dataframe tbody tr th:only-of-type {\n",
       "        vertical-align: middle;\n",
       "    }\n",
       "\n",
       "    .dataframe tbody tr th {\n",
       "        vertical-align: top;\n",
       "    }\n",
       "\n",
       "    .dataframe thead th {\n",
       "        text-align: right;\n",
       "    }\n",
       "</style>\n",
       "<table border=\"1\" class=\"dataframe\">\n",
       "  <thead>\n",
       "    <tr style=\"text-align: right;\">\n",
       "      <th></th>\n",
       "      <th>Profile</th>\n",
       "      <th>Fees</th>\n",
       "      <th>years_exp</th>\n",
       "      <th>City</th>\n",
       "      <th>Area</th>\n",
       "      <th>Qual_1</th>\n",
       "      <th>Qual_2</th>\n",
       "      <th>Exp_Years</th>\n",
       "      <th>Rating_Number</th>\n",
       "    </tr>\n",
       "  </thead>\n",
       "  <tbody>\n",
       "    <tr>\n",
       "      <th>0</th>\n",
       "      <td>Homeopath</td>\n",
       "      <td>100.0</td>\n",
       "      <td>24</td>\n",
       "      <td>Ernakulam</td>\n",
       "      <td>Kakkanad</td>\n",
       "      <td>BHMS</td>\n",
       "      <td>MD  Homeopathy</td>\n",
       "      <td>24</td>\n",
       "      <td>100</td>\n",
       "    </tr>\n",
       "    <tr>\n",
       "      <th>1</th>\n",
       "      <td>Ayurveda</td>\n",
       "      <td>350.0</td>\n",
       "      <td>12</td>\n",
       "      <td>Bangalore</td>\n",
       "      <td>Whitefield</td>\n",
       "      <td>BAMS</td>\n",
       "      <td>MD  Ayurveda Medicine</td>\n",
       "      <td>12</td>\n",
       "      <td>98</td>\n",
       "    </tr>\n",
       "    <tr>\n",
       "      <th>2</th>\n",
       "      <td>ENT Specialist</td>\n",
       "      <td>300.0</td>\n",
       "      <td>9</td>\n",
       "      <td>Bangalore</td>\n",
       "      <td>Mathikere - BEL</td>\n",
       "      <td>MBBS</td>\n",
       "      <td>MS  Otorhinolaryngology</td>\n",
       "      <td>9</td>\n",
       "      <td>0</td>\n",
       "    </tr>\n",
       "    <tr>\n",
       "      <th>3</th>\n",
       "      <td>Ayurveda</td>\n",
       "      <td>250.0</td>\n",
       "      <td>12</td>\n",
       "      <td>Bangalore</td>\n",
       "      <td>Bannerghatta Road</td>\n",
       "      <td>BSc  Zoology</td>\n",
       "      <td>BAMS</td>\n",
       "      <td>12</td>\n",
       "      <td>0</td>\n",
       "    </tr>\n",
       "    <tr>\n",
       "      <th>4</th>\n",
       "      <td>Ayurveda</td>\n",
       "      <td>250.0</td>\n",
       "      <td>20</td>\n",
       "      <td>Chennai</td>\n",
       "      <td>Keelkattalai</td>\n",
       "      <td>BAMS</td>\n",
       "      <td>Other</td>\n",
       "      <td>20</td>\n",
       "      <td>100</td>\n",
       "    </tr>\n",
       "  </tbody>\n",
       "</table>\n",
       "</div>"
      ],
      "text/plain": [
       "          Profile   Fees  years_exp        City               Area  \\\n",
       "0       Homeopath  100.0         24   Ernakulam           Kakkanad   \n",
       "1        Ayurveda  350.0         12   Bangalore         Whitefield   \n",
       "2  ENT Specialist  300.0          9   Bangalore    Mathikere - BEL   \n",
       "3        Ayurveda  250.0         12   Bangalore  Bannerghatta Road   \n",
       "4        Ayurveda  250.0         20     Chennai       Keelkattalai   \n",
       "\n",
       "         Qual_1                    Qual_2  Exp_Years  Rating_Number  \n",
       "0          BHMS            MD  Homeopathy         24            100  \n",
       "1          BAMS     MD  Ayurveda Medicine         12             98  \n",
       "2          MBBS   MS  Otorhinolaryngology          9              0  \n",
       "3  BSc  Zoology                      BAMS         12              0  \n",
       "4          BAMS                     Other         20            100  "
      ]
     },
     "execution_count": 34,
     "metadata": {},
     "output_type": "execute_result"
    }
   ],
   "source": [
    "D_fees.head()"
   ]
  },
  {
   "cell_type": "code",
   "execution_count": 35,
   "metadata": {},
   "outputs": [
    {
     "data": {
      "text/plain": [
       "Profile           object\n",
       "Fees             float64\n",
       "years_exp          int32\n",
       "City              object\n",
       "Area              object\n",
       "Qual_1            object\n",
       "Qual_2            object\n",
       "Exp_Years          int64\n",
       "Rating_Number      int64\n",
       "dtype: object"
      ]
     },
     "execution_count": 35,
     "metadata": {},
     "output_type": "execute_result"
    }
   ],
   "source": [
    "D_fees.dtypes"
   ]
  },
  {
   "cell_type": "code",
   "execution_count": 36,
   "metadata": {},
   "outputs": [
    {
     "data": {
      "image/png": "[encoded data removed]",
      "text/plain": [
       "<Figure size 1440x504 with 1 Axes>"
      ]
     },
     "metadata": {
      "needs_background": "light"
     },
     "output_type": "display_data"
    }
   ],
   "source": [
    "# let's do some graphical representation to get more understanding\n",
    "\n",
    "# let's first we plot fees column to get idea about average fees charged by doctors\n",
    "plt.figure(figsize=(20, 7))\n",
    "sns.countplot(D_fees['Fees'],color='Gray', alpha=0.5)\n",
    "plt.show()\n",
    "\n",
    "# the below graph shows 100 rs consulting fees is highly charged by doctors "
   ]
  },
  {
   "cell_type": "code",
   "execution_count": 37,
   "metadata": {},
   "outputs": [
    {
     "data": {
      "image/png": "[encoded data removed]",
      "text/plain": [
       "<Figure size 1440x504 with 1 Axes>"
      ]
     },
     "metadata": {
      "needs_background": "light"
     },
     "output_type": "display_data"
    }
   ],
   "source": [
    "# let's check average year of experience \n",
    "plt.figure(figsize=(20, 7))\n",
    "sns.countplot(D_fees['Exp_Years'],color='Gray', alpha=0.5)\n",
    "plt.show()\n",
    "\n",
    "#from the below graph, 9 year experience is average"
   ]
  },
  {
   "cell_type": "code",
   "execution_count": 38,
   "metadata": {},
   "outputs": [
    {
     "data": {
      "text/plain": [
       "<function matplotlib.pyplot.show(*args, **kw)>"
      ]
     },
     "execution_count": 38,
     "metadata": {},
     "output_type": "execute_result"
    },
    {
     "data": {
      "image/png": "[encoded data removed]",
      "text/plain": [
       "<Figure size 432x432 with 3 Axes>"
      ]
     },
     "metadata": {
      "needs_background": "light"
     },
     "output_type": "display_data"
    }
   ],
   "source": [
    "# let's check rating number wise Exp_year\n",
    "sns.jointplot(D_fees['Exp_Years'],D_fees['Rating_Number'], color='Gray',alpha=0.5)\n",
    "plt.show"
   ]
  },
  {
   "cell_type": "code",
   "execution_count": 39,
   "metadata": {},
   "outputs": [
    {
     "data": {
      "text/plain": [
       "<function matplotlib.pyplot.show(*args, **kw)>"
      ]
     },
     "execution_count": 39,
     "metadata": {},
     "output_type": "execute_result"
    },
    {
     "data": {
      "image/png": "[encoded data removed]",
      "text/plain": [
       "<Figure size 432x432 with 3 Axes>"
      ]
     },
     "metadata": {
      "needs_background": "light"
     },
     "output_type": "display_data"
    }
   ],
   "source": [
    "# let's check  Exp_years wise doctor's consulting fees.\n",
    "\n",
    "sns.jointplot(D_fees['Exp_Years'],D_fees['Fees'], color='k',alpha=0.5)\n",
    "plt.show"
   ]
  },
  {
   "cell_type": "code",
   "execution_count": 40,
   "metadata": {},
   "outputs": [
    {
     "data": {
      "image/png": "[encoded data removed]",
      "text/plain": [
       "<Figure size 1440x504 with 1 Axes>"
      ]
     },
     "metadata": {
      "needs_background": "light"
     },
     "output_type": "display_data"
    }
   ],
   "source": [
    "# let's check average count of city\n",
    "plt.figure(figsize=(20, 7))\n",
    "sns.countplot(D_fees['City'],color='k', alpha=0.5)\n",
    "plt.show()"
   ]
  },
  {
   "cell_type": "code",
   "execution_count": 41,
   "metadata": {},
   "outputs": [
    {
     "data": {
      "image/png": "[encoded data removed]",
      "text/plain": [
       "<Figure size 2160x720 with 1 Axes>"
      ]
     },
     "metadata": {
      "needs_background": "light"
     },
     "output_type": "display_data"
    }
   ],
   "source": [
    "# let's check doctor's profile wise  average fees charged by doctors\n",
    "plt.figure(figsize=(30, 10))\n",
    "sns.countplot(D_fees['Fees'],hue='Profile',data=D_fees)\n",
    "plt.show()\n",
    "\n",
    "# from below graph, we say that the dentist doctor's profile charged less fess as compare darmatologist"
   ]
  },
  {
   "cell_type": "code",
   "execution_count": 42,
   "metadata": {},
   "outputs": [
    {
     "data": {
      "image/png": "[encoded data removed]",
      "text/plain": [
       "<Figure size 648x432 with 1 Axes>"
      ]
     },
     "metadata": {
      "needs_background": "light"
     },
     "output_type": "display_data"
    }
   ],
   "source": [
    "# let's check in which city a doctor,s charged high fees\n",
    "\n",
    "sns.catplot(x='Fees', y='City', data=D_fees, kind='box', height=6, aspect= 1.5, color='Gray')\n",
    "plt.show()\n",
    "\n",
    "# in mumbai and delhi city's a doctor's charged high fees"
   ]
  },
  {
   "cell_type": "code",
   "execution_count": 43,
   "metadata": {},
   "outputs": [
    {
     "data": {
      "text/plain": [
       "<function matplotlib.pyplot.plot(*args, scalex=True, scaley=True, data=None, **kwargs)>"
      ]
     },
     "execution_count": 43,
     "metadata": {},
     "output_type": "execute_result"
    },
    {
     "data": {
      "image/png": "[encoded data removed]",
      "text/plain": [
       "<Figure size 648x432 with 1 Axes>"
      ]
     },
     "metadata": {
      "needs_background": "light"
     },
     "output_type": "display_data"
    }
   ],
   "source": [
    "# let's check doctor's profile wise  average fees charged by doctors\n",
    "sns.catplot(x='Fees', y='Profile', data=D_fees, kind='box', height=6, aspect= 1.5, color='gray')\n",
    "plt.plot\n",
    "\n",
    "# the highest fees charged by General Medicine doctors profile "
   ]
  },
  {
   "cell_type": "code",
   "execution_count": 44,
   "metadata": {},
   "outputs": [],
   "source": [
    "# let's convert all our categorical varibles into numeric by encoding the categories\n",
    "# we using labelEncoder for that\n",
    " \n",
    "label = LabelEncoder()\n",
    "for col in D_fees:\n",
    "     if D_fees[col].dtype == 'object':\n",
    "        D_fees[col] = label.fit_transform(D_fees[col].astype('str'))"
   ]
  },
  {
   "cell_type": "code",
   "execution_count": 45,
   "metadata": {},
   "outputs": [
    {
     "data": {
      "text/html": [
       "<div>\n",
       "<style scoped>\n",
       "    .dataframe tbody tr th:only-of-type {\n",
       "        vertical-align: middle;\n",
       "    }\n",
       "\n",
       "    .dataframe tbody tr th {\n",
       "        vertical-align: top;\n",
       "    }\n",
       "\n",
       "    .dataframe thead th {\n",
       "        text-align: right;\n",
       "    }\n",
       "</style>\n",
       "<table border=\"1\" class=\"dataframe\">\n",
       "  <thead>\n",
       "    <tr style=\"text-align: right;\">\n",
       "      <th></th>\n",
       "      <th>Profile</th>\n",
       "      <th>Fees</th>\n",
       "      <th>years_exp</th>\n",
       "      <th>City</th>\n",
       "      <th>Area</th>\n",
       "      <th>Qual_1</th>\n",
       "      <th>Qual_2</th>\n",
       "      <th>Exp_Years</th>\n",
       "      <th>Rating_Number</th>\n",
       "    </tr>\n",
       "  </thead>\n",
       "  <tbody>\n",
       "    <tr>\n",
       "      <th>0</th>\n",
       "      <td>5</td>\n",
       "      <td>100.0</td>\n",
       "      <td>24</td>\n",
       "      <td>4</td>\n",
       "      <td>324</td>\n",
       "      <td>8</td>\n",
       "      <td>292</td>\n",
       "      <td>24</td>\n",
       "      <td>100</td>\n",
       "    </tr>\n",
       "    <tr>\n",
       "      <th>1</th>\n",
       "      <td>0</td>\n",
       "      <td>350.0</td>\n",
       "      <td>12</td>\n",
       "      <td>0</td>\n",
       "      <td>925</td>\n",
       "      <td>5</td>\n",
       "      <td>281</td>\n",
       "      <td>12</td>\n",
       "      <td>98</td>\n",
       "    </tr>\n",
       "    <tr>\n",
       "      <th>2</th>\n",
       "      <td>3</td>\n",
       "      <td>300.0</td>\n",
       "      <td>9</td>\n",
       "      <td>0</td>\n",
       "      <td>494</td>\n",
       "      <td>101</td>\n",
       "      <td>382</td>\n",
       "      <td>9</td>\n",
       "      <td>0</td>\n",
       "    </tr>\n",
       "    <tr>\n",
       "      <th>3</th>\n",
       "      <td>0</td>\n",
       "      <td>250.0</td>\n",
       "      <td>12</td>\n",
       "      <td>0</td>\n",
       "      <td>74</td>\n",
       "      <td>14</td>\n",
       "      <td>10</td>\n",
       "      <td>12</td>\n",
       "      <td>0</td>\n",
       "    </tr>\n",
       "    <tr>\n",
       "      <th>4</th>\n",
       "      <td>0</td>\n",
       "      <td>250.0</td>\n",
       "      <td>20</td>\n",
       "      <td>1</td>\n",
       "      <td>367</td>\n",
       "      <td>5</td>\n",
       "      <td>494</td>\n",
       "      <td>20</td>\n",
       "      <td>100</td>\n",
       "    </tr>\n",
       "  </tbody>\n",
       "</table>\n",
       "</div>"
      ],
      "text/plain": [
       "   Profile   Fees  years_exp  City  Area  Qual_1  Qual_2  Exp_Years  \\\n",
       "0        5  100.0         24     4   324       8     292         24   \n",
       "1        0  350.0         12     0   925       5     281         12   \n",
       "2        3  300.0          9     0   494     101     382          9   \n",
       "3        0  250.0         12     0    74      14      10         12   \n",
       "4        0  250.0         20     1   367       5     494         20   \n",
       "\n",
       "   Rating_Number  \n",
       "0            100  \n",
       "1             98  \n",
       "2              0  \n",
       "3              0  \n",
       "4            100  "
      ]
     },
     "execution_count": 45,
     "metadata": {},
     "output_type": "execute_result"
    }
   ],
   "source": [
    "D_fees.head()"
   ]
  },
  {
   "cell_type": "code",
   "execution_count": 46,
   "metadata": {},
   "outputs": [],
   "source": [
    "#lets seprate test and train data\n",
    "df_train = D_fees[0:5961]\n",
    "df_test = D_fees[5961:]\n",
    "df_test = df_test.drop('Fees',axis=1)"
   ]
  },
  {
   "cell_type": "code",
   "execution_count": 47,
   "metadata": {},
   "outputs": [
    {
     "name": "stdout",
     "output_type": "stream",
     "text": [
      "(5961, 9)\n",
      "(1987, 8)\n"
     ]
    }
   ],
   "source": [
    "# let's check shape of traning and testing dataset\n",
    "print(df_train.shape)\n",
    "print(df_test.shape)"
   ]
  },
  {
   "cell_type": "code",
   "execution_count": 48,
   "metadata": {},
   "outputs": [],
   "source": [
    "# let's split D_train data into X_train and y_train varible\n",
    "df_x = df_train.drop('Fees',axis=1)\n",
    "y = df_train['Fees']"
   ]
  },
  {
   "cell_type": "code",
   "execution_count": 49,
   "metadata": {},
   "outputs": [],
   "source": [
    "#Lets bring every column to common scale\n",
    "from sklearn.preprocessing import StandardScaler\n",
    "sc = StandardScaler()\n",
    "x = sc.fit_transform(df_x)"
   ]
  },
  {
   "cell_type": "code",
   "execution_count": 50,
   "metadata": {},
   "outputs": [
    {
     "data": {
      "text/plain": [
       "array([[ 1.54301587,  0.60097885,  0.38328623, ..., -0.27431131,\n",
       "         0.60097885,  1.22066882],\n",
       "       [-1.47289258, -0.47604029, -1.31827343, ..., -0.34656891,\n",
       "        -0.47604029,  1.17841853],\n",
       "       [ 0.33665249, -0.74529508, -1.31827343, ...,  0.31688722,\n",
       "        -0.74529508, -0.89184525],\n",
       "       ...,\n",
       "       [ 0.93983418,  2.12675597, -0.04210368, ...,  1.05260094,\n",
       "         2.12675597,  1.15729339],\n",
       "       [ 0.93983418, -0.20678551,  1.23406607, ..., -0.29401793,\n",
       "        -0.20678551,  1.00941741],\n",
       "       [-0.86971089, -0.02728232, -0.04210368, ...,  0.02128795,\n",
       "        -0.02728232,  1.22066882]])"
      ]
     },
     "execution_count": 50,
     "metadata": {},
     "output_type": "execute_result"
    }
   ],
   "source": [
    "x"
   ]
  },
  {
   "cell_type": "markdown",
   "metadata": {},
   "source": [
    "# the Doctor's consulting Fees prediction is a continuous in nature so these dataset can be viewed as a regression problem.\n",
    "\n",
    "- we also used different regression model to check and compare whether we get high r2 score or not, this exercise help us to      select best model.\n",
    "\n",
    "- Here, I have trained various machine learning algorithms like\n",
    "\n",
    "- Linear Regression\n",
    "- Knn regressor\n",
    "- Support Vector Regressor\n",
    "- Gradient Boosting Regressor\n",
    "- randomforestRegressor"
   ]
  },
  {
   "cell_type": "code",
   "execution_count": 51,
   "metadata": {},
   "outputs": [],
   "source": [
    "# let's make function to run multiple algorithm\n",
    "# let's import regression model suport matrix\n",
    "\n",
    "from sklearn.metrics import mean_absolute_error\n",
    "from sklearn.metrics import mean_squared_error\n",
    "from sklearn.metrics import r2_score\n",
    "\n",
    "# let's create fuinction to use different linear model\n",
    "\n",
    "\n",
    "def maxr2_score(rem,x,y):\n",
    "    max_r_score=0\n",
    "    for r_state in range(42,100):\n",
    "        x_train, x_test, y_train, y_test = train_test_split(x, y,random_state = r_state,test_size=0.22)\n",
    "        rem.fit(x_train,y_train)\n",
    "        y_pred = rem.predict(x_test)\n",
    "        r2_scr=r2_score(y_test,y_pred)\n",
    "        if r2_scr>max_r_score:\n",
    "            max_r_score=r2_scr\n",
    "            final_r_state=r_state\n",
    "    print(\"max r2 score corresponding to \",final_r_state,\" is \",max_r_score)\n",
    "    return final_r_state\n"
   ]
  },
  {
   "cell_type": "code",
   "execution_count": 52,
   "metadata": {},
   "outputs": [
    {
     "name": "stdout",
     "output_type": "stream",
     "text": [
      "max r2 score corresponding to  44  is  0.1275995875294228\n"
     ]
    }
   ],
   "source": [
    "# let's apply linear regression model\n",
    "\n",
    "from sklearn.linear_model import LinearRegression\n",
    "\n",
    "lr=LinearRegression()\n",
    "r_state=maxr2_score(lr,x,y)"
   ]
  },
  {
   "cell_type": "code",
   "execution_count": 53,
   "metadata": {},
   "outputs": [
    {
     "data": {
      "text/plain": [
       "{'learning_rate': 0.1, 'max_depth': 6, 'n_estimators': 100}"
      ]
     },
     "execution_count": 53,
     "metadata": {},
     "output_type": "execute_result"
    }
   ],
   "source": [
    "# let's use boosting algorithm to increase r2 score.\n",
    "# let's search best parameters using gridsearchcv tune\n",
    "\n",
    "from sklearn.ensemble import GradientBoostingRegressor\n",
    "from sklearn.model_selection import GridSearchCV\n",
    "\n",
    "params ={\"learning_rate\":[0.001,0.01,0.1,1],\"n_estimators\":[10,100,],\"max_depth\":list(range(1,10))}\n",
    "gb=GradientBoostingRegressor()\n",
    "gv= GridSearchCV(gb, params,cv=5,n_jobs=4,scoring=\"r2\")\n",
    "gv.fit(x,y)\n",
    "gv.best_params_"
   ]
  },
  {
   "cell_type": "code",
   "execution_count": 54,
   "metadata": {},
   "outputs": [
    {
     "name": "stdout",
     "output_type": "stream",
     "text": [
      "max r2 score corresponding to  90  is  0.24076428265431093\n"
     ]
    }
   ],
   "source": [
    "gb=GradientBoostingRegressor(learning_rate=0.1,n_estimators=100,max_depth=3)\n",
    "r_state=maxr2_score(gb,x,y)"
   ]
  },
  {
   "cell_type": "code",
   "execution_count": 55,
   "metadata": {},
   "outputs": [
    {
     "data": {
      "text/plain": [
       "{'C': 10, 'kernel': 'rbf'}"
      ]
     },
     "execution_count": 55,
     "metadata": {},
     "output_type": "execute_result"
    }
   ],
   "source": [
    "from sklearn.svm import SVR\n",
    "\n",
    "svr=SVR()\n",
    "parameters={\"kernel\":[\"linear\", \"poly\", \"rbf\"],\"C\":[0.001,0.01,0.1,1,10]}\n",
    "gb = GridSearchCV(svr, parameters,cv=10,scoring=\"r2\",n_jobs=-1)\n",
    "gb.fit(x,y)\n",
    "gb.best_params_"
   ]
  },
  {
   "cell_type": "code",
   "execution_count": 56,
   "metadata": {},
   "outputs": [
    {
     "name": "stdout",
     "output_type": "stream",
     "text": [
      "max r2 score corresponding to  56  is  0.15858380163978747\n"
     ]
    }
   ],
   "source": [
    "svr=SVR(kernel=\"rbf\",C=10)\n",
    "r_state=maxr2_score(svr,x,y)"
   ]
  },
  {
   "cell_type": "code",
   "execution_count": 60,
   "metadata": {},
   "outputs": [
    {
     "data": {
      "text/plain": [
       "{'n_estimators': 500}"
      ]
     },
     "execution_count": 60,
     "metadata": {},
     "output_type": "execute_result"
    }
   ],
   "source": [
    "from sklearn.ensemble import RandomForestRegressor\n",
    "rfr=RandomForestRegressor()\n",
    "parameters = {\"n_estimators\":[10,100,500]}\n",
    "clf = GridSearchCV(rfr, parameters, cv=5,scoring=\"r2\")\n",
    "clf.fit(df_x,y)\n",
    "clf.best_params_"
   ]
  },
  {
   "cell_type": "code",
   "execution_count": 61,
   "metadata": {},
   "outputs": [
    {
     "name": "stdout",
     "output_type": "stream",
     "text": [
      "max r2 score corresponding to  84  is  0.23459332427526114\n"
     ]
    }
   ],
   "source": [
    "rfr=RandomForestRegressor(n_estimators=500)\n",
    "r_state=maxr2_score(rfr,df_x,y)"
   ]
  },
  {
   "cell_type": "markdown",
   "metadata": {},
   "source": [
    "# I used multiple algorithms to  get highest r2 score corresponding to random state\n",
    "\n",
    "- we seen till now GradientBoostingRegressor perform well is best model as comparision to other model which are apply in this     because we got max r2 score 24% at random state 81\n",
    "\n",
    "- So we save model GradientBoostingRegressor for production.\n"
   ]
  },
  {
   "cell_type": "code",
   "execution_count": 58,
   "metadata": {},
   "outputs": [
    {
     "name": "stdout",
     "output_type": "stream",
     "text": [
      "RMSE is:  165.59217738408032\n",
      "r2_score is:  0.240274461993364\n",
      "\n",
      "\n",
      "Mean r2 score for GradientBoosting Regressor :  0.21505153401321825\n",
      "standard deviation in r2 score for GradientBoosting Regressor:  0.01250503781607463\n",
      "\n",
      "\n",
      "cross val R2 score for GradientBoosting: [0.21007016 0.20279451 0.23408689 0.22468101 0.2036575 ]\n"
     ]
    }
   ],
   "source": [
    "#till the time  gradientboosting model has performed better as compare other\n",
    "#we will be set random_state 81 to get max r2 score as we see above. \n",
    "from sklearn.model_selection import cross_val_score\n",
    "\n",
    "x_train, x_test, y_train, y_test = train_test_split(x, y,random_state = 81,test_size=0.22)\n",
    "\n",
    "gb=GradientBoostingRegressor(learning_rate=0.1,n_estimators=100)\n",
    "gb.fit(x_train,y_train)\n",
    "y_pred=gb.predict(x_test)\n",
    "print(\"RMSE is: \",np.sqrt(mean_squared_error(y_test,y_pred)))\n",
    "print(\"r2_score is: \",r2_score(y_test,y_pred))\n",
    "print('\\n')\n",
    "print(\"Mean r2 score for GradientBoosting Regressor : \",cross_val_score(gb,x,y,cv=5,scoring=\"r2\").mean())\n",
    "print(\"standard deviation in r2 score for GradientBoosting Regressor: \",cross_val_score(gb,x,y,cv=5,scoring=\"r2\").std())\n",
    "print('\\n')\n",
    "print('cross val R2 score for GradientBoosting:',cross_val_score(gb,x,y,cv=5,scoring=\"r2\"))"
   ]
  },
  {
   "cell_type": "code",
   "execution_count": 62,
   "metadata": {},
   "outputs": [
    {
     "data": {
      "text/plain": [
       "['Doctor_Fees.pkl']"
      ]
     },
     "execution_count": 62,
     "metadata": {},
     "output_type": "execute_result"
    }
   ],
   "source": [
    "from sklearn.externals import joblib\n",
    "# save the model as a pickle in a file\n",
    "joblib.dump(gb,'Doctor_Fees.pkl')"
   ]
  },
  {
   "cell_type": "code",
   "execution_count": null,
   "metadata": {},
   "outputs": [],
   "source": []
  }
 ],
 "metadata": {
  "kernelspec": {
   "display_name": "Python 3",
   "language": "python",
   "name": "python3"
  },
  "language_info": {
   "codemirror_mode": {
    "name": "ipython",
    "version": 3
   },
   "file_extension": ".py",
   "mimetype": "text/x-python",
   "name": "python",
   "nbconvert_exporter": "python",
   "pygments_lexer": "ipython3",
   "version": "3.7.6"
  }
 },
 "nbformat": 4,
 "nbformat_minor": 4
}
