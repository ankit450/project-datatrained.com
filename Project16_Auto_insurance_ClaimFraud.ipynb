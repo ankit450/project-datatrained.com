{
 "cells": [
  {
   "cell_type": "code",
   "execution_count": 1,
   "metadata": {},
   "outputs": [],
   "source": [
    "import pandas as pd\n",
    "import numpy as np\n",
    "import matplotlib.pyplot as plt\n",
    "import seaborn as sns\n",
    "from sklearn.model_selection import train_test_split\n",
    "from sklearn.preprocessing import LabelEncoder # formating data categorical to numerical\n",
    "# import all classification algorithm to choose best performing model\n",
    "from sklearn.tree import DecisionTreeClassifier\n",
    "from sklearn.neighbors import KNeighborsClassifier\n",
    "from sklearn.svm import  SVC\n",
    "from sklearn.metrics import confusion_matrix,accuracy_score,classification_report\n",
    "from sklearn.preprocessing import StandardScaler\n",
    "from sklearn.ensemble import RandomForestClassifier\n",
    "from sklearn.linear_model import LogisticRegression\n",
    "import warnings\n",
    "warnings.filterwarnings('ignore')"
   ]
  },
  {
   "cell_type": "markdown",
   "metadata": {},
   "source": [
    "# Project Name :- Automobile Insurance Fraud prediction\n",
    "\n",
    "- The purpose of an Insurance is to provide protection against the risk of any financial loss.\n",
    "\n",
    "- Insurance is a form of risk management in which an insurer agrees to take the risk of the insured entity against future         events, uncertain loss due to Tsunami, earthquake or damage against the vehicle or personal property.\n",
    "\n",
    "- the main aim of the project is to predict the Automobile insurance claim is fraudulent or not.\n",
    "\n",
    "- we will be working with some auto insurance data to demonstrate how we can create a predictive model that predicts if an        insurance claim is fraudulent or not."
   ]
  },
  {
   "cell_type": "markdown",
   "metadata": {},
   "source": [
    "# Step 1: Exploratory data analysis (EDA)\n",
    "- read & preview the dataset\n",
    "- variable identification # looking the input data # what will be the output variable\n",
    "- univariate analysis - tacking small small variable and plot bar chart and finding histogram\n",
    "- Bivariate analysis - tacking two column or two variable and looking the relationship between the,and also find correlation     and covariance within two variable.\n",
    "- handling and removing null values- missing data.\n",
    "- Handling Categorical Variabl.\n",
    "- finding and removing outliers."
   ]
  },
  {
   "cell_type": "code",
   "execution_count": 2,
   "metadata": {},
   "outputs": [],
   "source": [
    "# Loading the dataset.\n",
    "fraud = pd.read_csv('Auto_claim_Fraud.csv',na_values='?')"
   ]
  },
  {
   "cell_type": "code",
   "execution_count": 3,
   "metadata": {},
   "outputs": [
    {
     "data": {
      "text/html": [
       "<div>\n",
       "<style scoped>\n",
       "    .dataframe tbody tr th:only-of-type {\n",
       "        vertical-align: middle;\n",
       "    }\n",
       "\n",
       "    .dataframe tbody tr th {\n",
       "        vertical-align: top;\n",
       "    }\n",
       "\n",
       "    .dataframe thead th {\n",
       "        text-align: right;\n",
       "    }\n",
       "</style>\n",
       "<table border=\"1\" class=\"dataframe\">\n",
       "  <thead>\n",
       "    <tr style=\"text-align: right;\">\n",
       "      <th></th>\n",
       "      <th>months_as_customer</th>\n",
       "      <th>age</th>\n",
       "      <th>policy_number</th>\n",
       "      <th>policy_bind_date</th>\n",
       "      <th>policy_state</th>\n",
       "      <th>policy_csl</th>\n",
       "      <th>policy_deductable</th>\n",
       "      <th>policy_annual_premium</th>\n",
       "      <th>umbrella_limit</th>\n",
       "      <th>insured_zip</th>\n",
       "      <th>...</th>\n",
       "      <th>police_report_available</th>\n",
       "      <th>total_claim_amount</th>\n",
       "      <th>injury_claim</th>\n",
       "      <th>property_claim</th>\n",
       "      <th>vehicle_claim</th>\n",
       "      <th>auto_make</th>\n",
       "      <th>auto_model</th>\n",
       "      <th>auto_year</th>\n",
       "      <th>fraud_reported</th>\n",
       "      <th>_c39</th>\n",
       "    </tr>\n",
       "  </thead>\n",
       "  <tbody>\n",
       "    <tr>\n",
       "      <th>0</th>\n",
       "      <td>328</td>\n",
       "      <td>48</td>\n",
       "      <td>521585</td>\n",
       "      <td>17-10-2014</td>\n",
       "      <td>OH</td>\n",
       "      <td>250/500</td>\n",
       "      <td>1000</td>\n",
       "      <td>1406.91</td>\n",
       "      <td>0</td>\n",
       "      <td>466132</td>\n",
       "      <td>...</td>\n",
       "      <td>YES</td>\n",
       "      <td>71610</td>\n",
       "      <td>6510</td>\n",
       "      <td>13020</td>\n",
       "      <td>52080</td>\n",
       "      <td>Saab</td>\n",
       "      <td>92x</td>\n",
       "      <td>2004</td>\n",
       "      <td>Y</td>\n",
       "      <td>NaN</td>\n",
       "    </tr>\n",
       "    <tr>\n",
       "      <th>1</th>\n",
       "      <td>228</td>\n",
       "      <td>42</td>\n",
       "      <td>342868</td>\n",
       "      <td>27-06-2006</td>\n",
       "      <td>IN</td>\n",
       "      <td>250/500</td>\n",
       "      <td>2000</td>\n",
       "      <td>1197.22</td>\n",
       "      <td>5000000</td>\n",
       "      <td>468176</td>\n",
       "      <td>...</td>\n",
       "      <td>NaN</td>\n",
       "      <td>5070</td>\n",
       "      <td>780</td>\n",
       "      <td>780</td>\n",
       "      <td>3510</td>\n",
       "      <td>Mercedes</td>\n",
       "      <td>E400</td>\n",
       "      <td>2007</td>\n",
       "      <td>Y</td>\n",
       "      <td>NaN</td>\n",
       "    </tr>\n",
       "    <tr>\n",
       "      <th>2</th>\n",
       "      <td>134</td>\n",
       "      <td>29</td>\n",
       "      <td>687698</td>\n",
       "      <td>06-09-2000</td>\n",
       "      <td>OH</td>\n",
       "      <td>100/300</td>\n",
       "      <td>2000</td>\n",
       "      <td>1413.14</td>\n",
       "      <td>5000000</td>\n",
       "      <td>430632</td>\n",
       "      <td>...</td>\n",
       "      <td>NO</td>\n",
       "      <td>34650</td>\n",
       "      <td>7700</td>\n",
       "      <td>3850</td>\n",
       "      <td>23100</td>\n",
       "      <td>Dodge</td>\n",
       "      <td>RAM</td>\n",
       "      <td>2007</td>\n",
       "      <td>N</td>\n",
       "      <td>NaN</td>\n",
       "    </tr>\n",
       "    <tr>\n",
       "      <th>3</th>\n",
       "      <td>256</td>\n",
       "      <td>41</td>\n",
       "      <td>227811</td>\n",
       "      <td>25-05-1990</td>\n",
       "      <td>IL</td>\n",
       "      <td>250/500</td>\n",
       "      <td>2000</td>\n",
       "      <td>1415.74</td>\n",
       "      <td>6000000</td>\n",
       "      <td>608117</td>\n",
       "      <td>...</td>\n",
       "      <td>NO</td>\n",
       "      <td>63400</td>\n",
       "      <td>6340</td>\n",
       "      <td>6340</td>\n",
       "      <td>50720</td>\n",
       "      <td>Chevrolet</td>\n",
       "      <td>Tahoe</td>\n",
       "      <td>2014</td>\n",
       "      <td>Y</td>\n",
       "      <td>NaN</td>\n",
       "    </tr>\n",
       "    <tr>\n",
       "      <th>4</th>\n",
       "      <td>228</td>\n",
       "      <td>44</td>\n",
       "      <td>367455</td>\n",
       "      <td>06-06-2014</td>\n",
       "      <td>IL</td>\n",
       "      <td>500/1000</td>\n",
       "      <td>1000</td>\n",
       "      <td>1583.91</td>\n",
       "      <td>6000000</td>\n",
       "      <td>610706</td>\n",
       "      <td>...</td>\n",
       "      <td>NO</td>\n",
       "      <td>6500</td>\n",
       "      <td>1300</td>\n",
       "      <td>650</td>\n",
       "      <td>4550</td>\n",
       "      <td>Accura</td>\n",
       "      <td>RSX</td>\n",
       "      <td>2009</td>\n",
       "      <td>N</td>\n",
       "      <td>NaN</td>\n",
       "    </tr>\n",
       "    <tr>\n",
       "      <th>5</th>\n",
       "      <td>256</td>\n",
       "      <td>39</td>\n",
       "      <td>104594</td>\n",
       "      <td>12-10-2006</td>\n",
       "      <td>OH</td>\n",
       "      <td>250/500</td>\n",
       "      <td>1000</td>\n",
       "      <td>1351.10</td>\n",
       "      <td>0</td>\n",
       "      <td>478456</td>\n",
       "      <td>...</td>\n",
       "      <td>NO</td>\n",
       "      <td>64100</td>\n",
       "      <td>6410</td>\n",
       "      <td>6410</td>\n",
       "      <td>51280</td>\n",
       "      <td>Saab</td>\n",
       "      <td>95</td>\n",
       "      <td>2003</td>\n",
       "      <td>Y</td>\n",
       "      <td>NaN</td>\n",
       "    </tr>\n",
       "    <tr>\n",
       "      <th>6</th>\n",
       "      <td>137</td>\n",
       "      <td>34</td>\n",
       "      <td>413978</td>\n",
       "      <td>04-06-2000</td>\n",
       "      <td>IN</td>\n",
       "      <td>250/500</td>\n",
       "      <td>1000</td>\n",
       "      <td>1333.35</td>\n",
       "      <td>0</td>\n",
       "      <td>441716</td>\n",
       "      <td>...</td>\n",
       "      <td>NaN</td>\n",
       "      <td>78650</td>\n",
       "      <td>21450</td>\n",
       "      <td>7150</td>\n",
       "      <td>50050</td>\n",
       "      <td>Nissan</td>\n",
       "      <td>Pathfinder</td>\n",
       "      <td>2012</td>\n",
       "      <td>N</td>\n",
       "      <td>NaN</td>\n",
       "    </tr>\n",
       "    <tr>\n",
       "      <th>7</th>\n",
       "      <td>165</td>\n",
       "      <td>37</td>\n",
       "      <td>429027</td>\n",
       "      <td>03-02-1990</td>\n",
       "      <td>IL</td>\n",
       "      <td>100/300</td>\n",
       "      <td>1000</td>\n",
       "      <td>1137.03</td>\n",
       "      <td>0</td>\n",
       "      <td>603195</td>\n",
       "      <td>...</td>\n",
       "      <td>YES</td>\n",
       "      <td>51590</td>\n",
       "      <td>9380</td>\n",
       "      <td>9380</td>\n",
       "      <td>32830</td>\n",
       "      <td>Audi</td>\n",
       "      <td>A5</td>\n",
       "      <td>2015</td>\n",
       "      <td>N</td>\n",
       "      <td>NaN</td>\n",
       "    </tr>\n",
       "    <tr>\n",
       "      <th>8</th>\n",
       "      <td>27</td>\n",
       "      <td>33</td>\n",
       "      <td>485665</td>\n",
       "      <td>05-02-1997</td>\n",
       "      <td>IL</td>\n",
       "      <td>100/300</td>\n",
       "      <td>500</td>\n",
       "      <td>1442.99</td>\n",
       "      <td>0</td>\n",
       "      <td>601734</td>\n",
       "      <td>...</td>\n",
       "      <td>YES</td>\n",
       "      <td>27700</td>\n",
       "      <td>2770</td>\n",
       "      <td>2770</td>\n",
       "      <td>22160</td>\n",
       "      <td>Toyota</td>\n",
       "      <td>Camry</td>\n",
       "      <td>2012</td>\n",
       "      <td>N</td>\n",
       "      <td>NaN</td>\n",
       "    </tr>\n",
       "    <tr>\n",
       "      <th>9</th>\n",
       "      <td>212</td>\n",
       "      <td>42</td>\n",
       "      <td>636550</td>\n",
       "      <td>25-07-2011</td>\n",
       "      <td>IL</td>\n",
       "      <td>100/300</td>\n",
       "      <td>500</td>\n",
       "      <td>1315.68</td>\n",
       "      <td>0</td>\n",
       "      <td>600983</td>\n",
       "      <td>...</td>\n",
       "      <td>NaN</td>\n",
       "      <td>42300</td>\n",
       "      <td>4700</td>\n",
       "      <td>4700</td>\n",
       "      <td>32900</td>\n",
       "      <td>Saab</td>\n",
       "      <td>92x</td>\n",
       "      <td>1996</td>\n",
       "      <td>N</td>\n",
       "      <td>NaN</td>\n",
       "    </tr>\n",
       "  </tbody>\n",
       "</table>\n",
       "<p>10 rows × 40 columns</p>\n",
       "</div>"
      ],
      "text/plain": [
       "   months_as_customer  age  policy_number policy_bind_date policy_state  \\\n",
       "0                 328   48         521585       17-10-2014           OH   \n",
       "1                 228   42         342868       27-06-2006           IN   \n",
       "2                 134   29         687698       06-09-2000           OH   \n",
       "3                 256   41         227811       25-05-1990           IL   \n",
       "4                 228   44         367455       06-06-2014           IL   \n",
       "5                 256   39         104594       12-10-2006           OH   \n",
       "6                 137   34         413978       04-06-2000           IN   \n",
       "7                 165   37         429027       03-02-1990           IL   \n",
       "8                  27   33         485665       05-02-1997           IL   \n",
       "9                 212   42         636550       25-07-2011           IL   \n",
       "\n",
       "  policy_csl  policy_deductable  policy_annual_premium  umbrella_limit  \\\n",
       "0    250/500               1000                1406.91               0   \n",
       "1    250/500               2000                1197.22         5000000   \n",
       "2    100/300               2000                1413.14         5000000   \n",
       "3    250/500               2000                1415.74         6000000   \n",
       "4   500/1000               1000                1583.91         6000000   \n",
       "5    250/500               1000                1351.10               0   \n",
       "6    250/500               1000                1333.35               0   \n",
       "7    100/300               1000                1137.03               0   \n",
       "8    100/300                500                1442.99               0   \n",
       "9    100/300                500                1315.68               0   \n",
       "\n",
       "   insured_zip  ... police_report_available total_claim_amount injury_claim  \\\n",
       "0       466132  ...                     YES              71610         6510   \n",
       "1       468176  ...                     NaN               5070          780   \n",
       "2       430632  ...                      NO              34650         7700   \n",
       "3       608117  ...                      NO              63400         6340   \n",
       "4       610706  ...                      NO               6500         1300   \n",
       "5       478456  ...                      NO              64100         6410   \n",
       "6       441716  ...                     NaN              78650        21450   \n",
       "7       603195  ...                     YES              51590         9380   \n",
       "8       601734  ...                     YES              27700         2770   \n",
       "9       600983  ...                     NaN              42300         4700   \n",
       "\n",
       "  property_claim vehicle_claim  auto_make  auto_model auto_year  \\\n",
       "0          13020         52080       Saab         92x      2004   \n",
       "1            780          3510   Mercedes        E400      2007   \n",
       "2           3850         23100      Dodge         RAM      2007   \n",
       "3           6340         50720  Chevrolet       Tahoe      2014   \n",
       "4            650          4550     Accura         RSX      2009   \n",
       "5           6410         51280       Saab          95      2003   \n",
       "6           7150         50050     Nissan  Pathfinder      2012   \n",
       "7           9380         32830       Audi          A5      2015   \n",
       "8           2770         22160     Toyota       Camry      2012   \n",
       "9           4700         32900       Saab         92x      1996   \n",
       "\n",
       "  fraud_reported _c39  \n",
       "0              Y  NaN  \n",
       "1              Y  NaN  \n",
       "2              N  NaN  \n",
       "3              Y  NaN  \n",
       "4              N  NaN  \n",
       "5              Y  NaN  \n",
       "6              N  NaN  \n",
       "7              N  NaN  \n",
       "8              N  NaN  \n",
       "9              N  NaN  \n",
       "\n",
       "[10 rows x 40 columns]"
      ]
     },
     "execution_count": 3,
     "metadata": {},
     "output_type": "execute_result"
    }
   ],
   "source": [
    "# let's preview the dataset\n",
    "fraud.head(10)"
   ]
  },
  {
   "cell_type": "code",
   "execution_count": 4,
   "metadata": {},
   "outputs": [
    {
     "data": {
      "text/plain": [
       "months_as_customer               int64\n",
       "age                              int64\n",
       "policy_number                    int64\n",
       "policy_bind_date                object\n",
       "policy_state                    object\n",
       "policy_csl                      object\n",
       "policy_deductable                int64\n",
       "policy_annual_premium          float64\n",
       "umbrella_limit                   int64\n",
       "insured_zip                      int64\n",
       "insured_sex                     object\n",
       "insured_education_level         object\n",
       "insured_occupation              object\n",
       "insured_hobbies                 object\n",
       "insured_relationship            object\n",
       "capital-gains                    int64\n",
       "capital-loss                     int64\n",
       "incident_date                   object\n",
       "incident_type                   object\n",
       "collision_type                  object\n",
       "incident_severity               object\n",
       "authorities_contacted           object\n",
       "incident_state                  object\n",
       "incident_city                   object\n",
       "incident_location               object\n",
       "incident_hour_of_the_day         int64\n",
       "number_of_vehicles_involved      int64\n",
       "property_damage                 object\n",
       "bodily_injuries                  int64\n",
       "witnesses                        int64\n",
       "police_report_available         object\n",
       "total_claim_amount               int64\n",
       "injury_claim                     int64\n",
       "property_claim                   int64\n",
       "vehicle_claim                    int64\n",
       "auto_make                       object\n",
       "auto_model                      object\n",
       "auto_year                        int64\n",
       "fraud_reported                  object\n",
       "_c39                           float64\n",
       "dtype: object"
      ]
     },
     "execution_count": 4,
     "metadata": {},
     "output_type": "execute_result"
    }
   ],
   "source": [
    "# let's check the datatypes of all feature which present in dataset\n",
    "\n",
    "fraud.dtypes\n",
    "\n",
    "# We have several string (categorical) columns in our dataset, along with some ints and flots."
   ]
  },
  {
   "cell_type": "code",
   "execution_count": 5,
   "metadata": {},
   "outputs": [],
   "source": [
    "# Dropping 'c39' column from the dataset because it's hold Nan value\n",
    "\n",
    "fraud.drop('_c39',axis=1,inplace=True)"
   ]
  },
  {
   "cell_type": "code",
   "execution_count": 6,
   "metadata": {},
   "outputs": [
    {
     "data": {
      "text/plain": [
       "Index(['months_as_customer', 'age', 'policy_number', 'policy_bind_date',\n",
       "       'policy_state', 'policy_csl', 'policy_deductable',\n",
       "       'policy_annual_premium', 'umbrella_limit', 'insured_zip', 'insured_sex',\n",
       "       'insured_education_level', 'insured_occupation', 'insured_hobbies',\n",
       "       'insured_relationship', 'capital-gains', 'capital-loss',\n",
       "       'incident_date', 'incident_type', 'collision_type', 'incident_severity',\n",
       "       'authorities_contacted', 'incident_state', 'incident_city',\n",
       "       'incident_location', 'incident_hour_of_the_day',\n",
       "       'number_of_vehicles_involved', 'property_damage', 'bodily_injuries',\n",
       "       'witnesses', 'police_report_available', 'total_claim_amount',\n",
       "       'injury_claim', 'property_claim', 'vehicle_claim', 'auto_make',\n",
       "       'auto_model', 'auto_year', 'fraud_reported'],\n",
       "      dtype='object')"
      ]
     },
     "execution_count": 6,
     "metadata": {},
     "output_type": "execute_result"
    }
   ],
   "source": [
    "# now check feature name presence in the dataset\n",
    "\n",
    "fraud.columns"
   ]
  },
  {
   "cell_type": "code",
   "execution_count": 7,
   "metadata": {},
   "outputs": [
    {
     "data": {
      "text/plain": [
       "(1000, 39)"
      ]
     },
     "execution_count": 7,
     "metadata": {},
     "output_type": "execute_result"
    }
   ],
   "source": [
    "# let's check shpae of the dataset\n",
    "\n",
    "fraud.shape"
   ]
  },
  {
   "cell_type": "code",
   "execution_count": 8,
   "metadata": {},
   "outputs": [
    {
     "name": "stdout",
     "output_type": "stream",
     "text": [
      "total number of null values:\n",
      " months_as_customer               0\n",
      "age                              0\n",
      "policy_number                    0\n",
      "policy_bind_date                 0\n",
      "policy_state                     0\n",
      "policy_csl                       0\n",
      "policy_deductable                0\n",
      "policy_annual_premium            0\n",
      "umbrella_limit                   0\n",
      "insured_zip                      0\n",
      "insured_sex                      0\n",
      "insured_education_level          0\n",
      "insured_occupation               0\n",
      "insured_hobbies                  0\n",
      "insured_relationship             0\n",
      "capital-gains                    0\n",
      "capital-loss                     0\n",
      "incident_date                    0\n",
      "incident_type                    0\n",
      "collision_type                 178\n",
      "incident_severity                0\n",
      "authorities_contacted            0\n",
      "incident_state                   0\n",
      "incident_city                    0\n",
      "incident_location                0\n",
      "incident_hour_of_the_day         0\n",
      "number_of_vehicles_involved      0\n",
      "property_damage                360\n",
      "bodily_injuries                  0\n",
      "witnesses                        0\n",
      "police_report_available        343\n",
      "total_claim_amount               0\n",
      "injury_claim                     0\n",
      "property_claim                   0\n",
      "vehicle_claim                    0\n",
      "auto_make                        0\n",
      "auto_model                       0\n",
      "auto_year                        0\n",
      "fraud_reported                   0\n",
      "dtype: int64\n"
     ]
    }
   ],
   "source": [
    "# let's finding null and nan values whether it is available in the dataset or not.\n",
    "\n",
    "print('total number of null values:\\n',fraud.isnull().sum())\n"
   ]
  },
  {
   "cell_type": "code",
   "execution_count": 9,
   "metadata": {},
   "outputs": [
    {
     "data": {
      "text/plain": [
       "<matplotlib.axes._subplots.AxesSubplot at 0x20ce71b57c8>"
      ]
     },
     "execution_count": 9,
     "metadata": {},
     "output_type": "execute_result"
    },
    {
     "data": {
      "image/png": "[encoded data removed]",
      "text/plain": [
       "<Figure size 432x288 with 2 Axes>"
      ]
     },
     "metadata": {
      "needs_background": "light"
     },
     "output_type": "display_data"
    }
   ],
   "source": [
    "# let's plot heatmap to visualize null values\n",
    "\n",
    "sns.heatmap(fraud.isnull(),cmap='Blues')"
   ]
  },
  {
   "cell_type": "code",
   "execution_count": 10,
   "metadata": {},
   "outputs": [
    {
     "data": {
      "text/plain": [
       "[('months_as_customer', 391),\n",
       " ('age', 46),\n",
       " ('policy_number', 1000),\n",
       " ('policy_bind_date', 951),\n",
       " ('policy_state', 3),\n",
       " ('policy_csl', 3),\n",
       " ('policy_deductable', 3),\n",
       " ('policy_annual_premium', 991),\n",
       " ('umbrella_limit', 11),\n",
       " ('insured_zip', 995),\n",
       " ('insured_sex', 2),\n",
       " ('insured_education_level', 7),\n",
       " ('insured_occupation', 14),\n",
       " ('insured_hobbies', 20),\n",
       " ('insured_relationship', 6),\n",
       " ('capital-gains', 338),\n",
       " ('capital-loss', 354),\n",
       " ('incident_date', 60),\n",
       " ('incident_type', 4),\n",
       " ('collision_type', 4),\n",
       " ('incident_severity', 4),\n",
       " ('authorities_contacted', 5),\n",
       " ('incident_state', 7),\n",
       " ('incident_city', 7),\n",
       " ('incident_location', 1000),\n",
       " ('incident_hour_of_the_day', 24),\n",
       " ('number_of_vehicles_involved', 4),\n",
       " ('property_damage', 3),\n",
       " ('bodily_injuries', 3),\n",
       " ('witnesses', 4),\n",
       " ('police_report_available', 3),\n",
       " ('total_claim_amount', 763),\n",
       " ('injury_claim', 638),\n",
       " ('property_claim', 626),\n",
       " ('vehicle_claim', 726),\n",
       " ('auto_make', 14),\n",
       " ('auto_model', 39),\n",
       " ('auto_year', 21),\n",
       " ('fraud_reported', 2)]"
      ]
     },
     "execution_count": 10,
     "metadata": {},
     "output_type": "execute_result"
    }
   ],
   "source": [
    "# let's check how many unique values presents in the each columns in the dataset\n",
    "\n",
    "\n",
    "col= fraud.columns.values\n",
    "col\n",
    "\n",
    "list((columns,np.unique(fraud[columns].astype(str)).size) for columns in col)\n"
   ]
  },
  {
   "cell_type": "code",
   "execution_count": 11,
   "metadata": {},
   "outputs": [
    {
     "data": {
      "text/plain": [
       "N    753\n",
       "Y    247\n",
       "Name: fraud_reported, dtype: int64"
      ]
     },
     "execution_count": 11,
     "metadata": {},
     "output_type": "execute_result"
    }
   ],
   "source": [
    "# now we check how many count of class are available in to fraud _reports feture in fraud dataset\n",
    "\n",
    "fraud['fraud_reported'].value_counts()"
   ]
  },
  {
   "cell_type": "code",
   "execution_count": 12,
   "metadata": {},
   "outputs": [
    {
     "data": {
      "text/html": [
       "<div>\n",
       "<style scoped>\n",
       "    .dataframe tbody tr th:only-of-type {\n",
       "        vertical-align: middle;\n",
       "    }\n",
       "\n",
       "    .dataframe tbody tr th {\n",
       "        vertical-align: top;\n",
       "    }\n",
       "\n",
       "    .dataframe thead th {\n",
       "        text-align: right;\n",
       "    }\n",
       "</style>\n",
       "<table border=\"1\" class=\"dataframe\">\n",
       "  <thead>\n",
       "    <tr style=\"text-align: right;\">\n",
       "      <th></th>\n",
       "      <th>months_as_customer</th>\n",
       "      <th>age</th>\n",
       "      <th>policy_number</th>\n",
       "      <th>policy_deductable</th>\n",
       "      <th>policy_annual_premium</th>\n",
       "      <th>umbrella_limit</th>\n",
       "      <th>insured_zip</th>\n",
       "      <th>capital-gains</th>\n",
       "      <th>capital-loss</th>\n",
       "      <th>incident_hour_of_the_day</th>\n",
       "      <th>number_of_vehicles_involved</th>\n",
       "      <th>bodily_injuries</th>\n",
       "      <th>witnesses</th>\n",
       "      <th>total_claim_amount</th>\n",
       "      <th>injury_claim</th>\n",
       "      <th>property_claim</th>\n",
       "      <th>vehicle_claim</th>\n",
       "      <th>auto_year</th>\n",
       "    </tr>\n",
       "  </thead>\n",
       "  <tbody>\n",
       "    <tr>\n",
       "      <th>count</th>\n",
       "      <td>1000.000000</td>\n",
       "      <td>1000.000000</td>\n",
       "      <td>1000.000000</td>\n",
       "      <td>1000.000000</td>\n",
       "      <td>1000.000000</td>\n",
       "      <td>1.000000e+03</td>\n",
       "      <td>1000.000000</td>\n",
       "      <td>1000.000000</td>\n",
       "      <td>1000.000000</td>\n",
       "      <td>1000.000000</td>\n",
       "      <td>1000.00000</td>\n",
       "      <td>1000.000000</td>\n",
       "      <td>1000.000000</td>\n",
       "      <td>1000.00000</td>\n",
       "      <td>1000.000000</td>\n",
       "      <td>1000.000000</td>\n",
       "      <td>1000.000000</td>\n",
       "      <td>1000.000000</td>\n",
       "    </tr>\n",
       "    <tr>\n",
       "      <th>mean</th>\n",
       "      <td>203.954000</td>\n",
       "      <td>38.948000</td>\n",
       "      <td>546238.648000</td>\n",
       "      <td>1136.000000</td>\n",
       "      <td>1256.406150</td>\n",
       "      <td>1.101000e+06</td>\n",
       "      <td>501214.488000</td>\n",
       "      <td>25126.100000</td>\n",
       "      <td>-26793.700000</td>\n",
       "      <td>11.644000</td>\n",
       "      <td>1.83900</td>\n",
       "      <td>0.992000</td>\n",
       "      <td>1.487000</td>\n",
       "      <td>52761.94000</td>\n",
       "      <td>7433.420000</td>\n",
       "      <td>7399.570000</td>\n",
       "      <td>37928.950000</td>\n",
       "      <td>2005.103000</td>\n",
       "    </tr>\n",
       "    <tr>\n",
       "      <th>std</th>\n",
       "      <td>115.113174</td>\n",
       "      <td>9.140287</td>\n",
       "      <td>257063.005276</td>\n",
       "      <td>611.864673</td>\n",
       "      <td>244.167395</td>\n",
       "      <td>2.297407e+06</td>\n",
       "      <td>71701.610941</td>\n",
       "      <td>27872.187708</td>\n",
       "      <td>28104.096686</td>\n",
       "      <td>6.951373</td>\n",
       "      <td>1.01888</td>\n",
       "      <td>0.820127</td>\n",
       "      <td>1.111335</td>\n",
       "      <td>26401.53319</td>\n",
       "      <td>4880.951853</td>\n",
       "      <td>4824.726179</td>\n",
       "      <td>18886.252893</td>\n",
       "      <td>6.015861</td>\n",
       "    </tr>\n",
       "    <tr>\n",
       "      <th>min</th>\n",
       "      <td>0.000000</td>\n",
       "      <td>19.000000</td>\n",
       "      <td>100804.000000</td>\n",
       "      <td>500.000000</td>\n",
       "      <td>433.330000</td>\n",
       "      <td>-1.000000e+06</td>\n",
       "      <td>430104.000000</td>\n",
       "      <td>0.000000</td>\n",
       "      <td>-111100.000000</td>\n",
       "      <td>0.000000</td>\n",
       "      <td>1.00000</td>\n",
       "      <td>0.000000</td>\n",
       "      <td>0.000000</td>\n",
       "      <td>100.00000</td>\n",
       "      <td>0.000000</td>\n",
       "      <td>0.000000</td>\n",
       "      <td>70.000000</td>\n",
       "      <td>1995.000000</td>\n",
       "    </tr>\n",
       "    <tr>\n",
       "      <th>25%</th>\n",
       "      <td>115.750000</td>\n",
       "      <td>32.000000</td>\n",
       "      <td>335980.250000</td>\n",
       "      <td>500.000000</td>\n",
       "      <td>1089.607500</td>\n",
       "      <td>0.000000e+00</td>\n",
       "      <td>448404.500000</td>\n",
       "      <td>0.000000</td>\n",
       "      <td>-51500.000000</td>\n",
       "      <td>6.000000</td>\n",
       "      <td>1.00000</td>\n",
       "      <td>0.000000</td>\n",
       "      <td>1.000000</td>\n",
       "      <td>41812.50000</td>\n",
       "      <td>4295.000000</td>\n",
       "      <td>4445.000000</td>\n",
       "      <td>30292.500000</td>\n",
       "      <td>2000.000000</td>\n",
       "    </tr>\n",
       "    <tr>\n",
       "      <th>50%</th>\n",
       "      <td>199.500000</td>\n",
       "      <td>38.000000</td>\n",
       "      <td>533135.000000</td>\n",
       "      <td>1000.000000</td>\n",
       "      <td>1257.200000</td>\n",
       "      <td>0.000000e+00</td>\n",
       "      <td>466445.500000</td>\n",
       "      <td>0.000000</td>\n",
       "      <td>-23250.000000</td>\n",
       "      <td>12.000000</td>\n",
       "      <td>1.00000</td>\n",
       "      <td>1.000000</td>\n",
       "      <td>1.000000</td>\n",
       "      <td>58055.00000</td>\n",
       "      <td>6775.000000</td>\n",
       "      <td>6750.000000</td>\n",
       "      <td>42100.000000</td>\n",
       "      <td>2005.000000</td>\n",
       "    </tr>\n",
       "    <tr>\n",
       "      <th>75%</th>\n",
       "      <td>276.250000</td>\n",
       "      <td>44.000000</td>\n",
       "      <td>759099.750000</td>\n",
       "      <td>2000.000000</td>\n",
       "      <td>1415.695000</td>\n",
       "      <td>0.000000e+00</td>\n",
       "      <td>603251.000000</td>\n",
       "      <td>51025.000000</td>\n",
       "      <td>0.000000</td>\n",
       "      <td>17.000000</td>\n",
       "      <td>3.00000</td>\n",
       "      <td>2.000000</td>\n",
       "      <td>2.000000</td>\n",
       "      <td>70592.50000</td>\n",
       "      <td>11305.000000</td>\n",
       "      <td>10885.000000</td>\n",
       "      <td>50822.500000</td>\n",
       "      <td>2010.000000</td>\n",
       "    </tr>\n",
       "    <tr>\n",
       "      <th>max</th>\n",
       "      <td>479.000000</td>\n",
       "      <td>64.000000</td>\n",
       "      <td>999435.000000</td>\n",
       "      <td>2000.000000</td>\n",
       "      <td>2047.590000</td>\n",
       "      <td>1.000000e+07</td>\n",
       "      <td>620962.000000</td>\n",
       "      <td>100500.000000</td>\n",
       "      <td>0.000000</td>\n",
       "      <td>23.000000</td>\n",
       "      <td>4.00000</td>\n",
       "      <td>2.000000</td>\n",
       "      <td>3.000000</td>\n",
       "      <td>114920.00000</td>\n",
       "      <td>21450.000000</td>\n",
       "      <td>23670.000000</td>\n",
       "      <td>79560.000000</td>\n",
       "      <td>2015.000000</td>\n",
       "    </tr>\n",
       "  </tbody>\n",
       "</table>\n",
       "</div>"
      ],
      "text/plain": [
       "       months_as_customer          age  policy_number  policy_deductable  \\\n",
       "count         1000.000000  1000.000000    1000.000000        1000.000000   \n",
       "mean           203.954000    38.948000  546238.648000        1136.000000   \n",
       "std            115.113174     9.140287  257063.005276         611.864673   \n",
       "min              0.000000    19.000000  100804.000000         500.000000   \n",
       "25%            115.750000    32.000000  335980.250000         500.000000   \n",
       "50%            199.500000    38.000000  533135.000000        1000.000000   \n",
       "75%            276.250000    44.000000  759099.750000        2000.000000   \n",
       "max            479.000000    64.000000  999435.000000        2000.000000   \n",
       "\n",
       "       policy_annual_premium  umbrella_limit    insured_zip  capital-gains  \\\n",
       "count            1000.000000    1.000000e+03    1000.000000    1000.000000   \n",
       "mean             1256.406150    1.101000e+06  501214.488000   25126.100000   \n",
       "std               244.167395    2.297407e+06   71701.610941   27872.187708   \n",
       "min               433.330000   -1.000000e+06  430104.000000       0.000000   \n",
       "25%              1089.607500    0.000000e+00  448404.500000       0.000000   \n",
       "50%              1257.200000    0.000000e+00  466445.500000       0.000000   \n",
       "75%              1415.695000    0.000000e+00  603251.000000   51025.000000   \n",
       "max              2047.590000    1.000000e+07  620962.000000  100500.000000   \n",
       "\n",
       "        capital-loss  incident_hour_of_the_day  number_of_vehicles_involved  \\\n",
       "count    1000.000000               1000.000000                   1000.00000   \n",
       "mean   -26793.700000                 11.644000                      1.83900   \n",
       "std     28104.096686                  6.951373                      1.01888   \n",
       "min   -111100.000000                  0.000000                      1.00000   \n",
       "25%    -51500.000000                  6.000000                      1.00000   \n",
       "50%    -23250.000000                 12.000000                      1.00000   \n",
       "75%         0.000000                 17.000000                      3.00000   \n",
       "max         0.000000                 23.000000                      4.00000   \n",
       "\n",
       "       bodily_injuries    witnesses  total_claim_amount  injury_claim  \\\n",
       "count      1000.000000  1000.000000          1000.00000   1000.000000   \n",
       "mean          0.992000     1.487000         52761.94000   7433.420000   \n",
       "std           0.820127     1.111335         26401.53319   4880.951853   \n",
       "min           0.000000     0.000000           100.00000      0.000000   \n",
       "25%           0.000000     1.000000         41812.50000   4295.000000   \n",
       "50%           1.000000     1.000000         58055.00000   6775.000000   \n",
       "75%           2.000000     2.000000         70592.50000  11305.000000   \n",
       "max           2.000000     3.000000        114920.00000  21450.000000   \n",
       "\n",
       "       property_claim  vehicle_claim    auto_year  \n",
       "count     1000.000000    1000.000000  1000.000000  \n",
       "mean      7399.570000   37928.950000  2005.103000  \n",
       "std       4824.726179   18886.252893     6.015861  \n",
       "min          0.000000      70.000000  1995.000000  \n",
       "25%       4445.000000   30292.500000  2000.000000  \n",
       "50%       6750.000000   42100.000000  2005.000000  \n",
       "75%      10885.000000   50822.500000  2010.000000  \n",
       "max      23670.000000   79560.000000  2015.000000  "
      ]
     },
     "execution_count": 12,
     "metadata": {},
     "output_type": "execute_result"
    }
   ],
   "source": [
    "# univariate analysis of Numerical  variables using a describe() function\n",
    "# describe function provide  statistics summary of continuous variable.\n",
    "\n",
    "fraud.describe()"
   ]
  },
  {
   "cell_type": "markdown",
   "metadata": {},
   "source": [
    "# Key Observation :-\n",
    "\n",
    "- The automobile insurance claim Fraud dataset has 1000 rows with 39 features.\n",
    "\n",
    "- we checked above in the customer feature has total 9134 unique id of customers that means no customer repeat so it will not     help in claim amount prediction.\n",
    "\n",
    "- We observed that some categorical columns have 900+ unique values. We will remove these columns from our dataset because       these columns not help in model accuracy. below present those columns.\n",
    "\n",
    "1. policy number (1000)\n",
    "2. policy bind date (951)\n",
    "3. insured zip (995)\n",
    "4. insured location (1000)\n",
    "5. incident date (60)\n",
    "\n",
    "- the heatmap and data information confirms , their is missing values presence in collision_type,property_damage and             police_report_available columns in the datasets.\n",
    "\n",
    "- in which \"fraud_reported\" is our Target varible.\n",
    "\n",
    "\n",
    "# statistic summary observations :-\n",
    "\n",
    "- the mean is more than median(50th percentile) in all columns except age and capital loss columns.\n",
    "\n",
    "- there is a large difference in 75th -- - percentile and max in the Total Claim Amount,property_claim, capital-gain,             policy_number and months_as_customer columns in the dataset.\n",
    "\n",
    "- the 1 and 2 observation suggest that there is outlier present in these five columns."
   ]
  },
  {
   "cell_type": "code",
   "execution_count": 13,
   "metadata": {},
   "outputs": [
    {
     "data": {
      "image/png": "[encoded data removed]",
      "text/plain": [
       "<Figure size 1008x864 with 20 Axes>"
      ]
     },
     "metadata": {
      "needs_background": "light"
     },
     "output_type": "display_data"
    }
   ],
   "source": [
    "# Let's do some plotting to know how the data columns are distributed in the  dataset\n",
    "# univariate data analysis by graphical representation.\n",
    "# let's plot histogram for numerical varibles to check all feature in the dataset whether normal distribution or not.\n",
    "\n",
    "fraud.hist(figsize=(14,12))\n",
    "plt.show()\n",
    "\n",
    "# the histogram show all columns in form of normal distribution except umbrella limit in the dataset"
   ]
  },
  {
   "cell_type": "code",
   "execution_count": 14,
   "metadata": {},
   "outputs": [
    {
     "data": {
      "text/plain": [
       "<matplotlib.axes._subplots.AxesSubplot at 0x20ce7ab4fc8>"
      ]
     },
     "execution_count": 14,
     "metadata": {},
     "output_type": "execute_result"
    },
    {
     "data": {
      "image/png": "[encoded data removed]",
      "text/plain": [
       "<Figure size 432x288 with 1 Axes>"
      ]
     },
     "metadata": {
      "needs_background": "light"
     },
     "output_type": "display_data"
    }
   ],
   "source": [
    "# let's plot Box Plot for understanding the distribution and observe the presence of outliers.\n",
    "\n",
    "sns.boxplot(x='months_as_customer',data=fraud)\n",
    "\n",
    "# no outliers presence in this column"
   ]
  },
  {
   "cell_type": "code",
   "execution_count": 15,
   "metadata": {},
   "outputs": [
    {
     "data": {
      "text/plain": [
       "<matplotlib.axes._subplots.AxesSubplot at 0x20ce81aa3c8>"
      ]
     },
     "execution_count": 15,
     "metadata": {},
     "output_type": "execute_result"
    },
    {
     "data": {
      "image/png": "[encoded data removed]",
      "text/plain": [
       "<Figure size 432x288 with 1 Axes>"
      ]
     },
     "metadata": {
      "needs_background": "light"
     },
     "output_type": "display_data"
    }
   ],
   "source": [
    "# below boxplot shows presence of outliers \n",
    "\n",
    "sns.boxplot(x='property_claim',data=fraud)"
   ]
  },
  {
   "cell_type": "code",
   "execution_count": 16,
   "metadata": {},
   "outputs": [
    {
     "data": {
      "text/plain": [
       "<matplotlib.axes._subplots.AxesSubplot at 0x20ce7d20888>"
      ]
     },
     "execution_count": 16,
     "metadata": {},
     "output_type": "execute_result"
    },
    {
     "data": {
      "image/png": "[encoded data removed]",
      "text/plain": [
       "<Figure size 432x288 with 1 Axes>"
      ]
     },
     "metadata": {
      "needs_background": "light"
     },
     "output_type": "display_data"
    }
   ],
   "source": [
    "# below boxplot show ouliers presence in total claim amount column\n",
    "\n",
    "sns.boxplot(x='total_claim_amount',data=fraud)"
   ]
  },
  {
   "cell_type": "code",
   "execution_count": 17,
   "metadata": {},
   "outputs": [
    {
     "data": {
      "text/plain": [
       "<matplotlib.axes._subplots.AxesSubplot at 0x20ce7a568c8>"
      ]
     },
     "execution_count": 17,
     "metadata": {},
     "output_type": "execute_result"
    },
    {
     "data": {
      "image/png": "[encoded data removed]",
      "text/plain": [
       "<Figure size 432x288 with 1 Axes>"
      ]
     },
     "metadata": {
      "needs_background": "light"
     },
     "output_type": "display_data"
    }
   ],
   "source": [
    "# the below boxplot show huge gap between 75% and max values in the capital- gains column, most of the value distributed 0 to 50000\n",
    "sns.boxplot(x='capital-gains',data=fraud)"
   ]
  },
  {
   "cell_type": "code",
   "execution_count": 18,
   "metadata": {},
   "outputs": [
    {
     "data": {
      "text/plain": [
       "months_as_customer             0.362177\n",
       "age                            0.478988\n",
       "policy_number                  0.038991\n",
       "policy_deductable              0.477887\n",
       "policy_annual_premium          0.004402\n",
       "umbrella_limit                 1.806712\n",
       "insured_zip                    0.816554\n",
       "capital-gains                  0.478850\n",
       "capital-loss                  -0.391472\n",
       "incident_hour_of_the_day      -0.035584\n",
       "number_of_vehicles_involved    0.502664\n",
       "bodily_injuries                0.014777\n",
       "witnesses                      0.019636\n",
       "total_claim_amount            -0.594582\n",
       "injury_claim                   0.264811\n",
       "property_claim                 0.378169\n",
       "vehicle_claim                 -0.621098\n",
       "auto_year                     -0.048289\n",
       "dtype: float64"
      ]
     },
     "execution_count": 18,
     "metadata": {},
     "output_type": "execute_result"
    }
   ],
   "source": [
    "# # lets check the skewness of the dataset using skew function\n",
    "fraud.skew()"
   ]
  },
  {
   "cell_type": "code",
   "execution_count": 19,
   "metadata": {},
   "outputs": [
    {
     "data": {
      "image/png": "[encoded data removed]",
      "text/plain": [
       "<Figure size 432x288 with 1 Axes>"
      ]
     },
     "metadata": {
      "needs_background": "light"
     },
     "output_type": "display_data"
    }
   ],
   "source": [
    "#lets plot the countplot of 'fraud reported'  feature to understand distribution of the data.\n",
    "\n",
    "sns.countplot(x=\"fraud_reported\",data=fraud)\n",
    "plt.show()\n",
    "\n",
    "# from the below graph we say that it is imblance dataset because out of 1000 auto insurance claim only 250 insurance claims are fraud"
   ]
  },
  {
   "cell_type": "code",
   "execution_count": 20,
   "metadata": {},
   "outputs": [
    {
     "data": {
      "image/png": "[encoded data removed]",
      "text/plain": [
       "<Figure size 576x432 with 1 Axes>"
      ]
     },
     "metadata": {
      "needs_background": "light"
     },
     "output_type": "display_data"
    }
   ],
   "source": [
    "#lets check the count of \"Fraud_reported\" considering with \"incident_type\"\n",
    "plt.figure(figsize=(8,6))\n",
    "\n",
    "sns.countplot(x=\"incident_type\",hue=\"fraud_reported\",data=fraud)\n",
    "plt.show()\n"
   ]
  },
  {
   "cell_type": "code",
   "execution_count": 21,
   "metadata": {},
   "outputs": [
    {
     "data": {
      "image/png": "[encoded data removed]",
      "text/plain": [
       "<Figure size 576x432 with 1 Axes>"
      ]
     },
     "metadata": {
      "needs_background": "light"
     },
     "output_type": "display_data"
    }
   ],
   "source": [
    "#lets check the count of \"Fraud_reported\" considering with \"insured_education_level\"\n",
    "\n",
    "plt.figure(figsize=(8,6))\n",
    "\n",
    "sns.countplot(x=\"insured_education_level\",hue=\"fraud_reported\",data=fraud)\n",
    "plt.show()\n",
    "\n",
    "# accordind to below graph we can say that auto claim fraud reported high where insured education is \"Jd\""
   ]
  },
  {
   "cell_type": "code",
   "execution_count": 22,
   "metadata": {},
   "outputs": [
    {
     "data": {
      "image/png": "[encoded data removed]",
      "text/plain": [
       "<Figure size 864x432 with 1 Axes>"
      ]
     },
     "metadata": {
      "needs_background": "light"
     },
     "output_type": "display_data"
    }
   ],
   "source": [
    "#lets check the count of \"Fraud_reported\" considering with \"auto_make\"\n",
    "\n",
    "plt.figure(figsize=(12,6))\n",
    "\n",
    "sns.countplot(x=\"auto_make\",hue=\"fraud_reported\",data=fraud)\n",
    "plt.show()\n"
   ]
  },
  {
   "cell_type": "code",
   "execution_count": 23,
   "metadata": {},
   "outputs": [
    {
     "data": {
      "image/png": "[encoded data removed]",
      "text/plain": [
       "<Figure size 576x432 with 1 Axes>"
      ]
     },
     "metadata": {
      "needs_background": "light"
     },
     "output_type": "display_data"
    }
   ],
   "source": [
    "#lets check the count of \"Fraud_reported\" considering with \"property_damage\"\n",
    "\n",
    "plt.figure(figsize=(8,6))\n",
    "\n",
    "sns.countplot(x=\"property_damage\",hue=\"fraud_reported\",data=fraud)\n",
    "plt.show()"
   ]
  },
  {
   "cell_type": "code",
   "execution_count": 24,
   "metadata": {},
   "outputs": [],
   "source": [
    "# let's fill missing values first using mean,median and mode method \n",
    "\n",
    "# now we fill missing values with   most frequent values in Property _damage,collision_type and police_report_available feature \n",
    "# using SimpleImputer method\n",
    "\n",
    "from sklearn.impute import SimpleImputer\n",
    "\n",
    "imp=SimpleImputer(strategy='most_frequent')\n",
    "fraud['property_damage']=imp.fit_transform(fraud['property_damage'].values.reshape(-1,1))\n",
    "fraud['collision_type']=imp.fit_transform(fraud['collision_type'].values.reshape(-1,1))\n",
    "fraud['police_report_available']=imp.fit_transform(fraud['police_report_available'].values.reshape(-1,1))"
   ]
  },
  {
   "cell_type": "code",
   "execution_count": 25,
   "metadata": {},
   "outputs": [
    {
     "data": {
      "text/plain": [
       "months_as_customer             0\n",
       "age                            0\n",
       "policy_number                  0\n",
       "policy_bind_date               0\n",
       "policy_state                   0\n",
       "policy_csl                     0\n",
       "policy_deductable              0\n",
       "policy_annual_premium          0\n",
       "umbrella_limit                 0\n",
       "insured_zip                    0\n",
       "insured_sex                    0\n",
       "insured_education_level        0\n",
       "insured_occupation             0\n",
       "insured_hobbies                0\n",
       "insured_relationship           0\n",
       "capital-gains                  0\n",
       "capital-loss                   0\n",
       "incident_date                  0\n",
       "incident_type                  0\n",
       "collision_type                 0\n",
       "incident_severity              0\n",
       "authorities_contacted          0\n",
       "incident_state                 0\n",
       "incident_city                  0\n",
       "incident_location              0\n",
       "incident_hour_of_the_day       0\n",
       "number_of_vehicles_involved    0\n",
       "property_damage                0\n",
       "bodily_injuries                0\n",
       "witnesses                      0\n",
       "police_report_available        0\n",
       "total_claim_amount             0\n",
       "injury_claim                   0\n",
       "property_claim                 0\n",
       "vehicle_claim                  0\n",
       "auto_make                      0\n",
       "auto_model                     0\n",
       "auto_year                      0\n",
       "fraud_reported                 0\n",
       "dtype: int64"
      ]
     },
     "execution_count": 25,
     "metadata": {},
     "output_type": "execute_result"
    }
   ],
   "source": [
    "# let's check null values again\n",
    "fraud.isnull().sum()\n",
    "# no null values presents in the dataset"
   ]
  },
  {
   "cell_type": "code",
   "execution_count": 26,
   "metadata": {},
   "outputs": [],
   "source": [
    "# We will first remove the columns that we have discussed above because that have many unique values.\n",
    "\n",
    "fraud.drop([\"policy_number\", \"policy_bind_date\", \"insured_zip\", \"incident_location\", \"incident_date\"],axis=1,inplace=True)\n"
   ]
  },
  {
   "cell_type": "code",
   "execution_count": 27,
   "metadata": {},
   "outputs": [
    {
     "data": {
      "text/plain": [
       "(1000, 34)"
      ]
     },
     "execution_count": 27,
     "metadata": {},
     "output_type": "execute_result"
    }
   ],
   "source": [
    "# let's check shape of the dataset again\n",
    "\n",
    "fraud.shape\n",
    "\n",
    "# we have total 34 columns after drop columns which mentioned above."
   ]
  },
  {
   "cell_type": "code",
   "execution_count": 28,
   "metadata": {},
   "outputs": [],
   "source": [
    "# first let's convert \"fraud_reported\" target variable to check relationship with numerical columns.\n",
    "label = LabelEncoder()\n",
    "fraud[\"fraud_reported\"] = label.fit_transform(fraud[\"fraud_reported\"].astype('str'))"
   ]
  },
  {
   "cell_type": "code",
   "execution_count": 29,
   "metadata": {},
   "outputs": [
    {
     "data": {
      "text/html": [
       "<div>\n",
       "<style scoped>\n",
       "    .dataframe tbody tr th:only-of-type {\n",
       "        vertical-align: middle;\n",
       "    }\n",
       "\n",
       "    .dataframe tbody tr th {\n",
       "        vertical-align: top;\n",
       "    }\n",
       "\n",
       "    .dataframe thead th {\n",
       "        text-align: right;\n",
       "    }\n",
       "</style>\n",
       "<table border=\"1\" class=\"dataframe\">\n",
       "  <thead>\n",
       "    <tr style=\"text-align: right;\">\n",
       "      <th></th>\n",
       "      <th>months_as_customer</th>\n",
       "      <th>age</th>\n",
       "      <th>policy_deductable</th>\n",
       "      <th>policy_annual_premium</th>\n",
       "      <th>umbrella_limit</th>\n",
       "      <th>capital-gains</th>\n",
       "      <th>capital-loss</th>\n",
       "      <th>incident_hour_of_the_day</th>\n",
       "      <th>number_of_vehicles_involved</th>\n",
       "      <th>bodily_injuries</th>\n",
       "      <th>witnesses</th>\n",
       "      <th>total_claim_amount</th>\n",
       "      <th>injury_claim</th>\n",
       "      <th>property_claim</th>\n",
       "      <th>vehicle_claim</th>\n",
       "      <th>auto_year</th>\n",
       "      <th>fraud_reported</th>\n",
       "    </tr>\n",
       "  </thead>\n",
       "  <tbody>\n",
       "    <tr>\n",
       "      <th>months_as_customer</th>\n",
       "      <td>1.000000</td>\n",
       "      <td>0.922098</td>\n",
       "      <td>0.026807</td>\n",
       "      <td>0.005018</td>\n",
       "      <td>0.015498</td>\n",
       "      <td>0.006399</td>\n",
       "      <td>0.020209</td>\n",
       "      <td>0.070639</td>\n",
       "      <td>0.014736</td>\n",
       "      <td>-0.010162</td>\n",
       "      <td>0.058383</td>\n",
       "      <td>0.062108</td>\n",
       "      <td>0.065329</td>\n",
       "      <td>0.034940</td>\n",
       "      <td>0.061013</td>\n",
       "      <td>-0.000292</td>\n",
       "      <td>0.020544</td>\n",
       "    </tr>\n",
       "    <tr>\n",
       "      <th>age</th>\n",
       "      <td>0.922098</td>\n",
       "      <td>1.000000</td>\n",
       "      <td>0.029188</td>\n",
       "      <td>0.014404</td>\n",
       "      <td>0.018126</td>\n",
       "      <td>-0.007075</td>\n",
       "      <td>0.007368</td>\n",
       "      <td>0.087161</td>\n",
       "      <td>0.022102</td>\n",
       "      <td>-0.015679</td>\n",
       "      <td>0.052359</td>\n",
       "      <td>0.069863</td>\n",
       "      <td>0.075522</td>\n",
       "      <td>0.060898</td>\n",
       "      <td>0.062588</td>\n",
       "      <td>0.001354</td>\n",
       "      <td>0.012143</td>\n",
       "    </tr>\n",
       "    <tr>\n",
       "      <th>policy_deductable</th>\n",
       "      <td>0.026807</td>\n",
       "      <td>0.029188</td>\n",
       "      <td>1.000000</td>\n",
       "      <td>-0.003245</td>\n",
       "      <td>0.010870</td>\n",
       "      <td>0.035212</td>\n",
       "      <td>-0.023544</td>\n",
       "      <td>0.060935</td>\n",
       "      <td>0.051214</td>\n",
       "      <td>-0.022765</td>\n",
       "      <td>0.066639</td>\n",
       "      <td>0.022839</td>\n",
       "      <td>0.039107</td>\n",
       "      <td>0.064792</td>\n",
       "      <td>0.005269</td>\n",
       "      <td>0.026105</td>\n",
       "      <td>0.014817</td>\n",
       "    </tr>\n",
       "    <tr>\n",
       "      <th>policy_annual_premium</th>\n",
       "      <td>0.005018</td>\n",
       "      <td>0.014404</td>\n",
       "      <td>-0.003245</td>\n",
       "      <td>1.000000</td>\n",
       "      <td>-0.006247</td>\n",
       "      <td>-0.013738</td>\n",
       "      <td>0.023547</td>\n",
       "      <td>-0.001578</td>\n",
       "      <td>-0.045991</td>\n",
       "      <td>0.026780</td>\n",
       "      <td>0.002332</td>\n",
       "      <td>0.009094</td>\n",
       "      <td>-0.017633</td>\n",
       "      <td>-0.011654</td>\n",
       "      <td>0.020246</td>\n",
       "      <td>-0.049226</td>\n",
       "      <td>-0.014480</td>\n",
       "    </tr>\n",
       "    <tr>\n",
       "      <th>umbrella_limit</th>\n",
       "      <td>0.015498</td>\n",
       "      <td>0.018126</td>\n",
       "      <td>0.010870</td>\n",
       "      <td>-0.006247</td>\n",
       "      <td>1.000000</td>\n",
       "      <td>-0.047268</td>\n",
       "      <td>-0.024056</td>\n",
       "      <td>-0.023257</td>\n",
       "      <td>-0.021270</td>\n",
       "      <td>0.022743</td>\n",
       "      <td>-0.006738</td>\n",
       "      <td>-0.040344</td>\n",
       "      <td>-0.045412</td>\n",
       "      <td>-0.023790</td>\n",
       "      <td>-0.038584</td>\n",
       "      <td>0.009893</td>\n",
       "      <td>0.058622</td>\n",
       "    </tr>\n",
       "    <tr>\n",
       "      <th>capital-gains</th>\n",
       "      <td>0.006399</td>\n",
       "      <td>-0.007075</td>\n",
       "      <td>0.035212</td>\n",
       "      <td>-0.013738</td>\n",
       "      <td>-0.047268</td>\n",
       "      <td>1.000000</td>\n",
       "      <td>-0.046904</td>\n",
       "      <td>-0.016406</td>\n",
       "      <td>0.061643</td>\n",
       "      <td>0.055829</td>\n",
       "      <td>-0.017651</td>\n",
       "      <td>0.015980</td>\n",
       "      <td>0.025934</td>\n",
       "      <td>-0.000779</td>\n",
       "      <td>0.015836</td>\n",
       "      <td>0.031398</td>\n",
       "      <td>-0.019173</td>\n",
       "    </tr>\n",
       "    <tr>\n",
       "      <th>capital-loss</th>\n",
       "      <td>0.020209</td>\n",
       "      <td>0.007368</td>\n",
       "      <td>-0.023544</td>\n",
       "      <td>0.023547</td>\n",
       "      <td>-0.024056</td>\n",
       "      <td>-0.046904</td>\n",
       "      <td>1.000000</td>\n",
       "      <td>-0.025054</td>\n",
       "      <td>-0.014895</td>\n",
       "      <td>-0.024418</td>\n",
       "      <td>-0.041330</td>\n",
       "      <td>-0.036060</td>\n",
       "      <td>-0.046060</td>\n",
       "      <td>-0.022863</td>\n",
       "      <td>-0.032665</td>\n",
       "      <td>-0.056615</td>\n",
       "      <td>-0.014863</td>\n",
       "    </tr>\n",
       "    <tr>\n",
       "      <th>incident_hour_of_the_day</th>\n",
       "      <td>0.070639</td>\n",
       "      <td>0.087161</td>\n",
       "      <td>0.060935</td>\n",
       "      <td>-0.001578</td>\n",
       "      <td>-0.023257</td>\n",
       "      <td>-0.016406</td>\n",
       "      <td>-0.025054</td>\n",
       "      <td>1.000000</td>\n",
       "      <td>0.120794</td>\n",
       "      <td>-0.034563</td>\n",
       "      <td>0.006527</td>\n",
       "      <td>0.217702</td>\n",
       "      <td>0.165768</td>\n",
       "      <td>0.179536</td>\n",
       "      <td>0.215626</td>\n",
       "      <td>0.021368</td>\n",
       "      <td>0.004316</td>\n",
       "    </tr>\n",
       "    <tr>\n",
       "      <th>number_of_vehicles_involved</th>\n",
       "      <td>0.014736</td>\n",
       "      <td>0.022102</td>\n",
       "      <td>0.051214</td>\n",
       "      <td>-0.045991</td>\n",
       "      <td>-0.021270</td>\n",
       "      <td>0.061643</td>\n",
       "      <td>-0.014895</td>\n",
       "      <td>0.120794</td>\n",
       "      <td>1.000000</td>\n",
       "      <td>0.014030</td>\n",
       "      <td>-0.014669</td>\n",
       "      <td>0.274278</td>\n",
       "      <td>0.224650</td>\n",
       "      <td>0.219084</td>\n",
       "      <td>0.269393</td>\n",
       "      <td>0.034554</td>\n",
       "      <td>0.051839</td>\n",
       "    </tr>\n",
       "    <tr>\n",
       "      <th>bodily_injuries</th>\n",
       "      <td>-0.010162</td>\n",
       "      <td>-0.015679</td>\n",
       "      <td>-0.022765</td>\n",
       "      <td>0.026780</td>\n",
       "      <td>0.022743</td>\n",
       "      <td>0.055829</td>\n",
       "      <td>-0.024418</td>\n",
       "      <td>-0.034563</td>\n",
       "      <td>0.014030</td>\n",
       "      <td>1.000000</td>\n",
       "      <td>-0.005606</td>\n",
       "      <td>0.047093</td>\n",
       "      <td>0.047319</td>\n",
       "      <td>0.039749</td>\n",
       "      <td>0.043449</td>\n",
       "      <td>-0.020527</td>\n",
       "      <td>0.033877</td>\n",
       "    </tr>\n",
       "    <tr>\n",
       "      <th>witnesses</th>\n",
       "      <td>0.058383</td>\n",
       "      <td>0.052359</td>\n",
       "      <td>0.066639</td>\n",
       "      <td>0.002332</td>\n",
       "      <td>-0.006738</td>\n",
       "      <td>-0.017651</td>\n",
       "      <td>-0.041330</td>\n",
       "      <td>0.006527</td>\n",
       "      <td>-0.014669</td>\n",
       "      <td>-0.005606</td>\n",
       "      <td>1.000000</td>\n",
       "      <td>-0.011114</td>\n",
       "      <td>-0.024843</td>\n",
       "      <td>0.052640</td>\n",
       "      <td>-0.022564</td>\n",
       "      <td>0.045791</td>\n",
       "      <td>0.049497</td>\n",
       "    </tr>\n",
       "    <tr>\n",
       "      <th>total_claim_amount</th>\n",
       "      <td>0.062108</td>\n",
       "      <td>0.069863</td>\n",
       "      <td>0.022839</td>\n",
       "      <td>0.009094</td>\n",
       "      <td>-0.040344</td>\n",
       "      <td>0.015980</td>\n",
       "      <td>-0.036060</td>\n",
       "      <td>0.217702</td>\n",
       "      <td>0.274278</td>\n",
       "      <td>0.047093</td>\n",
       "      <td>-0.011114</td>\n",
       "      <td>1.000000</td>\n",
       "      <td>0.805025</td>\n",
       "      <td>0.810686</td>\n",
       "      <td>0.982773</td>\n",
       "      <td>-0.035781</td>\n",
       "      <td>0.163651</td>\n",
       "    </tr>\n",
       "    <tr>\n",
       "      <th>injury_claim</th>\n",
       "      <td>0.065329</td>\n",
       "      <td>0.075522</td>\n",
       "      <td>0.039107</td>\n",
       "      <td>-0.017633</td>\n",
       "      <td>-0.045412</td>\n",
       "      <td>0.025934</td>\n",
       "      <td>-0.046060</td>\n",
       "      <td>0.165768</td>\n",
       "      <td>0.224650</td>\n",
       "      <td>0.047319</td>\n",
       "      <td>-0.024843</td>\n",
       "      <td>0.805025</td>\n",
       "      <td>1.000000</td>\n",
       "      <td>0.563866</td>\n",
       "      <td>0.722878</td>\n",
       "      <td>-0.013718</td>\n",
       "      <td>0.090975</td>\n",
       "    </tr>\n",
       "    <tr>\n",
       "      <th>property_claim</th>\n",
       "      <td>0.034940</td>\n",
       "      <td>0.060898</td>\n",
       "      <td>0.064792</td>\n",
       "      <td>-0.011654</td>\n",
       "      <td>-0.023790</td>\n",
       "      <td>-0.000779</td>\n",
       "      <td>-0.022863</td>\n",
       "      <td>0.179536</td>\n",
       "      <td>0.219084</td>\n",
       "      <td>0.039749</td>\n",
       "      <td>0.052640</td>\n",
       "      <td>0.810686</td>\n",
       "      <td>0.563866</td>\n",
       "      <td>1.000000</td>\n",
       "      <td>0.732090</td>\n",
       "      <td>-0.014508</td>\n",
       "      <td>0.137835</td>\n",
       "    </tr>\n",
       "    <tr>\n",
       "      <th>vehicle_claim</th>\n",
       "      <td>0.061013</td>\n",
       "      <td>0.062588</td>\n",
       "      <td>0.005269</td>\n",
       "      <td>0.020246</td>\n",
       "      <td>-0.038584</td>\n",
       "      <td>0.015836</td>\n",
       "      <td>-0.032665</td>\n",
       "      <td>0.215626</td>\n",
       "      <td>0.269393</td>\n",
       "      <td>0.043449</td>\n",
       "      <td>-0.022564</td>\n",
       "      <td>0.982773</td>\n",
       "      <td>0.722878</td>\n",
       "      <td>0.732090</td>\n",
       "      <td>1.000000</td>\n",
       "      <td>-0.042768</td>\n",
       "      <td>0.170049</td>\n",
       "    </tr>\n",
       "    <tr>\n",
       "      <th>auto_year</th>\n",
       "      <td>-0.000292</td>\n",
       "      <td>0.001354</td>\n",
       "      <td>0.026105</td>\n",
       "      <td>-0.049226</td>\n",
       "      <td>0.009893</td>\n",
       "      <td>0.031398</td>\n",
       "      <td>-0.056615</td>\n",
       "      <td>0.021368</td>\n",
       "      <td>0.034554</td>\n",
       "      <td>-0.020527</td>\n",
       "      <td>0.045791</td>\n",
       "      <td>-0.035781</td>\n",
       "      <td>-0.013718</td>\n",
       "      <td>-0.014508</td>\n",
       "      <td>-0.042768</td>\n",
       "      <td>1.000000</td>\n",
       "      <td>0.007928</td>\n",
       "    </tr>\n",
       "    <tr>\n",
       "      <th>fraud_reported</th>\n",
       "      <td>0.020544</td>\n",
       "      <td>0.012143</td>\n",
       "      <td>0.014817</td>\n",
       "      <td>-0.014480</td>\n",
       "      <td>0.058622</td>\n",
       "      <td>-0.019173</td>\n",
       "      <td>-0.014863</td>\n",
       "      <td>0.004316</td>\n",
       "      <td>0.051839</td>\n",
       "      <td>0.033877</td>\n",
       "      <td>0.049497</td>\n",
       "      <td>0.163651</td>\n",
       "      <td>0.090975</td>\n",
       "      <td>0.137835</td>\n",
       "      <td>0.170049</td>\n",
       "      <td>0.007928</td>\n",
       "      <td>1.000000</td>\n",
       "    </tr>\n",
       "  </tbody>\n",
       "</table>\n",
       "</div>"
      ],
      "text/plain": [
       "                             months_as_customer       age  policy_deductable  \\\n",
       "months_as_customer                     1.000000  0.922098           0.026807   \n",
       "age                                    0.922098  1.000000           0.029188   \n",
       "policy_deductable                      0.026807  0.029188           1.000000   \n",
       "policy_annual_premium                  0.005018  0.014404          -0.003245   \n",
       "umbrella_limit                         0.015498  0.018126           0.010870   \n",
       "capital-gains                          0.006399 -0.007075           0.035212   \n",
       "capital-loss                           0.020209  0.007368          -0.023544   \n",
       "incident_hour_of_the_day               0.070639  0.087161           0.060935   \n",
       "number_of_vehicles_involved            0.014736  0.022102           0.051214   \n",
       "bodily_injuries                       -0.010162 -0.015679          -0.022765   \n",
       "witnesses                              0.058383  0.052359           0.066639   \n",
       "total_claim_amount                     0.062108  0.069863           0.022839   \n",
       "injury_claim                           0.065329  0.075522           0.039107   \n",
       "property_claim                         0.034940  0.060898           0.064792   \n",
       "vehicle_claim                          0.061013  0.062588           0.005269   \n",
       "auto_year                             -0.000292  0.001354           0.026105   \n",
       "fraud_reported                         0.020544  0.012143           0.014817   \n",
       "\n",
       "                             policy_annual_premium  umbrella_limit  \\\n",
       "months_as_customer                        0.005018        0.015498   \n",
       "age                                       0.014404        0.018126   \n",
       "policy_deductable                        -0.003245        0.010870   \n",
       "policy_annual_premium                     1.000000       -0.006247   \n",
       "umbrella_limit                           -0.006247        1.000000   \n",
       "capital-gains                            -0.013738       -0.047268   \n",
       "capital-loss                              0.023547       -0.024056   \n",
       "incident_hour_of_the_day                 -0.001578       -0.023257   \n",
       "number_of_vehicles_involved              -0.045991       -0.021270   \n",
       "bodily_injuries                           0.026780        0.022743   \n",
       "witnesses                                 0.002332       -0.006738   \n",
       "total_claim_amount                        0.009094       -0.040344   \n",
       "injury_claim                             -0.017633       -0.045412   \n",
       "property_claim                           -0.011654       -0.023790   \n",
       "vehicle_claim                             0.020246       -0.038584   \n",
       "auto_year                                -0.049226        0.009893   \n",
       "fraud_reported                           -0.014480        0.058622   \n",
       "\n",
       "                             capital-gains  capital-loss  \\\n",
       "months_as_customer                0.006399      0.020209   \n",
       "age                              -0.007075      0.007368   \n",
       "policy_deductable                 0.035212     -0.023544   \n",
       "policy_annual_premium            -0.013738      0.023547   \n",
       "umbrella_limit                   -0.047268     -0.024056   \n",
       "capital-gains                     1.000000     -0.046904   \n",
       "capital-loss                     -0.046904      1.000000   \n",
       "incident_hour_of_the_day         -0.016406     -0.025054   \n",
       "number_of_vehicles_involved       0.061643     -0.014895   \n",
       "bodily_injuries                   0.055829     -0.024418   \n",
       "witnesses                        -0.017651     -0.041330   \n",
       "total_claim_amount                0.015980     -0.036060   \n",
       "injury_claim                      0.025934     -0.046060   \n",
       "property_claim                   -0.000779     -0.022863   \n",
       "vehicle_claim                     0.015836     -0.032665   \n",
       "auto_year                         0.031398     -0.056615   \n",
       "fraud_reported                   -0.019173     -0.014863   \n",
       "\n",
       "                             incident_hour_of_the_day  \\\n",
       "months_as_customer                           0.070639   \n",
       "age                                          0.087161   \n",
       "policy_deductable                            0.060935   \n",
       "policy_annual_premium                       -0.001578   \n",
       "umbrella_limit                              -0.023257   \n",
       "capital-gains                               -0.016406   \n",
       "capital-loss                                -0.025054   \n",
       "incident_hour_of_the_day                     1.000000   \n",
       "number_of_vehicles_involved                  0.120794   \n",
       "bodily_injuries                             -0.034563   \n",
       "witnesses                                    0.006527   \n",
       "total_claim_amount                           0.217702   \n",
       "injury_claim                                 0.165768   \n",
       "property_claim                               0.179536   \n",
       "vehicle_claim                                0.215626   \n",
       "auto_year                                    0.021368   \n",
       "fraud_reported                               0.004316   \n",
       "\n",
       "                             number_of_vehicles_involved  bodily_injuries  \\\n",
       "months_as_customer                              0.014736        -0.010162   \n",
       "age                                             0.022102        -0.015679   \n",
       "policy_deductable                               0.051214        -0.022765   \n",
       "policy_annual_premium                          -0.045991         0.026780   \n",
       "umbrella_limit                                 -0.021270         0.022743   \n",
       "capital-gains                                   0.061643         0.055829   \n",
       "capital-loss                                   -0.014895        -0.024418   \n",
       "incident_hour_of_the_day                        0.120794        -0.034563   \n",
       "number_of_vehicles_involved                     1.000000         0.014030   \n",
       "bodily_injuries                                 0.014030         1.000000   \n",
       "witnesses                                      -0.014669        -0.005606   \n",
       "total_claim_amount                              0.274278         0.047093   \n",
       "injury_claim                                    0.224650         0.047319   \n",
       "property_claim                                  0.219084         0.039749   \n",
       "vehicle_claim                                   0.269393         0.043449   \n",
       "auto_year                                       0.034554        -0.020527   \n",
       "fraud_reported                                  0.051839         0.033877   \n",
       "\n",
       "                             witnesses  total_claim_amount  injury_claim  \\\n",
       "months_as_customer            0.058383            0.062108      0.065329   \n",
       "age                           0.052359            0.069863      0.075522   \n",
       "policy_deductable             0.066639            0.022839      0.039107   \n",
       "policy_annual_premium         0.002332            0.009094     -0.017633   \n",
       "umbrella_limit               -0.006738           -0.040344     -0.045412   \n",
       "capital-gains                -0.017651            0.015980      0.025934   \n",
       "capital-loss                 -0.041330           -0.036060     -0.046060   \n",
       "incident_hour_of_the_day      0.006527            0.217702      0.165768   \n",
       "number_of_vehicles_involved  -0.014669            0.274278      0.224650   \n",
       "bodily_injuries              -0.005606            0.047093      0.047319   \n",
       "witnesses                     1.000000           -0.011114     -0.024843   \n",
       "total_claim_amount           -0.011114            1.000000      0.805025   \n",
       "injury_claim                 -0.024843            0.805025      1.000000   \n",
       "property_claim                0.052640            0.810686      0.563866   \n",
       "vehicle_claim                -0.022564            0.982773      0.722878   \n",
       "auto_year                     0.045791           -0.035781     -0.013718   \n",
       "fraud_reported                0.049497            0.163651      0.090975   \n",
       "\n",
       "                             property_claim  vehicle_claim  auto_year  \\\n",
       "months_as_customer                 0.034940       0.061013  -0.000292   \n",
       "age                                0.060898       0.062588   0.001354   \n",
       "policy_deductable                  0.064792       0.005269   0.026105   \n",
       "policy_annual_premium             -0.011654       0.020246  -0.049226   \n",
       "umbrella_limit                    -0.023790      -0.038584   0.009893   \n",
       "capital-gains                     -0.000779       0.015836   0.031398   \n",
       "capital-loss                      -0.022863      -0.032665  -0.056615   \n",
       "incident_hour_of_the_day           0.179536       0.215626   0.021368   \n",
       "number_of_vehicles_involved        0.219084       0.269393   0.034554   \n",
       "bodily_injuries                    0.039749       0.043449  -0.020527   \n",
       "witnesses                          0.052640      -0.022564   0.045791   \n",
       "total_claim_amount                 0.810686       0.982773  -0.035781   \n",
       "injury_claim                       0.563866       0.722878  -0.013718   \n",
       "property_claim                     1.000000       0.732090  -0.014508   \n",
       "vehicle_claim                      0.732090       1.000000  -0.042768   \n",
       "auto_year                         -0.014508      -0.042768   1.000000   \n",
       "fraud_reported                     0.137835       0.170049   0.007928   \n",
       "\n",
       "                             fraud_reported  \n",
       "months_as_customer                 0.020544  \n",
       "age                                0.012143  \n",
       "policy_deductable                  0.014817  \n",
       "policy_annual_premium             -0.014480  \n",
       "umbrella_limit                     0.058622  \n",
       "capital-gains                     -0.019173  \n",
       "capital-loss                      -0.014863  \n",
       "incident_hour_of_the_day           0.004316  \n",
       "number_of_vehicles_involved        0.051839  \n",
       "bodily_injuries                    0.033877  \n",
       "witnesses                          0.049497  \n",
       "total_claim_amount                 0.163651  \n",
       "injury_claim                       0.090975  \n",
       "property_claim                     0.137835  \n",
       "vehicle_claim                      0.170049  \n",
       "auto_year                          0.007928  \n",
       "fraud_reported                     1.000000  "
      ]
     },
     "execution_count": 29,
     "metadata": {},
     "output_type": "execute_result"
    }
   ],
   "source": [
    "# get correlation of each feature in the dataset\n",
    "data= fraud.corr()\n",
    "data"
   ]
  },
  {
   "cell_type": "code",
   "execution_count": 30,
   "metadata": {},
   "outputs": [
    {
     "data": {
      "text/plain": [
       "<matplotlib.axes._subplots.AxesSubplot at 0x20ce7c88748>"
      ]
     },
     "execution_count": 30,
     "metadata": {},
     "output_type": "execute_result"
    },
    {
     "data": {
      "image/png": "[encoded data removed]",
      "text/plain": [
       "<Figure size 1152x720 with 2 Axes>"
      ]
     },
     "metadata": {
      "needs_background": "light"
     },
     "output_type": "display_data"
    }
   ],
   "source": [
    "# get correlation of each feature in the dataset\n",
    "# visualize correlation matrix using heatmap\n",
    "\n",
    "plt.figure(figsize=(16,10))\n",
    "sns.heatmap(data,cmap='Oranges',annot=True) "
   ]
  },
  {
   "cell_type": "markdown",
   "metadata": {},
   "source": [
    "# observation :-\n",
    "\n",
    "- dark shades are highly correlated with each other.\n",
    "\n",
    "- the total_claim_amount,injury_claim,property_claim and vehicle_claim columns is highly positive correlated with each others     and also positively correlated with fraud_reported feature.\n",
    "\n",
    "- month_as_customer and age feture highly correlated with each others.\n"
   ]
  },
  {
   "cell_type": "code",
   "execution_count": 31,
   "metadata": {},
   "outputs": [],
   "source": [
    "# Separate categorical and numberical columns\n",
    "\n",
    "cat_col = fraud.dtypes[fraud.dtypes == 'object']\n",
    "num_col = fraud.dtypes[fraud.dtypes != 'object']"
   ]
  },
  {
   "cell_type": "code",
   "execution_count": 32,
   "metadata": {},
   "outputs": [
    {
     "data": {
      "text/plain": [
       "policy_state               object\n",
       "policy_csl                 object\n",
       "insured_sex                object\n",
       "insured_education_level    object\n",
       "insured_occupation         object\n",
       "insured_hobbies            object\n",
       "insured_relationship       object\n",
       "incident_type              object\n",
       "collision_type             object\n",
       "incident_severity          object\n",
       "authorities_contacted      object\n",
       "incident_state             object\n",
       "incident_city              object\n",
       "property_damage            object\n",
       "police_report_available    object\n",
       "auto_make                  object\n",
       "auto_model                 object\n",
       "dtype: object"
      ]
     },
     "execution_count": 32,
     "metadata": {},
     "output_type": "execute_result"
    }
   ],
   "source": [
    "cat_col"
   ]
  },
  {
   "cell_type": "code",
   "execution_count": 33,
   "metadata": {},
   "outputs": [],
   "source": [
    "# let's convert all our categorical varibles into numeric by encoding the categories\n",
    "# we using labelEncoder for that\n",
    "\n",
    "label = LabelEncoder()\n",
    "for col in fraud:\n",
    "     if fraud[col].dtype == 'object':\n",
    "        fraud[col] = label.fit_transform(fraud[col].astype('str'))"
   ]
  },
  {
   "cell_type": "code",
   "execution_count": 34,
   "metadata": {},
   "outputs": [
    {
     "data": {
      "text/html": [
       "<div>\n",
       "<style scoped>\n",
       "    .dataframe tbody tr th:only-of-type {\n",
       "        vertical-align: middle;\n",
       "    }\n",
       "\n",
       "    .dataframe tbody tr th {\n",
       "        vertical-align: top;\n",
       "    }\n",
       "\n",
       "    .dataframe thead th {\n",
       "        text-align: right;\n",
       "    }\n",
       "</style>\n",
       "<table border=\"1\" class=\"dataframe\">\n",
       "  <thead>\n",
       "    <tr style=\"text-align: right;\">\n",
       "      <th></th>\n",
       "      <th>months_as_customer</th>\n",
       "      <th>age</th>\n",
       "      <th>policy_state</th>\n",
       "      <th>policy_csl</th>\n",
       "      <th>policy_deductable</th>\n",
       "      <th>policy_annual_premium</th>\n",
       "      <th>umbrella_limit</th>\n",
       "      <th>insured_sex</th>\n",
       "      <th>insured_education_level</th>\n",
       "      <th>insured_occupation</th>\n",
       "      <th>...</th>\n",
       "      <th>witnesses</th>\n",
       "      <th>police_report_available</th>\n",
       "      <th>total_claim_amount</th>\n",
       "      <th>injury_claim</th>\n",
       "      <th>property_claim</th>\n",
       "      <th>vehicle_claim</th>\n",
       "      <th>auto_make</th>\n",
       "      <th>auto_model</th>\n",
       "      <th>auto_year</th>\n",
       "      <th>fraud_reported</th>\n",
       "    </tr>\n",
       "  </thead>\n",
       "  <tbody>\n",
       "    <tr>\n",
       "      <th>0</th>\n",
       "      <td>328</td>\n",
       "      <td>48</td>\n",
       "      <td>2</td>\n",
       "      <td>1</td>\n",
       "      <td>1000</td>\n",
       "      <td>1406.91</td>\n",
       "      <td>0</td>\n",
       "      <td>1</td>\n",
       "      <td>4</td>\n",
       "      <td>2</td>\n",
       "      <td>...</td>\n",
       "      <td>2</td>\n",
       "      <td>1</td>\n",
       "      <td>71610</td>\n",
       "      <td>6510</td>\n",
       "      <td>13020</td>\n",
       "      <td>52080</td>\n",
       "      <td>10</td>\n",
       "      <td>1</td>\n",
       "      <td>2004</td>\n",
       "      <td>1</td>\n",
       "    </tr>\n",
       "    <tr>\n",
       "      <th>1</th>\n",
       "      <td>228</td>\n",
       "      <td>42</td>\n",
       "      <td>1</td>\n",
       "      <td>1</td>\n",
       "      <td>2000</td>\n",
       "      <td>1197.22</td>\n",
       "      <td>5000000</td>\n",
       "      <td>1</td>\n",
       "      <td>4</td>\n",
       "      <td>6</td>\n",
       "      <td>...</td>\n",
       "      <td>0</td>\n",
       "      <td>0</td>\n",
       "      <td>5070</td>\n",
       "      <td>780</td>\n",
       "      <td>780</td>\n",
       "      <td>3510</td>\n",
       "      <td>8</td>\n",
       "      <td>12</td>\n",
       "      <td>2007</td>\n",
       "      <td>1</td>\n",
       "    </tr>\n",
       "    <tr>\n",
       "      <th>2</th>\n",
       "      <td>134</td>\n",
       "      <td>29</td>\n",
       "      <td>2</td>\n",
       "      <td>0</td>\n",
       "      <td>2000</td>\n",
       "      <td>1413.14</td>\n",
       "      <td>5000000</td>\n",
       "      <td>0</td>\n",
       "      <td>6</td>\n",
       "      <td>11</td>\n",
       "      <td>...</td>\n",
       "      <td>3</td>\n",
       "      <td>0</td>\n",
       "      <td>34650</td>\n",
       "      <td>7700</td>\n",
       "      <td>3850</td>\n",
       "      <td>23100</td>\n",
       "      <td>4</td>\n",
       "      <td>30</td>\n",
       "      <td>2007</td>\n",
       "      <td>0</td>\n",
       "    </tr>\n",
       "  </tbody>\n",
       "</table>\n",
       "<p>3 rows × 34 columns</p>\n",
       "</div>"
      ],
      "text/plain": [
       "   months_as_customer  age  policy_state  policy_csl  policy_deductable  \\\n",
       "0                 328   48             2           1               1000   \n",
       "1                 228   42             1           1               2000   \n",
       "2                 134   29             2           0               2000   \n",
       "\n",
       "   policy_annual_premium  umbrella_limit  insured_sex  \\\n",
       "0                1406.91               0            1   \n",
       "1                1197.22         5000000            1   \n",
       "2                1413.14         5000000            0   \n",
       "\n",
       "   insured_education_level  insured_occupation  ...  witnesses  \\\n",
       "0                        4                   2  ...          2   \n",
       "1                        4                   6  ...          0   \n",
       "2                        6                  11  ...          3   \n",
       "\n",
       "   police_report_available  total_claim_amount  injury_claim  property_claim  \\\n",
       "0                        1               71610          6510           13020   \n",
       "1                        0                5070           780             780   \n",
       "2                        0               34650          7700            3850   \n",
       "\n",
       "   vehicle_claim  auto_make  auto_model  auto_year  fraud_reported  \n",
       "0          52080         10           1       2004               1  \n",
       "1           3510          8          12       2007               1  \n",
       "2          23100          4          30       2007               0  \n",
       "\n",
       "[3 rows x 34 columns]"
      ]
     },
     "execution_count": 34,
     "metadata": {},
     "output_type": "execute_result"
    }
   ],
   "source": [
    "fraud.head(3)"
   ]
  },
  {
   "cell_type": "code",
   "execution_count": 35,
   "metadata": {},
   "outputs": [
    {
     "data": {
      "text/plain": [
       "months_as_customer               int64\n",
       "age                              int64\n",
       "policy_state                     int32\n",
       "policy_csl                       int32\n",
       "policy_deductable                int64\n",
       "policy_annual_premium          float64\n",
       "umbrella_limit                   int64\n",
       "insured_sex                      int32\n",
       "insured_education_level          int32\n",
       "insured_occupation               int32\n",
       "insured_hobbies                  int32\n",
       "insured_relationship             int32\n",
       "capital-gains                    int64\n",
       "capital-loss                     int64\n",
       "incident_type                    int32\n",
       "collision_type                   int32\n",
       "incident_severity                int32\n",
       "authorities_contacted            int32\n",
       "incident_state                   int32\n",
       "incident_city                    int32\n",
       "incident_hour_of_the_day         int64\n",
       "number_of_vehicles_involved      int64\n",
       "property_damage                  int32\n",
       "bodily_injuries                  int64\n",
       "witnesses                        int64\n",
       "police_report_available          int32\n",
       "total_claim_amount               int64\n",
       "injury_claim                     int64\n",
       "property_claim                   int64\n",
       "vehicle_claim                    int64\n",
       "auto_make                        int32\n",
       "auto_model                       int32\n",
       "auto_year                        int64\n",
       "fraud_reported                   int32\n",
       "dtype: object"
      ]
     },
     "execution_count": 35,
     "metadata": {},
     "output_type": "execute_result"
    }
   ],
   "source": [
    "fraud.dtypes"
   ]
  },
  {
   "cell_type": "code",
   "execution_count": 36,
   "metadata": {},
   "outputs": [
    {
     "name": "stdout",
     "output_type": "stream",
     "text": [
      "(1000, 34)\n",
      "(980, 34)\n"
     ]
    }
   ],
   "source": [
    "# lets remove outliers from loan dataset\n",
    "# let's check and remove outliers in the dataset using z_score method\n",
    "from scipy.stats import zscore\n",
    "\n",
    "z_score=abs(zscore(fraud))\n",
    "print(fraud.shape)\n",
    "fraud=fraud.loc[(z_score<3).all(axis=1)]\n",
    "print(fraud.shape)\n",
    "\n",
    "# we can see that 980 rows and 34 columns presents in dataset"
   ]
  },
  {
   "cell_type": "code",
   "execution_count": 37,
   "metadata": {},
   "outputs": [],
   "source": [
    "# let's seperate the dataset as input variable and output variabes\n",
    "\n",
    "x = fraud.drop('fraud_reported', axis = 1)\n",
    "y = fraud['fraud_reported']"
   ]
  },
  {
   "cell_type": "code",
   "execution_count": 38,
   "metadata": {},
   "outputs": [
    {
     "name": "stdout",
     "output_type": "stream",
     "text": [
      "(980, 33)\n",
      "(980,)\n"
     ]
    }
   ],
   "source": [
    "# let's check shape x and y\n",
    "print(x.shape)\n",
    "print(y.shape)"
   ]
  },
  {
   "cell_type": "code",
   "execution_count": 39,
   "metadata": {},
   "outputs": [],
   "source": [
    "# Applying Standard scaling to get optimized result\n",
    "\n",
    "#Lets bring features to common scale\n",
    "\n",
    "from sklearn.preprocessing import StandardScaler\n",
    "\n",
    "sc = StandardScaler()\n",
    "x = sc.fit_transform(x)\n"
   ]
  },
  {
   "cell_type": "code",
   "execution_count": 40,
   "metadata": {},
   "outputs": [
    {
     "data": {
      "text/plain": [
       "array([[ 1.06956809,  0.98335151,  1.17982066, ...,  0.85195935,\n",
       "        -1.64044692, -0.18859446],\n",
       "       [ 0.20272605,  0.32971067, -0.0245796 , ...,  0.35527871,\n",
       "        -0.65173967,  0.31047639],\n",
       "       [-0.61210547, -1.08651116,  1.17982066, ..., -0.63808258,\n",
       "         0.96614491,  0.31047639],\n",
       "       ...,\n",
       "       [-0.64677915, -0.54181045,  1.17982066, ...,  1.10029967,\n",
       "        -0.02256234, -1.51945005],\n",
       "       [ 2.19646275,  2.50851348, -1.22897986, ..., -1.38310355,\n",
       "        -1.28091701, -1.18673615],\n",
       "       [ 2.17912591,  2.2906332 ,  1.17982066, ...,  0.35527871,\n",
       "        -0.65173967,  0.31047639]])"
      ]
     },
     "execution_count": 40,
     "metadata": {},
     "output_type": "execute_result"
    }
   ],
   "source": [
    "x"
   ]
  },
  {
   "cell_type": "code",
   "execution_count": 41,
   "metadata": {},
   "outputs": [],
   "source": [
    "# Train and Test splitting of data \n",
    "\n",
    "x_train, x_test, y_train, y_test = train_test_split(x, y, test_size = 0.22, random_state = 42)"
   ]
  },
  {
   "cell_type": "code",
   "execution_count": 42,
   "metadata": {},
   "outputs": [
    {
     "name": "stdout",
     "output_type": "stream",
     "text": [
      "(764, 33)\n",
      "(764,)\n"
     ]
    }
   ],
   "source": [
    "print(x_train.shape)\n",
    "print(y_train.shape)"
   ]
  },
  {
   "cell_type": "code",
   "execution_count": 43,
   "metadata": {},
   "outputs": [
    {
     "name": "stdout",
     "output_type": "stream",
     "text": [
      "(216, 33)\n",
      "(216,)\n"
     ]
    }
   ],
   "source": [
    "print(x_test.shape)\n",
    "print(y_test.shape)"
   ]
  },
  {
   "cell_type": "markdown",
   "metadata": {},
   "source": [
    "# Our training and testing data is ready now to perform machine learning algorithm¶\n",
    "\n",
    "##  the Auto insurance claim fraud prediction is a classification problem, so we can use                 Multiple  classification algorithm with hyperparameter tune.\n",
    "\n",
    "- first we use Logistic regression model because the target variable hold binary classification (0 and 1) to check accuracy        score level.\n",
    "\n",
    "- we also used different classification model to check and compare whether we get high accuracy score or not, this exercise       help us to select best model.\n",
    "\n",
    "- We will use the following algorithms\n",
    "- Logistic Regression\n",
    "- DecisionTrees\n",
    "- Random Forests\n",
    "- SVM\n",
    "- naviebyes"
   ]
  },
  {
   "cell_type": "code",
   "execution_count": 44,
   "metadata": {},
   "outputs": [],
   "source": [
    "# let's use PCA techniques to select best dimention in the dataset\n",
    "\n",
    "from sklearn.decomposition import PCA \n",
    "pca = PCA(n_components=30) \n",
    "  \n",
    "x = pca.fit_transform(x) \n"
   ]
  },
  {
   "cell_type": "code",
   "execution_count": 45,
   "metadata": {},
   "outputs": [
    {
     "data": {
      "text/plain": [
       "(980, 30)"
      ]
     },
     "execution_count": 45,
     "metadata": {},
     "output_type": "execute_result"
    }
   ],
   "source": [
    "x.shape"
   ]
  },
  {
   "cell_type": "code",
   "execution_count": 46,
   "metadata": {},
   "outputs": [],
   "source": [
    "# let's make function to run multiple algorithm\n",
    "from sklearn.metrics import confusion_matrix,accuracy_score,classification_report\n",
    "\n",
    "def max_accuracyscore(mod,x,y):\n",
    "    max_accuracy_score=0\n",
    "    for r_state in range(42,100):\n",
    "        x_train, x_test, y_train, y_test = train_test_split(x, y, test_size = 0.22, random_state = r_state)  \n",
    "        mod.fit(x_train,y_train)\n",
    "        y_pred = mod.predict(x_test)\n",
    "        a_score=accuracy_score(y_test,y_pred)\n",
    "        if a_score>max_accuracy_score:\n",
    "            max_accuracy_score=a_score\n",
    "            final_r_state=r_state\n",
    "    print(\"max Accuracy_Score corresponding to \",final_r_state,\" is \",max_accuracy_score)\n",
    "    return final_r_state"
   ]
  },
  {
   "cell_type": "code",
   "execution_count": 47,
   "metadata": {},
   "outputs": [
    {
     "name": "stdout",
     "output_type": "stream",
     "text": [
      "max Accuracy_Score corresponding to  63  is  0.8240740740740741\n"
     ]
    },
    {
     "data": {
      "text/plain": [
       "63"
      ]
     },
     "execution_count": 47,
     "metadata": {},
     "output_type": "execute_result"
    }
   ],
   "source": [
    "#Lets use logistic regression and check\n",
    "#from sklearn.linear_model import LogisticRegression\n",
    "\n",
    "lg=LogisticRegression()\n",
    "max_accuracyscore(lg,x,y)"
   ]
  },
  {
   "cell_type": "code",
   "execution_count": 48,
   "metadata": {},
   "outputs": [
    {
     "name": "stdout",
     "output_type": "stream",
     "text": [
      "Mean accuracy score for Logistic Regression:  0.7744897959183673\n",
      "standard deviation in accuracy score for Logistic Regression:  0.024869505320314136\n",
      "\n",
      "\n",
      "cross val accuracy score: [0.77040816 0.77040816 0.73469388 0.81122449 0.78571429]\n"
     ]
    }
   ],
   "source": [
    "# Lets use cross validation metod to get cross val score because target varible is imbalanced\n",
    "\n",
    "from sklearn.model_selection import cross_val_score\n",
    "\n",
    "print(\"Mean accuracy score for Logistic Regression: \",cross_val_score(lg,x,y,cv=5,scoring=\"accuracy\").mean())\n",
    "print(\"standard deviation in accuracy score for Logistic Regression: \",cross_val_score(lg,x,y,cv=5,scoring=\"accuracy\").std())\n",
    "print('\\n')\n",
    "print('cross val accuracy score:',cross_val_score(lg,x,y,cv=5,scoring=\"accuracy\"))"
   ]
  },
  {
   "cell_type": "code",
   "execution_count": 49,
   "metadata": {},
   "outputs": [
    {
     "data": {
      "text/plain": [
       "{'C': 1, 'kernel': 'linear'}"
      ]
     },
     "execution_count": 49,
     "metadata": {},
     "output_type": "execute_result"
    }
   ],
   "source": [
    "#Lets use SVM with hyparameter tune GridsearchCv \n",
    "from sklearn.model_selection import GridSearchCV\n",
    "from sklearn.svm import SVC\n",
    "\n",
    "svc=SVC()\n",
    "parameters={\"kernel\":[\"linear\", \"poly\", \"rbf\"],\"C\":[0.001,0.01,0.1,1,10]}\n",
    "gv = GridSearchCV(svc, parameters, cv=5,scoring=\"accuracy\")\n",
    "gv.fit(x,y)\n",
    "gv.best_params_"
   ]
  },
  {
   "cell_type": "code",
   "execution_count": 50,
   "metadata": {},
   "outputs": [
    {
     "name": "stdout",
     "output_type": "stream",
     "text": [
      "max Accuracy_Score corresponding to  59  is  0.8333333333333334\n"
     ]
    },
    {
     "data": {
      "text/plain": [
       "59"
      ]
     },
     "execution_count": 50,
     "metadata": {},
     "output_type": "execute_result"
    }
   ],
   "source": [
    "svc=SVC(kernel=\"linear\",C=1)\n",
    "max_accuracyscore(svc,x,y)"
   ]
  },
  {
   "cell_type": "code",
   "execution_count": 51,
   "metadata": {},
   "outputs": [
    {
     "name": "stdout",
     "output_type": "stream",
     "text": [
      "Mean accuracy score for SVC:  0.7765306122448979\n",
      "standard deviation in accuracy score for SVC:  0.026095330311315154\n",
      "\n",
      "\n",
      "cross val accuracy score: [0.75510204 0.79081633 0.76020408 0.82142857 0.75510204]\n"
     ]
    }
   ],
   "source": [
    "# lets check cross val score and mean accuracy of cross val score\n",
    "\n",
    "print(\"Mean accuracy score for SVC: \",cross_val_score(svc,x,y,cv=5,scoring=\"accuracy\").mean())\n",
    "print(\"standard deviation in accuracy score for SVC: \",cross_val_score(svc,x,y,cv=5,scoring=\"accuracy\").std())\n",
    "print('\\n')\n",
    "print('cross val accuracy score:',cross_val_score(svc,x,y,cv=5,scoring=\"accuracy\"))\n"
   ]
  },
  {
   "cell_type": "code",
   "execution_count": 52,
   "metadata": {},
   "outputs": [
    {
     "name": "stdout",
     "output_type": "stream",
     "text": [
      "max Accuracy_Score corresponding to  54  is  0.7268518518518519\n"
     ]
    },
    {
     "data": {
      "text/plain": [
       "54"
      ]
     },
     "execution_count": 52,
     "metadata": {},
     "output_type": "execute_result"
    }
   ],
   "source": [
    "# let's apply decision tree model\n",
    "\n",
    "dc = DecisionTreeClassifier()\n",
    "max_accuracyscore(dc,x,y)"
   ]
  },
  {
   "cell_type": "code",
   "execution_count": 53,
   "metadata": {},
   "outputs": [
    {
     "data": {
      "text/plain": [
       "{'n_estimators': 100}"
      ]
     },
     "execution_count": 53,
     "metadata": {},
     "output_type": "execute_result"
    }
   ],
   "source": [
    "#lets use random forest classifier model to increase accuracy\n",
    "\n",
    "parameters={\"n_estimators\":[10,100,500]}\n",
    "rf=RandomForestClassifier()\n",
    "Gcv = GridSearchCV(rf, parameters, cv=5,scoring=\"accuracy\")\n",
    "Gcv.fit(x,y)\n",
    "Gcv.best_params_"
   ]
  },
  {
   "cell_type": "code",
   "execution_count": 54,
   "metadata": {},
   "outputs": [
    {
     "name": "stdout",
     "output_type": "stream",
     "text": [
      "max Accuracy_Score corresponding to  68  is  0.8148148148148148\n"
     ]
    },
    {
     "data": {
      "text/plain": [
       "68"
      ]
     },
     "execution_count": 54,
     "metadata": {},
     "output_type": "execute_result"
    }
   ],
   "source": [
    "rf=RandomForestClassifier(n_estimators=500)\n",
    "max_accuracyscore(rf,x,y)"
   ]
  },
  {
   "cell_type": "code",
   "execution_count": 55,
   "metadata": {},
   "outputs": [
    {
     "name": "stdout",
     "output_type": "stream",
     "text": [
      "Mean accuracy score for RandomForest:  0.763265306122449\n",
      "standard deviation in accuracy score for RandomForest:  0.006920744880740087\n",
      "\n",
      "\n",
      "cross val RandomForest: [0.77040816 0.76530612 0.75510204 0.76530612 0.75510204]\n"
     ]
    }
   ],
   "source": [
    "# lets check cross val score and mean accuracy of cross val score\n",
    "print(\"Mean accuracy score for RandomForest: \",cross_val_score(rf,x,y,cv=5,scoring=\"accuracy\").mean())\n",
    "print(\"standard deviation in accuracy score for RandomForest: \",cross_val_score(rf,x,y,cv=5,scoring=\"accuracy\").std())\n",
    "print('\\n')\n",
    "print('cross val RandomForest:',cross_val_score(rf,x,y,cv=5,scoring=\"accuracy\"))"
   ]
  },
  {
   "cell_type": "code",
   "execution_count": 57,
   "metadata": {},
   "outputs": [
    {
     "name": "stdout",
     "output_type": "stream",
     "text": [
      "max Accuracy_Score corresponding to  63  is  0.8240740740740741\n"
     ]
    },
    {
     "data": {
      "text/plain": [
       "63"
      ]
     },
     "execution_count": 57,
     "metadata": {},
     "output_type": "execute_result"
    }
   ],
   "source": [
    "# let's use Bernoulli Naive Bayes model\n",
    "\n",
    "from sklearn.naive_bayes import GaussianNB\n",
    "\n",
    "Gan = GaussianNB()\n",
    "max_accuracyscore(Gan,x,y)"
   ]
  },
  {
   "cell_type": "code",
   "execution_count": 60,
   "metadata": {},
   "outputs": [
    {
     "name": "stdout",
     "output_type": "stream",
     "text": [
      "Mean accuracy score for GaussianNB:  0.7612244897959184\n",
      "standard deviation in accuracy score for GaussianNB:  0.025489787748564873\n",
      "\n",
      "\n",
      "cross val accuracy score: [0.73469388 0.75       0.73979592 0.78061224 0.80102041]\n"
     ]
    }
   ],
   "source": [
    "print(\"Mean accuracy score for GaussianNB: \",cross_val_score(Gan,x,y,cv=5,scoring=\"accuracy\").mean())\n",
    "print(\"standard deviation in accuracy score for GaussianNB: \",cross_val_score(Gan,x,y,cv=5,scoring=\"accuracy\").std())\n",
    "print('\\n')\n",
    "print('cross val accuracy score:',cross_val_score(Gan,x,y,cv=5,scoring=\"accuracy\"))\n"
   ]
  },
  {
   "cell_type": "markdown",
   "metadata": {},
   "source": [
    "# I used multiple algorithms to get highest accuracy score corresponding to random state hyperameter tune and gridsearchcv tune.\n",
    "\n",
    "we seen till now SVC is best model as comparision to other model which are apply in this because we got max accuracy score is 83% at random state 59 and also get high cross val accuracy score 77%\n",
    "\n",
    "So we save model SVC for production."
   ]
  },
  {
   "cell_type": "code",
   "execution_count": 61,
   "metadata": {},
   "outputs": [
    {
     "name": "stdout",
     "output_type": "stream",
     "text": [
      "Confusion matrix \n",
      " [[144  22]\n",
      " [ 14  36]]\n",
      "classification report \n",
      "               precision    recall  f1-score   support\n",
      "\n",
      "           0       0.91      0.87      0.89       166\n",
      "           1       0.62      0.72      0.67        50\n",
      "\n",
      "    accuracy                           0.83       216\n",
      "   macro avg       0.77      0.79      0.78       216\n",
      "weighted avg       0.84      0.83      0.84       216\n",
      "\n",
      "Mean accuracy score for SVC:  0.7765306122448979\n",
      "standard deviation in accuracy score for SVC:  0.026095330311315154\n",
      "\n",
      "\n",
      "cross val accuracy score: [0.75510204 0.79081633 0.76020408 0.82142857 0.75510204]\n"
     ]
    }
   ],
   "source": [
    "# let's create final model\n",
    "x_train, x_test, y_train, y_test = train_test_split(x, y,random_state =59,test_size=0.22)\n",
    "svc=SVC(kernel=\"linear\",C=1,probability=True)\n",
    "svc.fit(x_train,y_train)\n",
    "y_pred=svc.predict(x_test)\n",
    "a_score=accuracy_score(y_test,y_pred)\n",
    "print(\"Confusion matrix \\n\",confusion_matrix(y_test,y_pred))\n",
    "print(\"classification report \\n\",classification_report(y_test,y_pred))\n",
    "\n",
    "# lets check cross val score and mean accuracy of cross val score\n",
    "\n",
    "print(\"Mean accuracy score for SVC: \",cross_val_score(svc,x,y,cv=5,scoring=\"accuracy\").mean())\n",
    "print(\"standard deviation in accuracy score for SVC: \",cross_val_score(svc,x,y,cv=5,scoring=\"accuracy\").std())\n",
    "print('\\n')\n",
    "print('cross val accuracy score:',cross_val_score(svc,x,y,cv=5,scoring=\"accuracy\"))\n"
   ]
  },
  {
   "cell_type": "code",
   "execution_count": 62,
   "metadata": {},
   "outputs": [],
   "source": [
    "# let's draw roc_auc_curve for Logistic regression model because it is our final model \n",
    "\n",
    "from sklearn.metrics import roc_curve,roc_auc_score\n",
    "\n",
    "y_pred_prob=svc.predict_proba(x_test)[:,1]\n",
    "\n",
    "#predict_proba function will take test data and try to predict internaly the higher level of queue of given test data"
   ]
  },
  {
   "cell_type": "code",
   "execution_count": 63,
   "metadata": {},
   "outputs": [],
   "source": [
    "pr,tpr,treshold = roc_curve(y_test,y_pred_prob) # text actual with predicted probality y"
   ]
  },
  {
   "cell_type": "code",
   "execution_count": 64,
   "metadata": {},
   "outputs": [
    {
     "data": {
      "image/png": "[encoded data removed]",
      "text/plain": [
       "<Figure size 432x288 with 1 Axes>"
      ]
     },
     "metadata": {
      "needs_background": "light"
     },
     "output_type": "display_data"
    }
   ],
   "source": [
    "y_pred_prob=svc.predict_proba(x_test)[:,1]\n",
    "fpr,tpr,treshold = roc_curve(y_test,y_pred_prob)\n",
    "plt.plot([0,1],[0,1],'k--')\n",
    "plt.plot(fpr,tpr,label='SVC')\n",
    "plt.xlabel('False Positive Rate')\n",
    "plt.ylabel(' Positive Rate')\n",
    "plt.title('Support Vactor Classifier')\n",
    "plt.show()"
   ]
  },
  {
   "cell_type": "code",
   "execution_count": 65,
   "metadata": {},
   "outputs": [
    {
     "data": {
      "text/plain": [
       "0.7937349397590361"
      ]
     },
     "execution_count": 65,
     "metadata": {},
     "output_type": "execute_result"
    }
   ],
   "source": [
    "# let's check roc_auc _score \n",
    "\n",
    "auc_score= roc_auc_score(y_test,svc.predict(x_test))\n",
    "auc_score"
   ]
  },
  {
   "cell_type": "code",
   "execution_count": 67,
   "metadata": {},
   "outputs": [
    {
     "data": {
      "text/plain": [
       "['Auto_Claim_Fraud.pkl']"
      ]
     },
     "execution_count": 67,
     "metadata": {},
     "output_type": "execute_result"
    }
   ],
   "source": [
    "from sklearn.externals import joblib\n",
    "# save the model as a pickle in a file\n",
    "joblib.dump(svc,'Auto_Claim_Fraud.pkl')"
   ]
  },
  {
   "cell_type": "code",
   "execution_count": null,
   "metadata": {},
   "outputs": [],
   "source": []
  }
 ],
 "metadata": {
  "kernelspec": {
   "display_name": "Python 3",
   "language": "python",
   "name": "python3"
  },
  "language_info": {
   "codemirror_mode": {
    "name": "ipython",
    "version": 3
   },
   "file_extension": ".py",
   "mimetype": "text/x-python",
   "name": "python",
   "nbconvert_exporter": "python",
   "pygments_lexer": "ipython3",
   "version": "3.7.6"
  }
 },
 "nbformat": 4,
 "nbformat_minor": 4
}
